{
 "cells": [
  {
   "cell_type": "markdown",
   "metadata": {},
   "source": [
    "# PVSystem"
   ]
  },
  {
   "cell_type": "raw",
   "metadata": {
    "raw_mimetype": "text/restructuredtext"
   },
   "source": [
    "The :py:class:`~.pvsystem.PVSystem` class is a wrapper for many of the functions in the :py:mod:`~.pvsystem` module. The class separates the intrinsic attributes of a PV system from the extrinsic environment that it is subject to. This guide aims to build users' understanding of the PVSystem class. It assumes some familiarity with object-oriented code in Python, but most information should be understandable even without a solid understanding of classes. See the ModelChain documentation for a similar guide focused on using PVSystem objects in time series modeling applications."
   ]
  },
  {
   "cell_type": "code",
   "execution_count": null,
   "metadata": {},
   "outputs": [],
   "source": []
  }
 ],
 "metadata": {
  "celltoolbar": "Raw Cell Format",
  "kernelspec": {
   "display_name": "Python 3",
   "language": "python",
   "name": "python3"
  },
  "language_info": {
   "codemirror_mode": {
    "name": "ipython",
    "version": 3
   },
   "file_extension": ".py",
   "mimetype": "text/x-python",
   "name": "python",
   "nbconvert_exporter": "python",
   "pygments_lexer": "ipython3",
   "version": "3.6.6"
  }
 },
 "nbformat": 4,
 "nbformat_minor": 2
}
