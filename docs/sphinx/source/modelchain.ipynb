{
 "cells": [
  {
   "cell_type": "markdown",
   "metadata": {},
   "source": [
    "# ModelChain"
   ]
  },
  {
   "cell_type": "raw",
   "metadata": {
    "raw_mimetype": "text/restructuredtext"
   },
   "source": [
    "The :py:class:`~.modelchain.ModelChain` class provides a high-level interface for standardized PV modeling. The class aims to automate much of the modeling process while providing user-control and remaining extensible. This guide aims to build users' understanding of the ModelChain class. It assumes some familiarity with object-oriented code in Python, but most information should be understandable even without a solid understanding of classes.\n",
    "\n",
    "A :py:class:`~.modelchain.ModelChain` is composed of a :py:class:`~.pvsystem.PVSystem` object and a :py:class:`~.location.Location` object. A PVSystem object represents an assembled collection of modules, inverters, etc., a Location object represents a particular place on the planet, and a ModelChain object describes the modeling chain used to calculate a system's output at that location. The PVSystem and Location objects will be described in detail in another guide.\n",
    "\n",
    "Modeling with a :py:class:`~.ModelChain` typically involves 3 steps:\n",
    "\n",
    "1. Creating the :py:class:`~.ModelChain`.\n",
    "2. Executing the :py:meth:`ModelChain.run_model() <.ModelChain.run_model>` method with prepared weather data.\n",
    "3. Examining the model results that :py:meth:`~.ModelChain.run_model` stored in attributes of the :py:class:`~.ModelChain`."
   ]
  },
  {
   "cell_type": "markdown",
   "metadata": {},
   "source": [
    "## A simple ModelChain example\n",
    "\n",
    "Before delving into the intricacies of ModelChain, we provide a brief example of the modeling steps using ModelChain. First, we import pvlib's objects, module data, and inverter data."
   ]
  },
  {
   "cell_type": "code",
   "execution_count": 1,
   "metadata": {},
   "outputs": [],
   "source": [
    "import pandas as pd\n",
    "import numpy as np\n",
    "\n",
    "# pvlib imports\n",
    "import pvlib\n",
    "\n",
    "from pvlib.pvsystem import PVSystem\n",
    "from pvlib.location import Location\n",
    "from pvlib.modelchain import ModelChain\n",
    "\n",
    "# load some module and inverter specifications\n",
    "sandia_modules = pvlib.pvsystem.retrieve_sam('SandiaMod')\n",
    "cec_inverters = pvlib.pvsystem.retrieve_sam('cecinverter')\n",
    "\n",
    "sandia_module = sandia_modules['Canadian_Solar_CS5P_220M___2009_']\n",
    "cec_inverter = cec_inverters['ABB__MICRO_0_25_I_OUTD_US_208_208V__CEC_2014_']"
   ]
  },
  {
   "cell_type": "markdown",
   "metadata": {},
   "source": [
    "Now we create a Location object, a PVSystem object, and a ModelChain object."
   ]
  },
  {
   "cell_type": "code",
   "execution_count": 2,
   "metadata": {},
   "outputs": [],
   "source": [
    "location = Location(latitude=32.2, longitude=-110.9)\n",
    "system = PVSystem(surface_tilt=20, surface_azimuth=200, \n",
    "                  module_parameters=sandia_module,\n",
    "                  inverter_parameters=cec_inverter)\n",
    "mc = ModelChain(system, location)"
   ]
  },
  {
   "cell_type": "markdown",
   "metadata": {},
   "source": [
    "Printing a ModelChain object will display its models."
   ]
  },
  {
   "cell_type": "code",
   "execution_count": 3,
   "metadata": {},
   "outputs": [
    {
     "name": "stdout",
     "output_type": "stream",
     "text": [
      "ModelChain: \n",
      "  name: None\n",
      "  orientation_strategy: None\n",
      "  clearsky_model: ineichen\n",
      "  transposition_model: haydavies\n",
      "  solar_position_method: nrel_numpy\n",
      "  airmass_model: kastenyoung1989\n",
      "  dc_model: sapm\n",
      "  ac_model: snlinverter\n",
      "  aoi_model: sapm_aoi_loss\n",
      "  spectral_model: sapm_spectral_loss\n",
      "  temp_model: sapm_temp\n",
      "  losses_model: no_extra_losses\n"
     ]
    }
   ],
   "source": [
    "print(mc)"
   ]
  },
  {
   "cell_type": "markdown",
   "metadata": {},
   "source": [
    "Next, we run a model with some simple weather data."
   ]
  },
  {
   "cell_type": "code",
   "execution_count": 4,
   "metadata": {},
   "outputs": [],
   "source": [
    "weather = pd.DataFrame([[1050, 1000, 100, 30, 5]], \n",
    "                       columns=['ghi', 'dni', 'dhi', 'temp_air', 'wind_speed'], \n",
    "                       index=[pd.Timestamp('20170401 1200', tz='US/Arizona')])\n",
    "\n",
    "mc.run_model(times=weather.index, weather=weather);"
   ]
  },
  {
   "cell_type": "markdown",
   "metadata": {},
   "source": [
    "ModelChain stores the modeling results on a series of attributes. A few examples are shown below."
   ]
  },
  {
   "cell_type": "code",
   "execution_count": 5,
   "metadata": {},
   "outputs": [
    {
     "data": {
      "text/plain": [
       "2017-04-01 12:00:00-07:00    15.929176\n",
       "Name: aoi, dtype: float64"
      ]
     },
     "execution_count": 5,
     "metadata": {},
     "output_type": "execute_result"
    }
   ],
   "source": [
    "mc.aoi"
   ]
  },
  {
   "cell_type": "code",
   "execution_count": 6,
   "metadata": {},
   "outputs": [
    {
     "data": {
      "text/html": [
       "<div>\n",
       "<style scoped>\n",
       "    .dataframe tbody tr th:only-of-type {\n",
       "        vertical-align: middle;\n",
       "    }\n",
       "\n",
       "    .dataframe tbody tr th {\n",
       "        vertical-align: top;\n",
       "    }\n",
       "\n",
       "    .dataframe thead th {\n",
       "        text-align: right;\n",
       "    }\n",
       "</style>\n",
       "<table border=\"1\" class=\"dataframe\">\n",
       "  <thead>\n",
       "    <tr style=\"text-align: right;\">\n",
       "      <th></th>\n",
       "      <th>i_sc</th>\n",
       "      <th>i_mp</th>\n",
       "      <th>v_oc</th>\n",
       "      <th>v_mp</th>\n",
       "      <th>p_mp</th>\n",
       "      <th>i_x</th>\n",
       "      <th>i_xx</th>\n",
       "    </tr>\n",
       "  </thead>\n",
       "  <tbody>\n",
       "    <tr>\n",
       "      <th>2017-04-01 12:00:00-07:00</th>\n",
       "      <td>5.485958</td>\n",
       "      <td>4.860317</td>\n",
       "      <td>52.319047</td>\n",
       "      <td>40.585752</td>\n",
       "      <td>197.259628</td>\n",
       "      <td>5.363079</td>\n",
       "      <td>3.401315</td>\n",
       "    </tr>\n",
       "  </tbody>\n",
       "</table>\n",
       "</div>"
      ],
      "text/plain": [
       "                               i_sc      i_mp       v_oc       v_mp  \\\n",
       "2017-04-01 12:00:00-07:00  5.485958  4.860317  52.319047  40.585752   \n",
       "\n",
       "                                 p_mp       i_x      i_xx  \n",
       "2017-04-01 12:00:00-07:00  197.259628  5.363079  3.401315  "
      ]
     },
     "execution_count": 6,
     "metadata": {},
     "output_type": "execute_result"
    }
   ],
   "source": [
    "mc.dc"
   ]
  },
  {
   "cell_type": "code",
   "execution_count": 7,
   "metadata": {},
   "outputs": [
    {
     "data": {
      "text/plain": [
       "2017-04-01 12:00:00-07:00    189.915445\n",
       "dtype: float64"
      ]
     },
     "execution_count": 7,
     "metadata": {},
     "output_type": "execute_result"
    }
   ],
   "source": [
    "mc.ac"
   ]
  },
  {
   "cell_type": "markdown",
   "metadata": {},
   "source": [
    "The remainder of this guide examines the ModelChain functionality and explores common pitfalls."
   ]
  },
  {
   "cell_type": "markdown",
   "metadata": {},
   "source": [
    "## Defining a ModelChain"
   ]
  },
  {
   "cell_type": "raw",
   "metadata": {
    "raw_mimetype": "text/restructuredtext"
   },
   "source": [
    "A :py:class:`~pvlib.modelchain.ModelChain` object is defined by:\n",
    "\n",
    "1. The properties of its :py:class:`~pvlib.pvsystem.PVSystem` and :py:class:`~pvlib.location.Location` objects\n",
    "2. The keyword arguments passed to it at construction\n",
    "\n",
    "ModelChain uses the keyword arguments passed to it to determine the models for the simulation. The documentation describes the allowed values for each keyword argument. If a keyword argument is not supplied, ModelChain will attempt to infer the correct set of models by inspecting the Location and PVSystem attributes. \n",
    "\n",
    "Below, we show some examples of how to define a ModelChain."
   ]
  },
  {
   "cell_type": "markdown",
   "metadata": {},
   "source": [
    "Let's make the most basic Location and PVSystem objects and build from there."
   ]
  },
  {
   "cell_type": "code",
   "execution_count": 8,
   "metadata": {},
   "outputs": [
    {
     "name": "stdout",
     "output_type": "stream",
     "text": [
      "Location: \n",
      "  name: None\n",
      "  latitude: 32.2\n",
      "  longitude: -110.9\n",
      "  altitude: 0\n",
      "  tz: UTC\n",
      "PVSystem: \n",
      "  name: None\n",
      "  surface_tilt: 0\n",
      "  surface_azimuth: 180\n",
      "  module: None\n",
      "  inverter: None\n",
      "  albedo: 0.25\n",
      "  racking_model: open_rack_cell_glassback\n"
     ]
    }
   ],
   "source": [
    "location = Location(32.2, -110.9)\n",
    "poorly_specified_system = PVSystem()\n",
    "print(location)\n",
    "print(poorly_specified_system)"
   ]
  },
  {
   "cell_type": "markdown",
   "metadata": {},
   "source": [
    "These basic objects do not have enough information for ModelChain to be able to automatically determine its set of models, so the ModelChain will throw an error when we try to create it."
   ]
  },
  {
   "cell_type": "code",
   "execution_count": 9,
   "metadata": {},
   "outputs": [
    {
     "ename": "ValueError",
     "evalue": "could not infer DC model from system.module_parameters",
     "output_type": "error",
     "traceback": [
      "\u001b[0;31m---------------------------------------------------------------------------\u001b[0m",
      "\u001b[0;31mValueError\u001b[0m                                Traceback (most recent call last)",
      "\u001b[0;32m<ipython-input-9-4e9151e6ff63>\u001b[0m in \u001b[0;36m<module>\u001b[0;34m()\u001b[0m\n\u001b[0;32m----> 1\u001b[0;31m \u001b[0mModelChain\u001b[0m\u001b[0;34m(\u001b[0m\u001b[0mpoorly_specified_system\u001b[0m\u001b[0;34m,\u001b[0m \u001b[0mlocation\u001b[0m\u001b[0;34m)\u001b[0m\u001b[0;34m\u001b[0m\u001b[0m\n\u001b[0m",
      "\u001b[0;32m~/Documents/IMS/SolarPV/PVfit/pvlib-python/pvlib/modelchain.py\u001b[0m in \u001b[0;36m__init__\u001b[0;34m(self, system, location, orientation_strategy, clearsky_model, transposition_model, solar_position_method, airmass_model, dc_model, ac_model, aoi_model, spectral_model, temp_model, losses_model, name, **kwargs)\u001b[0m\n\u001b[1;32m    309\u001b[0m \u001b[0;34m\u001b[0m\u001b[0m\n\u001b[1;32m    310\u001b[0m         \u001b[0;31m# calls setters\u001b[0m\u001b[0;34m\u001b[0m\u001b[0;34m\u001b[0m\u001b[0m\n\u001b[0;32m--> 311\u001b[0;31m         \u001b[0mself\u001b[0m\u001b[0;34m.\u001b[0m\u001b[0mdc_model\u001b[0m \u001b[0;34m=\u001b[0m \u001b[0mdc_model\u001b[0m\u001b[0;34m\u001b[0m\u001b[0m\n\u001b[0m\u001b[1;32m    312\u001b[0m         \u001b[0mself\u001b[0m\u001b[0;34m.\u001b[0m\u001b[0mac_model\u001b[0m \u001b[0;34m=\u001b[0m \u001b[0mac_model\u001b[0m\u001b[0;34m\u001b[0m\u001b[0m\n\u001b[1;32m    313\u001b[0m         \u001b[0mself\u001b[0m\u001b[0;34m.\u001b[0m\u001b[0maoi_model\u001b[0m \u001b[0;34m=\u001b[0m \u001b[0maoi_model\u001b[0m\u001b[0;34m\u001b[0m\u001b[0m\n",
      "\u001b[0;32m~/Documents/IMS/SolarPV/PVfit/pvlib-python/pvlib/modelchain.py\u001b[0m in \u001b[0;36mdc_model\u001b[0;34m(self, model)\u001b[0m\n\u001b[1;32m    363\u001b[0m     \u001b[0;32mdef\u001b[0m \u001b[0mdc_model\u001b[0m\u001b[0;34m(\u001b[0m\u001b[0mself\u001b[0m\u001b[0;34m,\u001b[0m \u001b[0mmodel\u001b[0m\u001b[0;34m)\u001b[0m\u001b[0;34m:\u001b[0m\u001b[0;34m\u001b[0m\u001b[0m\n\u001b[1;32m    364\u001b[0m         \u001b[0;32mif\u001b[0m \u001b[0mmodel\u001b[0m \u001b[0;32mis\u001b[0m \u001b[0;32mNone\u001b[0m\u001b[0;34m:\u001b[0m\u001b[0;34m\u001b[0m\u001b[0m\n\u001b[0;32m--> 365\u001b[0;31m             \u001b[0mself\u001b[0m\u001b[0;34m.\u001b[0m\u001b[0m_dc_model\u001b[0m \u001b[0;34m=\u001b[0m \u001b[0mself\u001b[0m\u001b[0;34m.\u001b[0m\u001b[0minfer_dc_model\u001b[0m\u001b[0;34m(\u001b[0m\u001b[0;34m)\u001b[0m\u001b[0;34m\u001b[0m\u001b[0m\n\u001b[0m\u001b[1;32m    366\u001b[0m         \u001b[0;32melif\u001b[0m \u001b[0misinstance\u001b[0m\u001b[0;34m(\u001b[0m\u001b[0mmodel\u001b[0m\u001b[0;34m,\u001b[0m \u001b[0mstr\u001b[0m\u001b[0;34m)\u001b[0m\u001b[0;34m:\u001b[0m\u001b[0;34m\u001b[0m\u001b[0m\n\u001b[1;32m    367\u001b[0m             \u001b[0mmodel\u001b[0m \u001b[0;34m=\u001b[0m \u001b[0mmodel\u001b[0m\u001b[0;34m.\u001b[0m\u001b[0mlower\u001b[0m\u001b[0;34m(\u001b[0m\u001b[0;34m)\u001b[0m\u001b[0;34m\u001b[0m\u001b[0m\n",
      "\u001b[0;32m~/Documents/IMS/SolarPV/PVfit/pvlib-python/pvlib/modelchain.py\u001b[0m in \u001b[0;36minfer_dc_model\u001b[0;34m(self)\u001b[0m\n\u001b[1;32m    386\u001b[0m             \u001b[0;32mreturn\u001b[0m \u001b[0mself\u001b[0m\u001b[0;34m.\u001b[0m\u001b[0mpvwatts_dc\u001b[0m\u001b[0;34m\u001b[0m\u001b[0m\n\u001b[1;32m    387\u001b[0m         \u001b[0;32melse\u001b[0m\u001b[0;34m:\u001b[0m\u001b[0;34m\u001b[0m\u001b[0m\n\u001b[0;32m--> 388\u001b[0;31m             raise ValueError('could not infer DC model from '\n\u001b[0m\u001b[1;32m    389\u001b[0m                              'system.module_parameters')\n\u001b[1;32m    390\u001b[0m \u001b[0;34m\u001b[0m\u001b[0m\n",
      "\u001b[0;31mValueError\u001b[0m: could not infer DC model from system.module_parameters"
     ]
    }
   ],
   "source": [
    "ModelChain(poorly_specified_system, location)"
   ]
  },
  {
   "cell_type": "markdown",
   "metadata": {},
   "source": [
    "If our goal is simply to get the object constructed, we can specify the models that the ModelChain should use. We'll have to fill in missing data on the PVSystem object later, but maybe that's desirable in some workflows."
   ]
  },
  {
   "cell_type": "code",
   "execution_count": 10,
   "metadata": {},
   "outputs": [
    {
     "name": "stdout",
     "output_type": "stream",
     "text": [
      "ModelChain: \n",
      "  name: None\n",
      "  orientation_strategy: None\n",
      "  clearsky_model: ineichen\n",
      "  transposition_model: haydavies\n",
      "  solar_position_method: nrel_numpy\n",
      "  airmass_model: kastenyoung1989\n",
      "  dc_model: singlediode\n",
      "  ac_model: snlinverter\n",
      "  aoi_model: physical_aoi_loss\n",
      "  spectral_model: no_spectral_loss\n",
      "  temp_model: sapm_temp\n",
      "  losses_model: no_extra_losses\n"
     ]
    }
   ],
   "source": [
    "mc = ModelChain(poorly_specified_system, location, \n",
    "                dc_model='singlediode', ac_model='snlinverter', \n",
    "                aoi_model='physical', spectral_model='no_loss')\n",
    "print(mc)"
   ]
  },
  {
   "cell_type": "raw",
   "metadata": {
    "raw_mimetype": "text/restructuredtext"
   },
   "source": [
    "As expected, without additional information, the :py:meth:`~.ModelChain.run_model` method fails at run time."
   ]
  },
  {
   "cell_type": "code",
   "execution_count": 11,
   "metadata": {},
   "outputs": [
    {
     "ename": "TypeError",
     "evalue": "calcparams_desoto() missing 6 required positional arguments: 'alpha_sc', 'a_ref', 'I_L_ref', 'I_o_ref', 'R_sh_ref', and 'R_s'",
     "output_type": "error",
     "traceback": [
      "\u001b[0;31m---------------------------------------------------------------------------\u001b[0m",
      "\u001b[0;31mTypeError\u001b[0m                                 Traceback (most recent call last)",
      "\u001b[0;32m<ipython-input-11-669fff3a00c3>\u001b[0m in \u001b[0;36m<module>\u001b[0;34m()\u001b[0m\n\u001b[0;32m----> 1\u001b[0;31m \u001b[0mmc\u001b[0m\u001b[0;34m.\u001b[0m\u001b[0mrun_model\u001b[0m\u001b[0;34m(\u001b[0m\u001b[0mtimes\u001b[0m\u001b[0;34m=\u001b[0m\u001b[0mweather\u001b[0m\u001b[0;34m.\u001b[0m\u001b[0mindex\u001b[0m\u001b[0;34m,\u001b[0m \u001b[0mweather\u001b[0m\u001b[0;34m=\u001b[0m\u001b[0mweather\u001b[0m\u001b[0;34m)\u001b[0m\u001b[0;34m\u001b[0m\u001b[0m\n\u001b[0m",
      "\u001b[0;32m~/Documents/IMS/SolarPV/PVfit/pvlib-python/pvlib/modelchain.py\u001b[0m in \u001b[0;36mrun_model\u001b[0;34m(self, times, weather, pv_ref_device)\u001b[0m\n\u001b[1;32m    848\u001b[0m             \u001b[0mself\u001b[0m\u001b[0;34m.\u001b[0m\u001b[0meffective_irradiance_model\u001b[0m\u001b[0;34m(\u001b[0m\u001b[0;34m)\u001b[0m\u001b[0;34m\u001b[0m\u001b[0m\n\u001b[1;32m    849\u001b[0m             \u001b[0mself\u001b[0m\u001b[0;34m.\u001b[0m\u001b[0mtemp_model\u001b[0m\u001b[0;34m(\u001b[0m\u001b[0;34m)\u001b[0m\u001b[0;34m\u001b[0m\u001b[0m\n\u001b[0;32m--> 850\u001b[0;31m         \u001b[0mself\u001b[0m\u001b[0;34m.\u001b[0m\u001b[0mdc_model\u001b[0m\u001b[0;34m(\u001b[0m\u001b[0;34m)\u001b[0m\u001b[0;34m\u001b[0m\u001b[0m\n\u001b[0m\u001b[1;32m    851\u001b[0m         \u001b[0mself\u001b[0m\u001b[0;34m.\u001b[0m\u001b[0mac_model\u001b[0m\u001b[0;34m(\u001b[0m\u001b[0;34m)\u001b[0m\u001b[0;34m\u001b[0m\u001b[0m\n\u001b[1;32m    852\u001b[0m         \u001b[0mself\u001b[0m\u001b[0;34m.\u001b[0m\u001b[0mlosses_model\u001b[0m\u001b[0;34m(\u001b[0m\u001b[0;34m)\u001b[0m\u001b[0;34m\u001b[0m\u001b[0m\n",
      "\u001b[0;32m~/Documents/IMS/SolarPV/PVfit/pvlib-python/pvlib/modelchain.py\u001b[0m in \u001b[0;36msinglediode\u001b[0;34m(self)\u001b[0m\n\u001b[1;32m    401\u001b[0m          \u001b[0mresistance_shunt\u001b[0m\u001b[0;34m,\u001b[0m \u001b[0mnNsVth\u001b[0m\u001b[0;34m)\u001b[0m \u001b[0;34m=\u001b[0m \u001b[0;34m(\u001b[0m\u001b[0;34m\u001b[0m\u001b[0m\n\u001b[1;32m    402\u001b[0m             self.system.calcparams_desoto(self.effective_irradiance,\n\u001b[0;32m--> 403\u001b[0;31m                                           self.temps['temp_cell']))\n\u001b[0m\u001b[1;32m    404\u001b[0m \u001b[0;34m\u001b[0m\u001b[0m\n\u001b[1;32m    405\u001b[0m         self.desoto = (photocurrent, saturation_current, resistance_series,\n",
      "\u001b[0;32m~/Documents/IMS/SolarPV/PVfit/pvlib-python/pvlib/pvsystem.py\u001b[0m in \u001b[0;36mcalcparams_desoto\u001b[0;34m(self, effective_irradiance, temp_cell)\u001b[0m\n\u001b[1;32m    304\u001b[0m                                self.module_parameters)\n\u001b[1;32m    305\u001b[0m \u001b[0;34m\u001b[0m\u001b[0m\n\u001b[0;32m--> 306\u001b[0;31m         \u001b[0;32mreturn\u001b[0m \u001b[0mcalcparams_desoto\u001b[0m\u001b[0;34m(\u001b[0m\u001b[0meffective_irradiance\u001b[0m\u001b[0;34m,\u001b[0m \u001b[0mtemp_cell\u001b[0m\u001b[0;34m,\u001b[0m \u001b[0;34m**\u001b[0m\u001b[0mkwargs\u001b[0m\u001b[0;34m)\u001b[0m\u001b[0;34m\u001b[0m\u001b[0m\n\u001b[0m\u001b[1;32m    307\u001b[0m \u001b[0;34m\u001b[0m\u001b[0m\n\u001b[1;32m    308\u001b[0m     \u001b[0;32mdef\u001b[0m \u001b[0msapm\u001b[0m\u001b[0;34m(\u001b[0m\u001b[0mself\u001b[0m\u001b[0;34m,\u001b[0m \u001b[0meffective_irradiance\u001b[0m\u001b[0;34m,\u001b[0m \u001b[0mtemp_cell\u001b[0m\u001b[0;34m,\u001b[0m \u001b[0;34m**\u001b[0m\u001b[0mkwargs\u001b[0m\u001b[0;34m)\u001b[0m\u001b[0;34m:\u001b[0m\u001b[0;34m\u001b[0m\u001b[0m\n",
      "\u001b[0;31mTypeError\u001b[0m: calcparams_desoto() missing 6 required positional arguments: 'alpha_sc', 'a_ref', 'I_L_ref', 'I_o_ref', 'R_sh_ref', and 'R_s'"
     ]
    }
   ],
   "source": [
    "mc.run_model(times=weather.index, weather=weather)"
   ]
  },
  {
   "cell_type": "raw",
   "metadata": {
    "raw_mimetype": "text/restructuredtext"
   },
   "source": [
    "The ModelChain attempted to execute the PVSystem object's :py:meth:`~pvlib.pvsystem.PVSystem.singlediode` method, and the method failed because the object's ``module_parameters`` did not include the data necessary to run the model. "
   ]
  },
  {
   "cell_type": "markdown",
   "metadata": {},
   "source": [
    "Next, we define a PVSystem with a module from the SAPM database and an inverter from the CEC database. ModelChain will examine the PVSystem object's properties and determine that it should choose the SAPM DC model, AC model, AOI loss model, and spectral loss model."
   ]
  },
  {
   "cell_type": "code",
   "execution_count": 12,
   "metadata": {},
   "outputs": [
    {
     "name": "stdout",
     "output_type": "stream",
     "text": [
      "ModelChain: \n",
      "  name: None\n",
      "  orientation_strategy: None\n",
      "  clearsky_model: ineichen\n",
      "  transposition_model: haydavies\n",
      "  solar_position_method: nrel_numpy\n",
      "  airmass_model: kastenyoung1989\n",
      "  dc_model: sapm\n",
      "  ac_model: snlinverter\n",
      "  aoi_model: sapm_aoi_loss\n",
      "  spectral_model: sapm_spectral_loss\n",
      "  temp_model: sapm_temp\n",
      "  losses_model: no_extra_losses\n"
     ]
    }
   ],
   "source": [
    "sapm_system = PVSystem(module_parameters=sandia_module, inverter_parameters=cec_inverter)\n",
    "mc = ModelChain(system, location)\n",
    "print(mc)"
   ]
  },
  {
   "cell_type": "code",
   "execution_count": 13,
   "metadata": {},
   "outputs": [
    {
     "data": {
      "text/plain": [
       "2017-04-01 12:00:00-07:00    189.915445\n",
       "dtype: float64"
      ]
     },
     "execution_count": 13,
     "metadata": {},
     "output_type": "execute_result"
    }
   ],
   "source": [
    "mc.run_model(times=weather.index, weather=weather)\n",
    "mc.ac"
   ]
  },
  {
   "cell_type": "markdown",
   "metadata": {},
   "source": [
    "Alternatively, we could have specified single diode or PVWatts related information in the PVSystem construction. Here we pass PVWatts data to the PVSystem. ModelChain will automatically determine that it should choose PVWatts DC and AC models. ModelChain still needs us to specify ``aoi_model`` and ``spectral_model`` keyword arguments because the ``system.module_parameters`` dictionary does not contain enough information to determine which of those models to choose."
   ]
  },
  {
   "cell_type": "code",
   "execution_count": 14,
   "metadata": {},
   "outputs": [
    {
     "name": "stdout",
     "output_type": "stream",
     "text": [
      "ModelChain: \n",
      "  name: None\n",
      "  orientation_strategy: None\n",
      "  clearsky_model: ineichen\n",
      "  transposition_model: haydavies\n",
      "  solar_position_method: nrel_numpy\n",
      "  airmass_model: kastenyoung1989\n",
      "  dc_model: pvwatts_dc\n",
      "  ac_model: pvwatts_inverter\n",
      "  aoi_model: physical_aoi_loss\n",
      "  spectral_model: no_spectral_loss\n",
      "  temp_model: sapm_temp\n",
      "  losses_model: no_extra_losses\n"
     ]
    }
   ],
   "source": [
    "pvwatts_system = PVSystem(module_parameters={'pdc0': 240, 'gamma_pdc': -0.004})\n",
    "mc = ModelChain(pvwatts_system, location, \n",
    "                aoi_model='physical', spectral_model='no_loss')\n",
    "print(mc)"
   ]
  },
  {
   "cell_type": "code",
   "execution_count": 15,
   "metadata": {},
   "outputs": [
    {
     "data": {
      "text/plain": [
       "2017-04-01 12:00:00-07:00    198.519999\n",
       "dtype: float64"
      ]
     },
     "execution_count": 15,
     "metadata": {},
     "output_type": "execute_result"
    }
   ],
   "source": [
    "mc.run_model(times=weather.index, weather=weather)\n",
    "mc.ac"
   ]
  },
  {
   "cell_type": "markdown",
   "metadata": {},
   "source": [
    "User-supplied keyword arguments override ModelChain's inspection methods. For example, we can tell ModelChain to use different loss functions for a PVSystem that contains SAPM-specific parameters. "
   ]
  },
  {
   "cell_type": "code",
   "execution_count": 16,
   "metadata": {},
   "outputs": [
    {
     "name": "stdout",
     "output_type": "stream",
     "text": [
      "ModelChain: \n",
      "  name: None\n",
      "  orientation_strategy: None\n",
      "  clearsky_model: ineichen\n",
      "  transposition_model: haydavies\n",
      "  solar_position_method: nrel_numpy\n",
      "  airmass_model: kastenyoung1989\n",
      "  dc_model: sapm\n",
      "  ac_model: snlinverter\n",
      "  aoi_model: physical_aoi_loss\n",
      "  spectral_model: no_spectral_loss\n",
      "  temp_model: sapm_temp\n",
      "  losses_model: no_extra_losses\n"
     ]
    }
   ],
   "source": [
    "sapm_system = PVSystem(module_parameters=sandia_module, inverter_parameters=cec_inverter)\n",
    "mc = ModelChain(system, location, aoi_model='physical', spectral_model='no_loss')\n",
    "print(mc)"
   ]
  },
  {
   "cell_type": "code",
   "execution_count": 17,
   "metadata": {},
   "outputs": [
    {
     "data": {
      "text/plain": [
       "2017-04-01 12:00:00-07:00    191.991429\n",
       "dtype: float64"
      ]
     },
     "execution_count": 17,
     "metadata": {},
     "output_type": "execute_result"
    }
   ],
   "source": [
    "mc.run_model(times=weather.index, weather=weather)\n",
    "mc.ac"
   ]
  },
  {
   "cell_type": "raw",
   "metadata": {
    "raw_mimetype": "text/restructuredtext"
   },
   "source": [
    "Of course, these choices can also lead to failure when executing :py:meth:`~pvlib.modelchain.ModelChain.run_model` if your system objects do not contain the required parameters for running the model."
   ]
  },
  {
   "cell_type": "markdown",
   "metadata": {},
   "source": [
    "## Demystifying ModelChain internals"
   ]
  },
  {
   "cell_type": "raw",
   "metadata": {
    "raw_mimetype": "text/restructuredtext"
   },
   "source": [
    "The ModelChain class has a lot going in inside it in order to make users' code as simple as possible.\n",
    "\n",
    "The key parts of ModelChain are:\n",
    "\n",
    "1. The :py:meth:`ModelChain.run_model() <.ModelChain.run_model>` method\n",
    "1. A set of methods that wrap and call the PVSystem methods.\n",
    "1. A set of methods that inspect user-supplied objects to determine the appropriate default models."
   ]
  },
  {
   "cell_type": "markdown",
   "metadata": {},
   "source": [
    "### run_model"
   ]
  },
  {
   "cell_type": "raw",
   "metadata": {
    "raw_mimetype": "text/restructuredtext"
   },
   "source": [
    "Most users will only interact with the :py:meth:`~pvlib.modelchain.ModelChain.run_model` method. The :py:meth:`~pvlib.modelchain.ModelChain.run_model` method, shown below, calls a series of methods to complete the modeling steps. The first method, :py:meth:`~pvlib.modelchain.ModelChain.prepare_inputs`, computes parameters such as solar position, airmass, angle of incidence, and plane of array irradiance. The :py:meth:`~pvlib.modelchain.ModelChain.prepare_inputs` method also assigns default values for irradiance (clear sky), temperature (20 C), and wind speed (0 m/s) if these inputs are not provided.\n",
    "\n",
    "Next, :py:meth:`~pvlib.modelchain.ModelChain.run_model` calls the wrapper methods for AOI loss, spectral loss, effective irradiance, cell temperature, DC power, AC power, and other losses. These methods are assigned to standard names, as described in the next section.\n",
    "\n",
    "The methods called by :py:meth:`~pvlib.modelchain.ModelChain.run_model` store their results in a series of ModelChain attributes: ``times``, ``solar_position``, ``airmass``, ``irradiance``, ``total_irrad``, ``effective_irradiance``, ``weather``, ``temps``, ``aoi``, ``aoi_modifier``, ``spectral_modifier``, ``dc``, ``ac``, ``losses``."
   ]
  },
  {
   "cell_type": "code",
   "execution_count": 18,
   "metadata": {},
   "outputs": [
    {
     "name": "stdout",
     "output_type": "stream",
     "text": [
      "In file: /home/campy/Documents/IMS/SolarPV/PVfit/pvlib-python/pvlib/modelchain.py\n",
      "\n",
      "    def run_model(self, times=None, weather=None, pv_ref_device=False):\n",
      "        \"\"\"\n",
      "        Run the model.\n",
      "\n",
      "        Parameters\n",
      "        ----------\n",
      "        times : None or DatetimeIndex, default None\n",
      "            Times at which to evaluate the model. Can be None if\n",
      "            attribute `times` is already set.\n",
      "        weather : None or DataFrame, default None\n",
      "            If None, assumes air temperature is 20 C, wind speed is 0\n",
      "            m/s and irradiation calculated from clear sky data. Column\n",
      "            names must be 'wind_speed', 'temp_air', 'dni', 'ghi', 'dhi'.\n",
      "            Do not pass incomplete irradiation data. Use method\n",
      "            :py:meth:`~pvlib.modelchain.ModelChain.complete_irradiance`\n",
      "            instead.\n",
      "        pv_ref_device : Boolean, default False\n",
      "            If True, then the weather data are from a PV reference device as\n",
      "            effective irradiance ratio F and effective temperature ratio H,\n",
      "            see :py:meth:`~pvlib.pvsystem.sdm_campanelli`.\n",
      "            If False, then traditional meteorological weather data are\n",
      "            provided.\n",
      "\n",
      "        Returns\n",
      "        -------\n",
      "        self\n",
      "\n",
      "        Assigns attributes: times, solar_position, airmass, irradiance,\n",
      "        total_irrad, effective_irradiance, weather, temps, aoi,\n",
      "        aoi_modifier, spectral_modifier, dc, ac, losses.\n",
      "        \"\"\"\n",
      "\n",
      "        # TODO Should we be able to specify only one of F and H?\n",
      "        if pv_ref_device:\n",
      "            # a PV reference provides \"direct\" weather information\n",
      "            self.F = weather['F']\n",
      "            self.H = weather['H']\n",
      "        else:\n",
      "            # Use traditional meterological weather information\n",
      "            self.prepare_inputs(times, weather)\n",
      "            self.aoi_model()\n",
      "            self.spectral_model()\n",
      "            self.effective_irradiance_model()\n",
      "            self.temp_model()\n",
      "        self.dc_model()\n",
      "        self.ac_model()\n",
      "        self.losses_model()\n",
      "\n",
      "        return self\n",
      "\n"
     ]
    }
   ],
   "source": [
    "np.source(mc.run_model)"
   ]
  },
  {
   "cell_type": "raw",
   "metadata": {
    "raw_mimetype": "text/restructuredtext"
   },
   "source": [
    "Finally, the :py:meth:`~pvlib.modelchain.ModelChain.complete_irradiance` method is available for calculating the full set of GHI, DNI, or DHI if only two of these three series are provided. The completed dataset can then be passed to :py:meth:`~pvlib.modelchain.ModelChain.run_model`."
   ]
  },
  {
   "cell_type": "markdown",
   "metadata": {},
   "source": [
    "### Wrapping methods into a unified API\n",
    "\n",
    "Readers may notice that the source code of the ModelChain.run_model method is model-agnostic. ModelChain.run_model calls generic methods such as ``self.dc_model`` rather than a specific model such as ``singlediode``. So how does the ModelChain.run_model know what models it's supposed to run? The answer comes in two parts, and allows us to explore more of the ModelChain API along the way.\n",
    "\n",
    "First, ModelChain has a set of methods that wrap the PVSystem methods that perform the calculations (or further wrap the pvsystem.py module's functions). Each of these methods takes the same arguments (``self``) and sets the same attributes, thus creating a uniform API. For example, the ModelChain.pvwatts_dc method is shown below. Its only argument is ``self``, and it sets the ``dc`` attribute."
   ]
  },
  {
   "cell_type": "code",
   "execution_count": 19,
   "metadata": {},
   "outputs": [
    {
     "name": "stdout",
     "output_type": "stream",
     "text": [
      "In file: /home/campy/Documents/IMS/SolarPV/PVfit/pvlib-python/pvlib/modelchain.py\n",
      "\n",
      "    def pvwatts_dc(self):\n",
      "        self.dc = self.system.pvwatts_dc(self.effective_irradiance,\n",
      "                                         self.temps['temp_cell'])\n",
      "        return self\n",
      "\n"
     ]
    }
   ],
   "source": [
    "np.source(mc.pvwatts_dc)"
   ]
  },
  {
   "cell_type": "markdown",
   "metadata": {},
   "source": [
    "The ModelChain.pvwatts_dc method calls the pvwatts_dc method of the PVSystem object that we supplied using data that is stored in its own ``effective_irradiance`` and ``temps`` attributes. Then it assigns the result to the ``dc`` attribute of the ModelChain object. The code below shows a simple example of this."
   ]
  },
  {
   "cell_type": "code",
   "execution_count": 20,
   "metadata": {},
   "outputs": [
    {
     "data": {
      "text/plain": [
       "2017-04-01 12:00:00-07:00    216.0\n",
       "dtype: float64"
      ]
     },
     "execution_count": 20,
     "metadata": {},
     "output_type": "execute_result"
    }
   ],
   "source": [
    "# make the objects\n",
    "pvwatts_system = PVSystem(module_parameters={'pdc0': 240, 'gamma_pdc': -0.004})\n",
    "mc = ModelChain(pvwatts_system, location, \n",
    "                aoi_model='no_loss', spectral_model='no_loss')\n",
    "\n",
    "# manually assign data to the attributes that ModelChain.pvwatts_dc will need.\n",
    "# for standard workflows, run_model would assign these attributes.\n",
    "mc.effective_irradiance = pd.Series(1000, index=[pd.Timestamp('20170401 1200-0700')])\n",
    "mc.temps = pd.DataFrame({'temp_cell': 50, 'temp_module': 50}, index=[pd.Timestamp('20170401 1200-0700')])\n",
    "\n",
    "# run ModelChain.pvwatts_dc and look at the result\n",
    "mc.pvwatts_dc()\n",
    "mc.dc"
   ]
  },
  {
   "cell_type": "markdown",
   "metadata": {},
   "source": [
    "The ModelChain.sapm method works similarly to the ModelChain.pvwatts_dc method. It calls the PVSystem.sapm method using stored data, then assigns the result to the ``dc`` attribute. The ModelChain.sapm method differs from the ModelChain.pvwatts_dc method in three notable ways. First, the PVSystem.sapm method expects different units for effective irradiance, so ModelChain handles the conversion for us. Second, the PVSystem.sapm method (and the PVSystem.singlediode method) returns a DataFrame with current, voltage, and power parameters rather than a simple Series of power. Finally, this current and voltage information allows the SAPM and single diode model paths to support the concept of modules in series and parallel, which is handled by the PVSystem.scale_voltage_current_power method. "
   ]
  },
  {
   "cell_type": "code",
   "execution_count": 21,
   "metadata": {},
   "outputs": [
    {
     "name": "stdout",
     "output_type": "stream",
     "text": [
      "In file: /home/campy/Documents/IMS/SolarPV/PVfit/pvlib-python/pvlib/modelchain.py\n",
      "\n",
      "    def sapm(self):\n",
      "        self.dc = self.system.sapm(self.effective_irradiance/1000.,\n",
      "                                   self.temps['temp_cell'])\n",
      "\n",
      "        self.dc = self.system.scale_voltage_current_power(self.dc)\n",
      "\n",
      "        return self\n",
      "\n"
     ]
    }
   ],
   "source": [
    "np.source(mc.sapm)"
   ]
  },
  {
   "cell_type": "code",
   "execution_count": 22,
   "metadata": {},
   "outputs": [
    {
     "data": {
      "text/html": [
       "<div>\n",
       "<style scoped>\n",
       "    .dataframe tbody tr th:only-of-type {\n",
       "        vertical-align: middle;\n",
       "    }\n",
       "\n",
       "    .dataframe tbody tr th {\n",
       "        vertical-align: top;\n",
       "    }\n",
       "\n",
       "    .dataframe thead th {\n",
       "        text-align: right;\n",
       "    }\n",
       "</style>\n",
       "<table border=\"1\" class=\"dataframe\">\n",
       "  <thead>\n",
       "    <tr style=\"text-align: right;\">\n",
       "      <th></th>\n",
       "      <th>i_sc</th>\n",
       "      <th>i_mp</th>\n",
       "      <th>v_oc</th>\n",
       "      <th>v_mp</th>\n",
       "      <th>p_mp</th>\n",
       "      <th>i_x</th>\n",
       "      <th>i_xx</th>\n",
       "    </tr>\n",
       "  </thead>\n",
       "  <tbody>\n",
       "    <tr>\n",
       "      <th>2017-04-01 12:00:00-07:00</th>\n",
       "      <td>5.14168</td>\n",
       "      <td>4.566863</td>\n",
       "      <td>53.8368</td>\n",
       "      <td>42.4284</td>\n",
       "      <td>193.764685</td>\n",
       "      <td>5.025377</td>\n",
       "      <td>3.219662</td>\n",
       "    </tr>\n",
       "  </tbody>\n",
       "</table>\n",
       "</div>"
      ],
      "text/plain": [
       "                              i_sc      i_mp     v_oc     v_mp        p_mp  \\\n",
       "2017-04-01 12:00:00-07:00  5.14168  4.566863  53.8368  42.4284  193.764685   \n",
       "\n",
       "                                i_x      i_xx  \n",
       "2017-04-01 12:00:00-07:00  5.025377  3.219662  "
      ]
     },
     "execution_count": 22,
     "metadata": {},
     "output_type": "execute_result"
    }
   ],
   "source": [
    "# make the objects\n",
    "sapm_system = PVSystem(module_parameters=sandia_module, inverter_parameters=cec_inverter)\n",
    "mc = ModelChain(sapm_system, location)\n",
    "\n",
    "# manually assign data to the attributes that ModelChain.sapm will need.\n",
    "# for standard workflows, run_model would assign these attributes.\n",
    "mc.effective_irradiance = pd.Series(1000, index=[pd.Timestamp('20170401 1200-0700')])\n",
    "mc.temps = pd.DataFrame({'temp_cell': 50, 'temp_module': 50}, index=[pd.Timestamp('20170401 1200-0700')])\n",
    "\n",
    "# run ModelChain.sapm and look at the result\n",
    "mc.sapm()\n",
    "mc.dc"
   ]
  },
  {
   "cell_type": "markdown",
   "metadata": {},
   "source": [
    "We've established that the ``ModelChain.pvwatts_dc`` and ``ModelChain.sapm`` have the same API: they take the same arugments (``self``) and they both set the ``dc`` attribute.\\* Because the methods have the same API, we can call them in the same way. ModelChain includes a large number of methods that perform the same API-unification roles for each modeling step.\n",
    "\n",
    "Again, so how does the ModelChain.run_model know which models it's supposed to run?\n",
    "\n",
    "At object construction, ModelChain assigns the desired model's method (e.g. ``ModelChain.pvwatts_dc``) to the corresponding generic attribute (e.g. ``ModelChain.dc_model``) using a method described in the next section."
   ]
  },
  {
   "cell_type": "code",
   "execution_count": 23,
   "metadata": {},
   "outputs": [
    {
     "data": {
      "text/plain": [
       "<function pvlib.modelchain.ModelChain.pvwatts_dc(self)>"
      ]
     },
     "execution_count": 23,
     "metadata": {},
     "output_type": "execute_result"
    }
   ],
   "source": [
    "pvwatts_system = PVSystem(module_parameters={'pdc0': 240, 'gamma_pdc': -0.004})\n",
    "mc = ModelChain(pvwatts_system, location, \n",
    "                aoi_model='no_loss', spectral_model='no_loss')\n",
    "mc.dc_model.__func__"
   ]
  },
  {
   "cell_type": "markdown",
   "metadata": {},
   "source": [
    "The ModelChain.run_model method can ignorantly call ``self.dc_module`` because the API is the same for all methods that may be assigned to this attribute."
   ]
  },
  {
   "cell_type": "markdown",
   "metadata": {},
   "source": [
    "\\* some readers may object that the API is *not* actually the same because the type of the ``dc`` attribute is different (Series vs. DataFrame)!"
   ]
  },
  {
   "cell_type": "markdown",
   "metadata": {},
   "source": [
    "### Inferring models\n",
    "\n",
    "How does ModelChain infer the appropriate model types? ModelChain uses a series of methods (ModelChain.infer_dc_model, ModelChain.infer_ac_model, etc.) that examine the user-supplied PVSystem object. The inference methods use set logic to assign one of the model-specific methods, such as ModelChain.sapm or ModelChain.snlinverter, to the universal method names ModelChain.dc_model and ModelChain.ac_model. A few examples are shown below."
   ]
  },
  {
   "cell_type": "code",
   "execution_count": 24,
   "metadata": {},
   "outputs": [
    {
     "name": "stdout",
     "output_type": "stream",
     "text": [
      "In file: /home/campy/Documents/IMS/SolarPV/PVfit/pvlib-python/pvlib/modelchain.py\n",
      "\n",
      "    def infer_dc_model(self):\n",
      "        params = set(self.system.module_parameters.keys())\n",
      "        if set(['A0', 'A1', 'C7']) <= params:\n",
      "            return self.sapm\n",
      "        elif set(['a_ref', 'I_L_ref', 'I_o_ref', 'R_sh_ref', 'R_s']) <= params:\n",
      "            return self.singlediode\n",
      "        elif set(['pdc0', 'gamma_pdc']) <= params:\n",
      "            return self.pvwatts_dc\n",
      "        else:\n",
      "            raise ValueError('could not infer DC model from '\n",
      "                             'system.module_parameters')\n",
      "\n"
     ]
    }
   ],
   "source": [
    "np.source(mc.infer_dc_model)"
   ]
  },
  {
   "cell_type": "code",
   "execution_count": 25,
   "metadata": {},
   "outputs": [
    {
     "name": "stdout",
     "output_type": "stream",
     "text": [
      "In file: /home/campy/Documents/IMS/SolarPV/PVfit/pvlib-python/pvlib/modelchain.py\n",
      "\n",
      "    def infer_ac_model(self):\n",
      "        inverter_params = set(self.system.inverter_parameters.keys())\n",
      "        module_params = set(self.system.module_parameters.keys())\n",
      "        if set(['C0', 'C1', 'C2']) <= inverter_params:\n",
      "            return self.snlinverter\n",
      "        elif set(['ADRCoefficients']) <= inverter_params:\n",
      "            return self.adrinverter\n",
      "        elif set(['pdc0']) <= module_params:\n",
      "            return self.pvwatts_inverter\n",
      "        else:\n",
      "            raise ValueError('could not infer AC model from '\n",
      "                             'system.inverter_parameters')\n",
      "\n"
     ]
    }
   ],
   "source": [
    "np.source(mc.infer_ac_model)"
   ]
  },
  {
   "cell_type": "markdown",
   "metadata": {},
   "source": [
    "## User-defined models\n",
    "\n",
    "Users may also write their own functions and pass them as arguments to ModelChain. The first argument of the function must be a ModelChain instance. For example, the functions below implement the PVUSA model and a wrapper function appropriate for use with ModelChain. This follows the pattern of implementing the core models using the simplest possible functions, and then implementing wrappers to make them easier to use in specific applications. Of course, you could implement it in a single function if you wanted to."
   ]
  },
  {
   "cell_type": "code",
   "execution_count": 26,
   "metadata": {},
   "outputs": [],
   "source": [
    "def pvusa(poa_global, wind_speed, temp_air, a, b, c, d):\n",
    "    \"\"\"\n",
    "    Calculates system power according to the PVUSA equation\n",
    "    \n",
    "    P = I * (a + b*I + c*W + d*T)\n",
    "    \n",
    "    where\n",
    "    P is the output power,\n",
    "    I is the plane of array irradiance,\n",
    "    W is the wind speed, and\n",
    "    T is the temperature\n",
    "    a, b, c, d are empirically derived parameters.\n",
    "    \"\"\"\n",
    "    return poa_global * (a + b*poa_global + c*wind_speed + d*temp_air)\n",
    "\n",
    "\n",
    "def pvusa_mc_wrapper(mc):\n",
    "    # calculate the dc power and assign it to mc.dc\n",
    "    mc.dc = pvusa(mc.total_irrad['poa_global'], mc.weather['wind_speed'], mc.weather['temp_air'],\n",
    "                  mc.system.module_parameters['a'], mc.system.module_parameters['b'],\n",
    "                  mc.system.module_parameters['c'], mc.system.module_parameters['d'])\n",
    "    \n",
    "    # returning mc is optional, but enables method chaining\n",
    "    return mc\n",
    "\n",
    "\n",
    "def pvusa_ac_mc_wrapper(mc):\n",
    "    # keep it simple\n",
    "    mc.ac = mc.dc\n",
    "    return mc"
   ]
  },
  {
   "cell_type": "code",
   "execution_count": 27,
   "metadata": {},
   "outputs": [],
   "source": [
    "module_parameters = {'a': 0.2, 'b': 0.00001, 'c': 0.001, 'd': -0.00005}\n",
    "pvusa_system = PVSystem(module_parameters=module_parameters)\n",
    "\n",
    "mc = ModelChain(pvusa_system, location, \n",
    "                dc_model=pvusa_mc_wrapper, ac_model=pvusa_ac_mc_wrapper,\n",
    "                aoi_model='no_loss', spectral_model='no_loss')"
   ]
  },
  {
   "cell_type": "markdown",
   "metadata": {},
   "source": [
    "A ModelChain object uses Python's functools.partial function to assign itself as the argument to the user-supplied functions."
   ]
  },
  {
   "cell_type": "code",
   "execution_count": 28,
   "metadata": {},
   "outputs": [
    {
     "data": {
      "text/plain": [
       "<function __main__.pvusa_mc_wrapper(mc)>"
      ]
     },
     "execution_count": 28,
     "metadata": {},
     "output_type": "execute_result"
    }
   ],
   "source": [
    "mc.dc_model.func"
   ]
  },
  {
   "cell_type": "markdown",
   "metadata": {},
   "source": [
    "The end result is that ModelChain.run_model works as expected!"
   ]
  },
  {
   "cell_type": "code",
   "execution_count": 29,
   "metadata": {},
   "outputs": [
    {
     "data": {
      "text/plain": [
       "2017-04-01 12:00:00-07:00    209.519752\n",
       "dtype: float64"
      ]
     },
     "execution_count": 29,
     "metadata": {},
     "output_type": "execute_result"
    }
   ],
   "source": [
    "mc.run_model(times=weather.index, weather=weather)\n",
    "mc.dc"
   ]
  },
  {
   "cell_type": "markdown",
   "metadata": {},
   "source": [
    "## Campanelli et al. Model\n",
    "\n",
    "The model of Campanelli et al. is available in the `pvsystem` module as a collection of lower-level functions that can be used in multiple ways with the `ModelChain` API."
   ]
  },
  {
   "cell_type": "markdown",
   "metadata": {},
   "source": [
    "### Use module parameters fit from data at pv-fit.com to define a PVSystem\n",
    "\n",
    "The module parameters are typcially a direct mapping of the `fit_params` dict that is available from model calibrations performed on I-V curve calibration data `www.pv-fit.com`."
   ]
  },
  {
   "cell_type": "code",
   "execution_count": 30,
   "metadata": {},
   "outputs": [],
   "source": [
    "import pvlib.pvsystem as pvsystem\n",
    "\n",
    "# dict defined from a JSON response subset of a pv-fit.com model calibration for a 72-cell, 275 W module at SRC\n",
    "# TODO The 'fit_params' public API at pv-fit.com is not final. Finalized it before adding Campanelli model.\n",
    "module_params_campanelli = {'i_sc_A_0': 8.300642232880616, 'i_rs_A_0': 3.1370554096867056e-10,\n",
    "                            'n_mod_V_0': 1.8760873861375469, 'bg_mod_eV_0': 80.76475208957835,\n",
    "                            'alpha_bg_mod_0': -0.0794653116276011, 'g_p_Mho_0': 0.0026062186459665454, \n",
    "                            'r_s_Ohm_0': 0.5297525695641349}"
   ]
  },
  {
   "cell_type": "markdown",
   "metadata": {},
   "source": [
    "### Model wrapper for use with matched reference device effective irradiance and cell temperature\n",
    "\n",
    "In this scenario, a reference device (typically a \"matched\" cell or module) provides the effecitive irradiance ratio `F` and effective temperature ratio `H`, which serves directly as the \"weather\" under which the device operates."
   ]
  },
  {
   "cell_type": "code",
   "execution_count": 31,
   "metadata": {},
   "outputs": [
    {
     "data": {
      "text/plain": [
       "ModelChain: \n",
       "  name: Campanelli\n",
       "  orientation_strategy: None\n",
       "  clearsky_model: ineichen\n",
       "  transposition_model: haydavies\n",
       "  solar_position_method: nrel_numpy\n",
       "  airmass_model: kastenyoung1989\n",
       "  dc_model: functools.partial(<function sdm_campanelli at 0x7f6fc08cb7b8>, ModelChain: \n",
       "  name: Campanelli\n",
       "  orientation_strategy: None\n",
       "  clearsky_model: ineichen\n",
       "  transposition_model: haydavies\n",
       "  solar_position_method: nrel_numpy\n",
       "  airmass_model: kastenyoung1989\n",
       "  dc_model: ...\n",
       "  ac_model: snlinverter\n",
       "  aoi_model: no_aoi_loss\n",
       "  spectral_model: no_spectral_loss\n",
       "  temp_model: sapm_temp\n",
       "  losses_model: no_extra_losses)\n",
       "  ac_model: snlinverter\n",
       "  aoi_model: no_aoi_loss\n",
       "  spectral_model: no_spectral_loss\n",
       "  temp_model: sapm_temp\n",
       "  losses_model: no_extra_losses"
      ]
     },
     "execution_count": 31,
     "metadata": {},
     "output_type": "execute_result"
    }
   ],
   "source": [
    "from pvlib.modelchain import sdm_campanelli\n",
    "\n",
    "# Define the PVSystem and ModelChain\n",
    "system_campanelli = PVSystem(surface_tilt=20, surface_azimuth=200,\n",
    "                             module_parameters=module_params_campanelli,\n",
    "                             inverter_parameters=cec_inverter)\n",
    "weather_F_H = pd.DataFrame([[1.07754787, 1.084]], \n",
    "                           columns=['F', 'H',], \n",
    "                           index=[pd.Timestamp('20170401 1200', tz='US/Arizona')])\n",
    "mc_campanelli = ModelChain(system_campanelli, location, dc_model=sdm_campanelli, name=\"Campanelli\",\n",
    "                           aoi_model='no_loss', spectral_model='no_loss')\n",
    "mc_campanelli.run_model(times=weather_F_H.index, weather=weather_F_H, pv_ref_device=True)"
   ]
  },
  {
   "cell_type": "code",
   "execution_count": 32,
   "metadata": {},
   "outputs": [
    {
     "data": {
      "text/html": [
       "<div>\n",
       "<style scoped>\n",
       "    .dataframe tbody tr th:only-of-type {\n",
       "        vertical-align: middle;\n",
       "    }\n",
       "\n",
       "    .dataframe tbody tr th {\n",
       "        vertical-align: top;\n",
       "    }\n",
       "\n",
       "    .dataframe thead th {\n",
       "        text-align: right;\n",
       "    }\n",
       "</style>\n",
       "<table border=\"1\" class=\"dataframe\">\n",
       "  <thead>\n",
       "    <tr style=\"text-align: right;\">\n",
       "      <th></th>\n",
       "      <th>i_sc</th>\n",
       "      <th>v_oc</th>\n",
       "      <th>i_mp</th>\n",
       "      <th>v_mp</th>\n",
       "      <th>p_mp</th>\n",
       "      <th>i_x</th>\n",
       "      <th>i_xx</th>\n",
       "    </tr>\n",
       "  </thead>\n",
       "  <tbody>\n",
       "    <tr>\n",
       "      <th>2017-04-01 12:00:00-07:00</th>\n",
       "      <td>8.944339</td>\n",
       "      <td>41.12082</td>\n",
       "      <td>8.246687</td>\n",
       "      <td>31.335752</td>\n",
       "      <td>258.416132</td>\n",
       "      <td>8.887189</td>\n",
       "      <td>5.505461</td>\n",
       "    </tr>\n",
       "  </tbody>\n",
       "</table>\n",
       "</div>"
      ],
      "text/plain": [
       "                               i_sc      v_oc      i_mp       v_mp  \\\n",
       "2017-04-01 12:00:00-07:00  8.944339  41.12082  8.246687  31.335752   \n",
       "\n",
       "                                 p_mp       i_x      i_xx  \n",
       "2017-04-01 12:00:00-07:00  258.416132  8.887189  5.505461  "
      ]
     },
     "execution_count": 32,
     "metadata": {},
     "output_type": "execute_result"
    }
   ],
   "source": [
    "mc_campanelli.dc"
   ]
  },
  {
   "cell_type": "code",
   "execution_count": 33,
   "metadata": {},
   "outputs": [
    {
     "data": {
      "text/plain": [
       "2017-04-01 12:00:00-07:00    248.736184\n",
       "dtype: float64"
      ]
     },
     "execution_count": 33,
     "metadata": {},
     "output_type": "execute_result"
    }
   ],
   "source": [
    "mc_campanelli.ac"
   ]
  },
  {
   "cell_type": "markdown",
   "metadata": {},
   "source": [
    "### Model wrapper for use with SAPM effective irradiance and cell temperature\n",
    "\n",
    "When traditional weather data are available (e.g., from a meterological station), use the SAPM to compute the effecitive irradiance ratio `F` and effective temperature ratio `H`. Among other things, this relies on the\n",
    "accuracy of the short-circuit temperature coefficient under the operating conditions of the given location. This computation uses the `Aisc` provided by the SAPM, and in practice, one tries to match as best as possible the module at hand with a module in the SAPM database."
   ]
  },
  {
   "cell_type": "code",
   "execution_count": 34,
   "metadata": {},
   "outputs": [
    {
     "data": {
      "text/plain": [
       "ModelChain: \n",
       "  name: Campanelli\n",
       "  orientation_strategy: None\n",
       "  clearsky_model: ineichen\n",
       "  transposition_model: haydavies\n",
       "  solar_position_method: nrel_numpy\n",
       "  airmass_model: kastenyoung1989\n",
       "  dc_model: functools.partial(<function sdm_campanelli_sapm at 0x7f6fc08d2f28>, ModelChain: \n",
       "  name: Campanelli\n",
       "  orientation_strategy: None\n",
       "  clearsky_model: ineichen\n",
       "  transposition_model: haydavies\n",
       "  solar_position_method: nrel_numpy\n",
       "  airmass_model: kastenyoung1989\n",
       "  dc_model: ...\n",
       "  ac_model: snlinverter\n",
       "  aoi_model: sapm_aoi_loss\n",
       "  spectral_model: sapm_spectral_loss\n",
       "  temp_model: sapm_temp\n",
       "  losses_model: no_extra_losses)\n",
       "  ac_model: snlinverter\n",
       "  aoi_model: sapm_aoi_loss\n",
       "  spectral_model: sapm_spectral_loss\n",
       "  temp_model: sapm_temp\n",
       "  losses_model: no_extra_losses"
      ]
     },
     "execution_count": 34,
     "metadata": {},
     "output_type": "execute_result"
    }
   ],
   "source": [
    "from pvlib.modelchain import sdm_campanelli_sapm\n",
    "\n",
    "module_params_campanelli_sapm = {**module_params_campanelli, **sandia_module.to_dict()}\n",
    "module_params_campanelli_sapm['irrad_ref'] = 1000.  # W/m^2\n",
    "module_params_campanelli_sapm['temp_ref'] = 25.  # degC\n",
    "    \n",
    "# Define the PVSystem and ModelChain\n",
    "system_campanelli_sapm = PVSystem(surface_tilt=20, surface_azimuth=200,\n",
    "                                  module_parameters=module_params_campanelli_sapm,\n",
    "                                  inverter_parameters=cec_inverter)\n",
    "mc_campanelli = ModelChain(system_campanelli_sapm, location, dc_model=sdm_campanelli_sapm, name=\"Campanelli\")\n",
    "# Run using the \"traditional\" weather data from above\n",
    "mc_campanelli.run_model(times=weather.index, weather=weather)"
   ]
  },
  {
   "cell_type": "code",
   "execution_count": 35,
   "metadata": {},
   "outputs": [
    {
     "data": {
      "text/plain": [
       "array([1.07754787])"
      ]
     },
     "execution_count": 35,
     "metadata": {},
     "output_type": "execute_result"
    }
   ],
   "source": [
    "mc_campanelli.F"
   ]
  },
  {
   "cell_type": "code",
   "execution_count": 36,
   "metadata": {},
   "outputs": [
    {
     "data": {
      "text/plain": [
       "array([1.11097743])"
      ]
     },
     "execution_count": 36,
     "metadata": {},
     "output_type": "execute_result"
    }
   ],
   "source": [
    "mc_campanelli.H"
   ]
  },
  {
   "cell_type": "code",
   "execution_count": 37,
   "metadata": {},
   "outputs": [
    {
     "data": {
      "text/plain": [
       "OrderedDict([('i_sc', array([8.94433932])),\n",
       "             ('v_oc', array([39.82156774])),\n",
       "             ('i_mp', array([8.20668637])),\n",
       "             ('v_mp', array([30.06369951])),\n",
       "             ('p_mp', array([246.72335314])),\n",
       "             ('i_x', array([8.88651217])),\n",
       "             ('i_xx', array([5.45186953]))])"
      ]
     },
     "execution_count": 37,
     "metadata": {},
     "output_type": "execute_result"
    }
   ],
   "source": [
    "# Because the SAPM cell temperature was warmer, the maximum power is decreased as compared to the previous result\n",
    "mc_campanelli.dc"
   ]
  },
  {
   "cell_type": "code",
   "execution_count": 38,
   "metadata": {},
   "outputs": [
    {
     "data": {
      "text/plain": [
       "array([237.46198999])"
      ]
     },
     "execution_count": 38,
     "metadata": {},
     "output_type": "execute_result"
    }
   ],
   "source": [
    "mc_campanelli.ac"
   ]
  },
  {
   "cell_type": "code",
   "execution_count": null,
   "metadata": {},
   "outputs": [],
   "source": []
  }
 ],
 "metadata": {
  "celltoolbar": "Raw Cell Format",
  "kernelspec": {
   "display_name": "Python 3",
   "language": "python",
   "name": "python3"
  },
  "language_info": {
   "codemirror_mode": {
    "name": "ipython",
    "version": 3
   },
   "file_extension": ".py",
   "mimetype": "text/x-python",
   "name": "python",
   "nbconvert_exporter": "python",
   "pygments_lexer": "ipython3",
   "version": "3.6.5"
  }
 },
 "nbformat": 4,
 "nbformat_minor": 2
}
