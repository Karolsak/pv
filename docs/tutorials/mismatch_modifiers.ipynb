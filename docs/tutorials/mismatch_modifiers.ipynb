{
 "cells": [
  {
   "attachments": {},
   "cell_type": "markdown",
   "metadata": {},
   "source": [
    "# Mismatch Modifiers\n",
    "Learn to use mismatch modifiers with this notebook!\n",
    "Feel free to add other models, be sure to update the index and give you credit ;)\n",
    "\n",
    "Table of contents:\n",
    "1. [Setup](#setup)\n",
    "1. [N. Martin & J. M. Ruiz Experimental Mismatch Modifier](#n-martin--j-m-ruiz-experimental-mismatch-modifier)\n",
    "\n",
    "Authors:\n",
    "* Echedey Luis (@echedey-ls), 2023 Feb"
   ]
  },
  {
   "attachments": {},
   "cell_type": "markdown",
   "metadata": {},
   "source": [
    "## Setup\n",
    "Let's prepare the environment:"
   ]
  },
  {
   "cell_type": "code",
   "execution_count": null,
   "metadata": {},
   "outputs": [],
   "source": [
    "# Show matplotlib's figures in the notebook\n",
    "%matplotlib inline\n",
    "import matplotlib.pyplot as plt\n",
    "\n",
    "import pandas as pd\n",
    "import numpy as np\n",
    "\n",
    "# And pvlib\n",
    "import pvlib"
   ]
  },
  {
   "attachments": {},
   "cell_type": "markdown",
   "metadata": {},
   "source": [
    "### N. Martin & J. M. Ruiz Mismatch Modifier\n",
    "This modifier takes into account the responsivities to different spectrums,\n",
    "characterized by the airmass and the clearness index, as two independent\n",
    "variables. In fact, it is 3 different modifiers, each one for each component\n",
    "(``poa_direct``, ``poa_sky_diffuse``, ``poa_ground_diffuse``)\n",
    "\n",
    "The formula for each component has three coefficients; we are lucky the authors\n",
    "of this model computed fitting values for m-Si, p-Si and a-Si!\n",
    "However, if you would like to compute and/or use your own values, keep reading.\n",
    "[TODO: LO HAGO O NO LO HAGO?? ###]"
   ]
  },
  {
   "attachments": {},
   "cell_type": "markdown",
   "metadata": {},
   "source": [
    "First step is get to the effective irradiance. For simplicity, we will copy the procedure explained in the tutorial ``tmy_to_power.ipynb``. Please refer to it to get a more in depth explanation."
   ]
  },
  {
   "cell_type": "code",
   "execution_count": null,
   "metadata": {},
   "outputs": [],
   "source": [
    "site = pvlib.location.Location(40.4534, -3.7270, altitude=664,\n",
    "                               name='IES-UPM, Madrid')\n",
    "\n",
    "surface_tilt = 40\n",
    "surface_azimuth = 180  # Pointing South\n",
    "\n",
    "pvgis_data, _, _, _ = \\\n",
    "    pvlib.iotools.get_pvgis_tmy(site.latitude, site.longitude,\n",
    "                                map_variables=True,\n",
    "                                startyear=2005, endyear=2015)\n",
    "pvgis_data.index = [ts.replace(year=2022) for ts in pvgis_data.index]"
   ]
  },
  {
   "cell_type": "code",
   "execution_count": null,
   "metadata": {},
   "outputs": [],
   "source": [
    "weather_data = pvgis_data['2022-09-03':'2022-09-06']\n",
    "\n",
    "solar_pos = site.get_solarposition(weather_data.index)\n",
    "\n",
    "extra_rad = pvlib.irradiance.get_extra_radiation(weather_data.index)\n",
    "\n",
    "poa_sky_diffuse = \\\n",
    "    pvlib.irradiance.haydavies(surface_tilt, surface_azimuth, weather_data['dhi'],\n",
    "                               weather_data['dni'], extra_rad,\n",
    "                               solar_pos['apparent_zenith'], solar_pos['azimuth'])\n",
    "\n",
    "poa_ground_diffuse = pvlib.irradiance.get_ground_diffuse(surface_tilt, weather_data['ghi'])\n",
    "\n",
    "aoi = pvlib.irradiance.aoi(surface_tilt, surface_azimuth,\n",
    "                           solar_pos['apparent_zenith'], solar_pos['azimuth'])\n",
    "\n",
    "# Let's consider this the irradiances without modifiers\n",
    "# We can calculate the mismatch before and then create a \"poa_irrad\" var for\n",
    "# modified irradiances, but we are also doing this to compare later.\n",
    "# 'spectrum.martin_ruiz_spectral_modifier' result is designed to make it\n",
    "# easy to multiply each modifier and the irradiance component with a single\n",
    "# line of code, if you get this dataframe before.\n",
    "poa_irrad = pvlib.irradiance.poa_components(aoi, weather_data['dni'], poa_sky_diffuse, poa_ground_diffuse)\n",
    "\n",
    "# Following part will be needed later\n",
    "thermal_params = pvlib.temperature.TEMPERATURE_MODEL_PARAMETERS['sapm']['open_rack_glass_polymer']\n",
    "pvtemps = pvlib.temperature.sapm_cell(poa_irrad['poa_global'],\n",
    "                                      weather_data['temp_air'],\n",
    "                                      weather_data['wind_speed'],\n",
    "                                      **thermal_params)\n",
    "\n",
    "# Note that we use the CEC Module provided for the singlediode subsection\n",
    "cec_modules = pvlib.pvsystem.retrieve_sam(name='CECMod')\n",
    "cec_module = cec_modules['Canadian_Solar_Inc__CS5P_220M']"
   ]
  },
  {
   "attachments": {},
   "cell_type": "markdown",
   "metadata": {},
   "source": [
    "Here comes the modifier. Let's calculate it and examine the introduced\n",
    "difference.\n"
   ]
  },
  {
   "attachments": {},
   "cell_type": "markdown",
   "metadata": {},
   "source": [
    "That was a lot, yeah. But don't worry, now we can find the effective irradiance, the mismatch modifier (with the airmass and clearness index)"
   ]
  },
  {
   "cell_type": "code",
   "execution_count": null,
   "metadata": {},
   "outputs": [],
   "source": [
    "# First, let's find the airmass and the clearness index\n",
    "# Little caution: default values for this model were fitted obtaining the airmass through the kasten1966 method, not used by default\n",
    "airmass = site.get_airmass(solar_position=solar_pos, model='kasten1966')\n",
    "clearness = pvlib.irradiance.clearness_index(ghi=weather_data['ghi'],\n",
    "                                             solar_zenith=solar_pos['zenith'],\n",
    "                                             extra_radiation=extra_rad)\n",
    "# Check module is m-Si (monocrystalline silicon)\n",
    "print('Module type is: ' + cec_module['Technology'])\n",
    "\n",
    "# Get the mismatch modifiers\n",
    "modifiers = pvlib.spectrum.martin_ruiz_spectral_modifier(clearness,\n",
    "                                                         airmass['airmass_absolute'],\n",
    "                                                         cell_type='monosi')"
   ]
  },
  {
   "attachments": {},
   "cell_type": "markdown",
   "metadata": {},
   "source": [
    "And then we can find the 3 components modified irradiances by means of a simple\n",
    "multiplication.\n",
    "\n",
    "Note, however, that neither this does modify ``poa_global`` nor\n",
    "``poa_diffuse``, so we should update."
   ]
  },
  {
   "cell_type": "code",
   "execution_count": null,
   "metadata": {},
   "outputs": [],
   "source": [
    "poa_irrad_modified = poa_irrad * modifiers\n",
    "# We need global modified irradiance for the output power calculation\n",
    "poa_irrad_modified = \\\n",
    "    pvlib.irradiance.poa_components(aoi,\n",
    "                                    poa_irrad_modified['poa_direct'],\n",
    "                                    poa_irrad_modified['poa_sky_diffuse'],\n",
    "                                    poa_irrad_modified['poa_ground_diffuse'])"
   ]
  },
  {
   "attachments": {},
   "cell_type": "markdown",
   "metadata": {},
   "source": [
    "Let's plot the raw vs modified global irradiances, and the difference."
   ]
  },
  {
   "cell_type": "code",
   "execution_count": null,
   "metadata": {},
   "outputs": [],
   "source": [
    "poa_irrad_global_diff = (poa_irrad['poa_global']\n",
    "                         - poa_irrad_modified['poa_global'])\n",
    "poa_irrad['poa_global'].plot()\n",
    "poa_irrad_modified['poa_global'].plot()\n",
    "poa_irrad_global_diff.plot()\n",
    "plt.legend(['Original', 'Modified', 'Difference'])\n",
    "plt.ylabel('Irradiance [W/m²]')\n",
    "plt.show()"
   ]
  },
  {
   "attachments": {},
   "cell_type": "markdown",
   "metadata": {},
   "source": [
    "Finally, we can get the power result. Instead of using\n",
    "``pvlib.pvsystem.sapm_effective_irradiance``, which already applies another\n",
    "experimental model for the response of the solar module, we have to use the\n",
    "diode model.\n",
    "\n",
    "Have a look to subsection ``DC power using single diode`` in notebook\n",
    "``tmy_to_power.ipynb``. This is just the same two times."
   ]
  },
  {
   "cell_type": "code",
   "execution_count": null,
   "metadata": {},
   "outputs": [],
   "source": [
    "module_params = {k: cec_module[k]\n",
    "                 for k in ['a_ref', 'I_L_ref', 'I_o_ref', 'R_sh_ref', 'R_s', 'alpha_sc']}"
   ]
  },
  {
   "attachments": {},
   "cell_type": "markdown",
   "metadata": {},
   "source": [
    "Again, we compute one considering the modifier and another one without it."
   ]
  },
  {
   "cell_type": "code",
   "execution_count": null,
   "metadata": {},
   "outputs": [],
   "source": [
    "# With modifier\n",
    "photocurrent, saturation_current, resistance_series, resistance_shunt, nNsVth = \\\n",
    "    pvlib.pvsystem.calcparams_desoto(poa_irrad_modified['poa_global'],\n",
    "                                     pvtemps,\n",
    "                                     EgRef=1.121,\n",
    "                                     dEgdT=-0.0002677,\n",
    "                                     **module_params)\n",
    "single_diode_out_modified = pvlib.pvsystem.singlediode(photocurrent, saturation_current,\n",
    "                                                       resistance_series, resistance_shunt,\n",
    "                                                       nNsVth)\n",
    "# Without modifier\n",
    "photocurrent, saturation_current, resistance_series, resistance_shunt, nNsVth = \\\n",
    "    pvlib.pvsystem.calcparams_desoto(poa_irrad['poa_global'],\n",
    "                                     pvtemps,\n",
    "                                     EgRef=1.121,\n",
    "                                     dEgdT=-0.0002677,\n",
    "                                     **module_params)\n",
    "single_diode_out = pvlib.pvsystem.singlediode(photocurrent, saturation_current,\n",
    "                                              resistance_series, resistance_shunt,\n",
    "                                              nNsVth)"
   ]
  },
  {
   "cell_type": "code",
   "execution_count": null,
   "metadata": {},
   "outputs": [],
   "source": [
    "# Calculate difference of max power output\n",
    "single_diode_out_max_pwr_diff = (single_diode_out['p_mp']\n",
    "                                 - single_diode_out_modified['p_mp'])\n",
    "# Plot results\n",
    "single_diode_out['p_mp'].plot()\n",
    "single_diode_out_modified['p_mp'].plot()\n",
    "single_diode_out_max_pwr_diff.plot()\n",
    "plt.legend(['Original', 'Modified', 'Difference'])\n",
    "plt.ylabel('DC Power (W)')\n",
    "plt.show()"
   ]
  }
 ],
 "metadata": {
  "kernelspec": {
   "display_name": "venv",
   "language": "python",
   "name": "python3"
  },
  "language_info": {
   "codemirror_mode": {
    "name": "ipython",
    "version": 3
   },
   "file_extension": ".py",
   "mimetype": "text/x-python",
   "name": "python",
   "nbconvert_exporter": "python",
   "pygments_lexer": "ipython3",
   "version": "3.10.4"
  },
  "orig_nbformat": 4,
  "vscode": {
   "interpreter": {
    "hash": "e7b76f25baca03aa641c501db0912de76daa352e2d97ceb6fcf3025f206f2928"
   }
  }
 },
 "nbformat": 4,
 "nbformat_minor": 2
}
