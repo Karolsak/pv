{
 "cells": [
  {
   "cell_type": "markdown",
   "metadata": {},
   "source": [
    "# import pvlib library"
   ]
  },
  {
   "cell_type": "code",
   "execution_count": 9,
   "metadata": {
    "collapsed": false
   },
   "outputs": [],
   "source": [
    "import sys\n",
    "import os\n",
    "sys.path.append(os.path.abspath('../')) #append the parent directory to the system path\n",
    "sys.path.append(os.path.abspath('../pvlib')) #append the parent directory to the system path\n",
    "import pvlib\n",
    "import pandas as pd \n",
    "import datetime"
   ]
  },
  {
   "cell_type": "markdown",
   "metadata": {},
   "source": [
    "# Import TMY data"
   ]
  },
  {
   "cell_type": "markdown",
   "metadata": {},
   "source": [
    "## Use Sandia standard data "
   ]
  },
  {
   "cell_type": "code",
   "execution_count": 4,
   "metadata": {
    "collapsed": false
   },
   "outputs": [],
   "source": [
    "\n",
    "fname='723650TYA.csv' #Use absolute path if the file is not in the local directory\n",
    "TMY, meta=pvlib.tmy.readtmy3(filename=fname)"
   ]
  },
  {
   "cell_type": "code",
   "execution_count": 5,
   "metadata": {
    "collapsed": false
   },
   "outputs": [],
   "source": [
    "meta['longitude']=-79.2\n",
    "meta['latitude']=43.42\n",
    "meta['TZ']=-5\n",
    "meta['SurfTilt']=30\n",
    "meta['SurfAz']=0\n",
    "meta['Albedo']=0.2"
   ]
  },
  {
   "cell_type": "code",
   "execution_count": 6,
   "metadata": {
    "collapsed": false
   },
   "outputs": [
    {
     "name": "stdout",
     "output_type": "stream",
     "text": [
      "NM\n",
      "-79.2\n"
     ]
    }
   ],
   "source": [
    "print meta['State']\n",
    "print meta['longitude']"
   ]
  },
  {
   "cell_type": "markdown",
   "metadata": {},
   "source": [
    "## Define date range of interest for graphing"
   ]
  },
  {
   "cell_type": "code",
   "execution_count": 10,
   "metadata": {
    "collapsed": false
   },
   "outputs": [
    {
     "data": {
      "text/plain": [
       "<class 'pandas.tseries.index.DatetimeIndex'>\n",
       "[1979-03-26 00:00:00, ..., 1979-03-26 23:00:00]\n",
       "Length: 24, Freq: H, Timezone: None"
      ]
     },
     "execution_count": 10,
     "metadata": {},
     "output_type": "execute_result"
    }
   ],
   "source": [
    "month=3\n",
    "day=26\n",
    "hour=0\n",
    "periods=24\n",
    "freq='H'\n",
    "rng=pd.date_range(datetime.datetime(year=min(TMY.index.year),month=month,day=day,hour=hour),periods=periods,freq=freq)\n",
    "rng                "
   ]
  },
  {
   "cell_type": "markdown",
   "metadata": {},
   "source": [
    "# Get solar angles"
   ]
  },
  {
   "cell_type": "code",
   "execution_count": 11,
   "metadata": {
    "collapsed": false
   },
   "outputs": [
    {
     "ename": "ImportError",
     "evalue": "No module named pvl_ephemeris",
     "output_type": "error",
     "traceback": [
      "\u001b[1;31m---------------------------------------------------------------------------\u001b[0m",
      "\u001b[1;31mImportError\u001b[0m                               Traceback (most recent call last)",
      "\u001b[1;32m<ipython-input-11-241ab56805b4>\u001b[0m in \u001b[0;36m<module>\u001b[1;34m()\u001b[0m\n\u001b[1;32m----> 1\u001b[1;33m \u001b[1;32mimport\u001b[0m \u001b[0mpvl_ephemeris\u001b[0m\u001b[1;33m\u001b[0m\u001b[0m\n\u001b[0m\u001b[0;32m      2\u001b[0m \u001b[0mreload\u001b[0m\u001b[1;33m(\u001b[0m\u001b[0mpvl_ephemeris\u001b[0m\u001b[1;33m)\u001b[0m\u001b[1;33m\u001b[0m\u001b[0m\n\u001b[0;32m      3\u001b[0m \u001b[1;31m#Using Ephemeris Calculations\u001b[0m\u001b[1;33m\u001b[0m\u001b[1;33m\u001b[0m\u001b[0m\n\u001b[0;32m      4\u001b[0m \u001b[0mTMY\u001b[0m\u001b[1;33m[\u001b[0m\u001b[1;34m'SunAz'\u001b[0m\u001b[1;33m]\u001b[0m\u001b[1;33m,\u001b[0m\u001b[0mTMY\u001b[0m\u001b[1;33m[\u001b[0m\u001b[1;34m'SunEl'\u001b[0m\u001b[1;33m]\u001b[0m\u001b[1;33m,\u001b[0m\u001b[0mTMY\u001b[0m\u001b[1;33m[\u001b[0m\u001b[1;34m'ApparentSunEl'\u001b[0m\u001b[1;33m]\u001b[0m\u001b[1;33m,\u001b[0m\u001b[0mTMY\u001b[0m\u001b[1;33m[\u001b[0m\u001b[1;34m'SolarTime'\u001b[0m\u001b[1;33m]\u001b[0m\u001b[1;33m,\u001b[0m \u001b[0mTMY\u001b[0m\u001b[1;33m[\u001b[0m\u001b[1;34m'SunZen'\u001b[0m\u001b[1;33m]\u001b[0m\u001b[1;33m=\u001b[0m\u001b[0mpvl_ephemeris\u001b[0m\u001b[1;33m.\u001b[0m\u001b[0mpvl_ephemeris\u001b[0m\u001b[1;33m(\u001b[0m\u001b[0mTime\u001b[0m\u001b[1;33m=\u001b[0m\u001b[0mTMY\u001b[0m\u001b[1;33m.\u001b[0m\u001b[0mindex\u001b[0m\u001b[1;33m,\u001b[0m\u001b[0mLocation\u001b[0m\u001b[1;33m=\u001b[0m\u001b[0mmeta\u001b[0m\u001b[1;33m)\u001b[0m\u001b[1;33m\u001b[0m\u001b[0m\n\u001b[0;32m      5\u001b[0m \u001b[1;31m#Using NRELS SPA Calculations\u001b[0m\u001b[1;33m\u001b[0m\u001b[1;33m\u001b[0m\u001b[0m\n",
      "\u001b[1;31mImportError\u001b[0m: No module named pvl_ephemeris"
     ]
    }
   ],
   "source": [
    "import pvl_ephemeris\n",
    "reload(pvl_ephemeris)\n",
    "#Using Ephemeris Calculations\n",
    "TMY['SunAz'],TMY['SunEl'],TMY['ApparentSunEl'],TMY['SolarTime'], TMY['SunZen']=pvl_ephemeris.pvl_ephemeris(Time=TMY.index,Location=meta)\n",
    "#Using NRELS SPA Calculations\n",
    "import pvl_spa\n",
    "reload (pvl_spa)\n",
    "TMY['SunAz_spa'],TMY['SunEl_spa'],TMY['SunZen_spa']=pvl_spa.pvl_spa(Time=TMY.index,Location=meta)\n",
    "\n"
   ]
  },
  {
   "cell_type": "code",
   "execution_count": 10,
   "metadata": {
    "collapsed": false
   },
   "outputs": [
    {
     "data": {
      "text/plain": [
       "<matplotlib.legend.Legend at 0x107e16ad0>"
      ]
     },
     "execution_count": 10,
     "metadata": {},
     "output_type": "execute_result"
    }
   ],
   "source": [
    "clf()\n",
    "plot(TMY.index,TMY.SunAz)\n",
    "plot(TMY.index,TMY.SunAz_spa)\n",
    "plot(TMY.index,TMY.SunEl,label='eph')\n",
    "plot(TMY.index,TMY.SunEl_spa,label='spa')\n",
    "legend()"
   ]
  },
  {
   "cell_type": "markdown",
   "metadata": {},
   "source": [
    "# Calculate Extraterrestrial Irradiaion and AirMass"
   ]
  },
  {
   "cell_type": "code",
   "execution_count": 11,
   "metadata": {
    "collapsed": false
   },
   "outputs": [],
   "source": [
    "\n",
    "TMY['HExtra']=pvlib.pvl_extraradiation(doy=TMY.index.dayofyear)\n",
    "\n",
    "TMY['AM']=pvlib.pvl_relativeairmass(z=TMY.SunZen)"
   ]
  },
  {
   "cell_type": "markdown",
   "metadata": {},
   "source": [
    "# Generate Clear Sky and DNI"
   ]
  },
  {
   "cell_type": "code",
   "execution_count": 12,
   "metadata": {
    "collapsed": false
   },
   "outputs": [],
   "source": [
    "\n",
    "DFOut=pvlib.pvl_disc(Time=TMY.index,GHI=TMY.GHI, SunZen=TMY.SunZen)\n",
    "\n",
    "TMY['DNI_gen_DISC']=DFOut['DNI_gen_DISC']\n",
    "TMY['Kt_gen_DISC']=DFOut['Kt_gen_DISC']\n",
    "TMY['AM']=DFOut['AM']\n",
    "TMY['Ztemp']=DFOut['Ztemp']\n"
   ]
  },
  {
   "cell_type": "markdown",
   "metadata": {},
   "source": [
    "# Plane Transformation"
   ]
  },
  {
   "cell_type": "code",
   "execution_count": 13,
   "metadata": {
    "collapsed": false
   },
   "outputs": [],
   "source": [
    "\n",
    "TMY['In_Plane_SkyDiffuse']=pvlib.pvl_perez(SurfTilt=meta['SurfTilt'],\n",
    "                                            SurfAz=meta['SurfAz'],\n",
    "                                            DHI=TMY.DHI,\n",
    "                                            DNI=TMY.DNI,\n",
    "                                            HExtra=TMY.HExtra,\n",
    "                                            SunZen=TMY.SunZen,\n",
    "                                            SunAz=TMY.SunAz,\n",
    "                                            AM=TMY.AM)\n"
   ]
  },
  {
   "cell_type": "markdown",
   "metadata": {},
   "source": [
    "# Ground Diffuse reflection"
   ]
  },
  {
   "cell_type": "code",
   "execution_count": 14,
   "metadata": {
    "collapsed": false
   },
   "outputs": [],
   "source": [
    "\n",
    "TMY['GR']=pvlib.pvl_grounddiffuse(GHI=TMY.GHI,Albedo=meta['Albedo'],SurfTilt=meta['SurfTilt'])"
   ]
  },
  {
   "cell_type": "markdown",
   "metadata": {},
   "source": [
    "# Get AOI"
   ]
  },
  {
   "cell_type": "code",
   "execution_count": 15,
   "metadata": {
    "collapsed": false
   },
   "outputs": [],
   "source": [
    "\n",
    "TMY['AOI']=pvlib.pvl_getaoi(SunAz=TMY.SunAz,SunZen=TMY.SunZen,SurfTilt=meta['SurfTilt'],SurfAz=meta['SurfAz'])"
   ]
  },
  {
   "cell_type": "markdown",
   "metadata": {},
   "source": [
    "# Calculate Global in-plane"
   ]
  },
  {
   "cell_type": "code",
   "execution_count": 16,
   "metadata": {
    "collapsed": false
   },
   "outputs": [],
   "source": [
    "\n",
    "TMY['E'],TMY['Eb'],TMY['EDiff']=pvlib.pvl_globalinplane(AOI=TMY.AOI,\n",
    "                                DNI=TMY.DNI,\n",
    "                                In_Plane_SkyDiffuse=TMY.In_Plane_SkyDiffuse,\n",
    "                                GR=TMY.GR,\n",
    "                                SurfTilt=meta['SurfTilt'],\n",
    "                                SurfAz=meta['SurfAz'])\n",
    "\n"
   ]
  },
  {
   "cell_type": "markdown",
   "metadata": {},
   "source": [
    "# Calculate Cell Temperature"
   ]
  },
  {
   "cell_type": "code",
   "execution_count": 17,
   "metadata": {
    "collapsed": false
   },
   "outputs": [],
   "source": [
    "\n",
    "TMY['Tcell'],TMY['Tmodule']=pvlib.pvl_sapmcelltemp(E=TMY.E,\n",
    "                            Wspd=TMY.Wspd,\n",
    "                            Tamb=TMY.DryBulb)\n",
    "\n",
    "\n",
    "\n"
   ]
  },
  {
   "cell_type": "markdown",
   "metadata": {},
   "source": [
    "# Import module coefficients"
   ]
  },
  {
   "cell_type": "code",
   "execution_count": 18,
   "metadata": {
    "collapsed": false
   },
   "outputs": [
    {
     "data": {
      "text/plain": [
       "Vintage                                                   2009\n",
       "Area                                                     1.701\n",
       "Material                                                  c-Si\n",
       "#Series                                                     96\n",
       "#Parallel                                                    1\n",
       "Isco                                                   5.09115\n",
       "Voco                                                   59.2608\n",
       "Impo                                                   4.54629\n",
       "Vmpo                                                   48.3156\n",
       "Aisc                                                  0.000397\n",
       "Aimp                                                  0.000181\n",
       "C0                                                     1.01284\n",
       "C1                                                  -0.0128398\n",
       "Bvoco                                                 -0.21696\n",
       "Mbvoc                                                        0\n",
       "Bvmpo                                                -0.235488\n",
       "Mbvmp                                                        0\n",
       "N                                                       1.4032\n",
       "C2                                                    0.279317\n",
       "C3                                                    -7.24463\n",
       "A0                                                    0.928385\n",
       "A1                                                    0.068093\n",
       "A2                                                  -0.0157738\n",
       "A3                                                   0.0016606\n",
       "A4                                                -6.93035e-05\n",
       "B0                                                           1\n",
       "B1                                                   -0.002438\n",
       "B2                                                   0.0003103\n",
       "B3                                                  -1.246e-05\n",
       "B4                                                   2.112e-07\n",
       "B5                                                  -1.359e-09\n",
       "DTC                                                          3\n",
       "FD                                                           1\n",
       "A                                                     -3.40641\n",
       "B                                                   -0.0842075\n",
       "C4                                                    0.996446\n",
       "C5                                                    0.003554\n",
       "IXO                                                    4.97599\n",
       "IXXO                                                   3.18803\n",
       "C6                                                     1.15535\n",
       "C7                                                   -0.155353\n",
       "Notes        Source: Sandia National Laboratories Updated 9...\n",
       "Name: Canadian_Solar_CS5P_220M___2009_, dtype: object"
      ]
     },
     "execution_count": 18,
     "metadata": {},
     "output_type": "execute_result"
    }
   ],
   "source": [
    "\n",
    "moddb=pvlib.pvl_retreiveSAM(name='SandiaMod')\n",
    "module=moddb.Canadian_Solar_CS5P_220M___2009_\n",
    "module"
   ]
  },
  {
   "cell_type": "markdown",
   "metadata": {},
   "source": [
    "#  import inverter coefficients"
   ]
  },
  {
   "cell_type": "code",
   "execution_count": 19,
   "metadata": {
    "collapsed": false
   },
   "outputs": [
    {
     "data": {
      "text/plain": [
       "Vac          4.800000e+02\n",
       "Paco         3.330000e+05\n",
       "Pdco         3.432510e+05\n",
       "Vdco         3.700880e+02\n",
       "Pso          1.427750e+03\n",
       "C0          -5.768090e-08\n",
       "C1           7.192230e-05\n",
       "C2           2.075400e-03\n",
       "C3           5.956110e-05\n",
       "Pnt          1.033000e+02\n",
       "Vdcmax       6.000000e+02\n",
       "Idcmax       5.000000e+02\n",
       "Mppt_low     3.300000e+02\n",
       "Mppt_high    6.000000e+02\n",
       "Name: Advanced_Energy__Solaron_333_3159000_105_480V__CEC_2008_, dtype: float64"
      ]
     },
     "execution_count": 19,
     "metadata": {},
     "output_type": "execute_result"
    }
   ],
   "source": [
    "Invdb=pvlib.pvl_retreiveSAM(name='SandiaInverter')\n",
    "inverter=Invdb.Advanced_Energy__Solaron_333_3159000_105_480V__CEC_2008_\n",
    "inverter"
   ]
  },
  {
   "cell_type": "markdown",
   "metadata": {},
   "source": [
    "# Sandia Model"
   ]
  },
  {
   "cell_type": "code",
   "execution_count": 20,
   "metadata": {
    "collapsed": false
   },
   "outputs": [],
   "source": [
    "\n",
    "DFOut=pvlib.pvl_sapm(Eb=TMY['Eb'],\n",
    "                    Ediff=TMY['EDiff'],\n",
    "                    Tcell=TMY['Tcell'],\n",
    "                    AM=TMY['AM'],\n",
    "                    AOI=TMY['AOI'],\n",
    "                    Module=module)\n",
    "\n",
    "TMY['Imp']=DFOut['Imp']\n",
    "TMY['Voc']=DFOut['Voc']\n",
    "TMY['Vmp']=DFOut['Vmp']\n",
    "TMY['Pmp']=DFOut['Pmp']\n",
    "TMY['Ix']=DFOut['Ix']\n",
    "TMY['Ixx']=DFOut['Ixx']"
   ]
  },
  {
   "cell_type": "markdown",
   "metadata": {},
   "source": [
    "# Single Diode Model"
   ]
  },
  {
   "cell_type": "code",
   "execution_count": 21,
   "metadata": {
    "collapsed": false
   },
   "outputs": [],
   "source": [
    "\n",
    "moddb=pvlib.pvl_retreiveSAM(name='CECMod')\n",
    "module=moddb.Canadian_Solar_CS5P_220P\n",
    "\n",
    "IL,I0,Rs,Rsh,nNsVth=pvlib.pvl_calcparams_desoto(S=TMY.GHI,\n",
    "                                               Tcell=TMY.DryBulb,\n",
    "                                               alpha_isc=.003,\n",
    "                                               ModuleParameters=module,\n",
    "                                               EgRef=1.121,\n",
    "                                               dEgdT= -0.0002677)\n",
    "\n",
    "\n",
    "DFout= pvlib.pvl_singlediode(Module=module,\n",
    "                               IL=IL,\n",
    "                               I0=I0,\n",
    "                               Rs=Rs,\n",
    "                               Rsh=Rsh,\n",
    "                               nNsVth=nNsVth)\n",
    "\n",
    "\n",
    "TMY['sd_Imp']=DFOut['Imp']\n",
    "TMY['sd_Voc']=DFOut['Voc']\n",
    "TMY['sd_Vmp']=DFOut['Vmp']\n",
    "TMY['sd_Pmp']=DFOut['Pmp']\n",
    "TMY['sd_Ix']=DFOut['Ix']\n",
    "TMY['sd_Ixx']=DFOut['Ixx']           "
   ]
  },
  {
   "cell_type": "markdown",
   "metadata": {},
   "source": [
    "# Inverter Model"
   ]
  },
  {
   "cell_type": "code",
   "execution_count": 22,
   "metadata": {
    "collapsed": false
   },
   "outputs": [],
   "source": [
    "\n",
    "TMY['ACPower']=pvlib.pvl_snlinverter(Vmp=TMY.Vmp,Pmp=TMY.Pmp,Inverter=inverter)\n",
    "\n"
   ]
  },
  {
   "cell_type": "markdown",
   "metadata": {
    "collapsed": false
   },
   "source": [
    "## Python and [module versions, and dates](http://nbviewer.ipython.org/github/jrjohansson/scientific-python-lectures/blob/master/Lecture-0-Scientific-Computing-with-Python.ipynb)"
   ]
  },
  {
   "cell_type": "code",
   "execution_count": 12,
   "metadata": {
    "collapsed": false
   },
   "outputs": [
    {
     "data": {
      "application/json": {
       "Software versions": [
        {
         "module": "Python",
         "version": "2.7.8 32bit [MSC v.1500 32 bit (Intel)]"
        },
        {
         "module": "IPython",
         "version": "3.0.0"
        },
        {
         "module": "OS",
         "version": "Windows 7 6.1.7601 SP1"
        },
        {
         "module": "numpy",
         "version": "1.9.2"
        },
        {
         "module": "scipy",
         "version": "0.15.1"
        },
        {
         "module": "matplotlib",
         "version": "1.4.3"
        }
       ]
      },
      "text/html": [
       "<table><tr><th>Software</th><th>Version</th></tr><tr><td>Python</td><td>2.7.8 32bit [MSC v.1500 32 bit (Intel)]</td></tr><tr><td>IPython</td><td>3.0.0</td></tr><tr><td>OS</td><td>Windows 7 6.1.7601 SP1</td></tr><tr><td>numpy</td><td>1.9.2</td></tr><tr><td>scipy</td><td>0.15.1</td></tr><tr><td>matplotlib</td><td>1.4.3</td></tr><tr><td colspan='2'>Sun Jun 21 22:06:08 2015 South Africa Standard Time</td></tr></table>"
      ],
      "text/latex": [
       "\\begin{tabular}{|l|l|}\\hline\n",
       "{\\bf Software} & {\\bf Version} \\\\ \\hline\\hline\n",
       "Python & 2.7.8 32bit [MSC v.1500 32 bit (Intel)] \\\\ \\hline\n",
       "IPython & 3.0.0 \\\\ \\hline\n",
       "OS & Windows 7 6.1.7601 SP1 \\\\ \\hline\n",
       "numpy & 1.9.2 \\\\ \\hline\n",
       "scipy & 0.15.1 \\\\ \\hline\n",
       "matplotlib & 1.4.3 \\\\ \\hline\n",
       "\\hline \\multicolumn{2}{|l|}{Sun Jun 21 22:06:08 2015 South Africa Standard Time} \\\\ \\hline\n",
       "\\end{tabular}\n"
      ],
      "text/plain": [
       "Software versions\n",
       "Python 2.7.8 32bit [MSC v.1500 32 bit (Intel)]\n",
       "IPython 3.0.0\n",
       "OS Windows 7 6.1.7601 SP1\n",
       "numpy 1.9.2\n",
       "scipy 0.15.1\n",
       "matplotlib 1.4.3\n",
       "Sun Jun 21 22:06:08 2015 South Africa Standard Time"
      ]
     },
     "execution_count": 12,
     "metadata": {},
     "output_type": "execute_result"
    }
   ],
   "source": [
    "%load_ext version_information\n",
    "%version_information numpy, scipy, matplotlib, pandas, pvlib"
   ]
  },
  {
   "cell_type": "code",
   "execution_count": null,
   "metadata": {
    "collapsed": true
   },
   "outputs": [],
   "source": []
  }
 ],
 "metadata": {
  "kernelspec": {
   "display_name": "Python 2",
   "language": "python",
   "name": "python2"
  },
  "language_info": {
   "codemirror_mode": {
    "name": "ipython",
    "version": 2
   },
   "file_extension": ".py",
   "mimetype": "text/x-python",
   "name": "python",
   "nbconvert_exporter": "python",
   "pygments_lexer": "ipython2",
   "version": "2.7.8"
  }
 },
 "nbformat": 4,
 "nbformat_minor": 0
}
