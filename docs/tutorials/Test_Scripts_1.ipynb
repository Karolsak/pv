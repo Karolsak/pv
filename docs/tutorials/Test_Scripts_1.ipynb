{
 "cells": [
  {
   "cell_type": "markdown",
   "metadata": {},
   "source": [
    "# import pvlib library"
   ]
  },
  {
   "cell_type": "code",
   "execution_count": 1,
   "metadata": {
    "collapsed": false
   },
   "outputs": [],
   "source": [
    "import sys\n",
    "import os\n",
    "sys.path.append(os.path.abspath('../')) #append the parent directory to the system path\n",
    "sys.path.append(os.path.abspath('../pvlib')) #append the parent directory to the system path\n",
    "import pvlib as pvlib\n",
    "import pandas as pd \n",
    "import datetime"
   ]
  },
  {
   "cell_type": "markdown",
   "metadata": {},
   "source": [
    "# Import TMY data"
   ]
  },
  {
   "cell_type": "markdown",
   "metadata": {},
   "source": [
    "## Use Sandia standard data "
   ]
  },
  {
   "cell_type": "code",
   "execution_count": 2,
   "metadata": {
    "collapsed": false
   },
   "outputs": [],
   "source": [
    "\n",
    "fname='../../pvlib/data/723650TYA.csv' #Use absolute path if the file is not in the local directory\n",
    "TMY, meta = pvlib.tmy.readtmy3(filename=fname)"
   ]
  },
  {
   "cell_type": "code",
   "execution_count": 3,
   "metadata": {
    "collapsed": false
   },
   "outputs": [
    {
     "name": "stdout",
     "output_type": "stream",
     "text": [
      "\"ALBUQUERQUE INTL ARPT [ISIS]\": latitude=43.42, longitude=-79.2, tz=US/Mountain, altitude=100\n"
     ]
    }
   ],
   "source": [
    "# meta['longitude']=-79.2\n",
    "# meta['latitude']=43.42\n",
    "# meta['TZ']=-5\n",
    "meta['SurfTilt']=30\n",
    "meta['SurfAz']=0\n",
    "meta['Albedo']=0.2\n",
    "\n",
    "location = pvlib.location.Location(latitude=43.42, longitude=-79.2, tz='US/Mountain', altitude=100,\n",
    "                 name=meta['Name'])\n",
    "\n",
    "print(location)"
   ]
  },
  {
   "cell_type": "code",
   "execution_count": 4,
   "metadata": {
    "collapsed": false
   },
   "outputs": [
    {
     "name": "stdout",
     "output_type": "stream",
     "text": [
      "NM\n",
      "\"ALBUQUERQUE INTL ARPT [ISIS]\": latitude=43.42, longitude=-79.2, tz=US/Mountain, altitude=100\n"
     ]
    }
   ],
   "source": [
    "print meta['State']\n",
    "# print meta['longitude']\n",
    "print(location)"
   ]
  },
  {
   "cell_type": "markdown",
   "metadata": {},
   "source": [
    "## Define date range of interest for graphing"
   ]
  },
  {
   "cell_type": "code",
   "execution_count": 5,
   "metadata": {
    "collapsed": false
   },
   "outputs": [
    {
     "data": {
      "text/plain": [
       "<class 'pandas.tseries.index.DatetimeIndex'>\n",
       "[1979-03-26 00:00:00, ..., 1979-03-26 23:00:00]\n",
       "Length: 24, Freq: H, Timezone: None"
      ]
     },
     "execution_count": 5,
     "metadata": {},
     "output_type": "execute_result"
    }
   ],
   "source": [
    "month=3\n",
    "day=26\n",
    "hour=0\n",
    "periods=24\n",
    "freq='H'\n",
    "rng=pd.date_range(datetime.datetime(year=min(TMY.index.year),month=month,day=day,hour=hour),periods=periods,freq=freq)\n",
    "rng                "
   ]
  },
  {
   "cell_type": "markdown",
   "metadata": {},
   "source": [
    "# Get solar angles"
   ]
  },
  {
   "cell_type": "code",
   "execution_count": 6,
   "metadata": {
    "collapsed": false
   },
   "outputs": [
    {
     "name": "stdout",
     "output_type": "stream",
     "text": [
      "(<class 'pandas.tseries.index.DatetimeIndex'>\n",
      "[1981-01-01 01:00:00-07:00, ..., 2000-01-01 00:00:00-07:00]\n",
      "Length: 8760, Freq: None, Timezone: pytz.FixedOffset(-420), <class 'pandas.tseries.index.DatetimeIndex'>)\n"
     ]
    },
    {
     "ename": "TypeError",
     "evalue": "unsupported operand type(s) for *: 'datetime.datetime' and 'float'",
     "output_type": "error",
     "traceback": [
      "\u001b[1;31m---------------------------------------------------------------------------\u001b[0m",
      "\u001b[1;31mTypeError\u001b[0m                                 Traceback (most recent call last)",
      "\u001b[1;32m<ipython-input-6-f8ac3fd1b364>\u001b[0m in \u001b[0;36m<module>\u001b[1;34m()\u001b[0m\n\u001b[0;32m     22\u001b[0m dfout = pvlib.spa.solar_position(unixtime=TMY.index.to_pydatetime(), lat=location.latitude, lon=location.longitude, \n\u001b[0;32m     23\u001b[0m                     \u001b[0melev\u001b[0m\u001b[1;33m=\u001b[0m\u001b[0mlocation\u001b[0m\u001b[1;33m.\u001b[0m\u001b[0maltitude\u001b[0m\u001b[1;33m,\u001b[0m\u001b[1;33m\u001b[0m\u001b[0m\n\u001b[1;32m---> 24\u001b[1;33m                     pressure=101325, temp=12, delta_t=67.0, atmos_refract=0.5667)\n\u001b[0m\u001b[0;32m     25\u001b[0m \u001b[1;32mprint\u001b[0m\u001b[1;33m(\u001b[0m\u001b[0mdfout\u001b[0m\u001b[1;33m)\u001b[0m\u001b[1;33m\u001b[0m\u001b[0m\n\u001b[0;32m     26\u001b[0m \u001b[1;33m\u001b[0m\u001b[0m\n",
      "\u001b[1;32mW:\\MyApps\\pvlib-python\\pvlib\\spa.pyc\u001b[0m in \u001b[0;36msolar_position\u001b[1;34m(unixtime, lat, lon, elev, pressure, temp, delta_t, atmos_refract, numthreads, sst)\u001b[0m\n\u001b[0;32m   1127\u001b[0m     result = do_calc(unixtime, lat, lon, elev, pressure,\n\u001b[0;32m   1128\u001b[0m                      \u001b[0mtemp\u001b[0m\u001b[1;33m,\u001b[0m \u001b[0mdelta_t\u001b[0m\u001b[1;33m,\u001b[0m \u001b[0matmos_refract\u001b[0m\u001b[1;33m,\u001b[0m \u001b[0mnumthreads\u001b[0m\u001b[1;33m,\u001b[0m\u001b[1;33m\u001b[0m\u001b[0m\n\u001b[1;32m-> 1129\u001b[1;33m                      sst)\n\u001b[0m\u001b[0;32m   1130\u001b[0m \u001b[1;33m\u001b[0m\u001b[0m\n\u001b[0;32m   1131\u001b[0m     \u001b[1;32mif\u001b[0m \u001b[1;32mnot\u001b[0m \u001b[0misinstance\u001b[0m\u001b[1;33m(\u001b[0m\u001b[0mresult\u001b[0m\u001b[1;33m,\u001b[0m \u001b[0mnp\u001b[0m\u001b[1;33m.\u001b[0m\u001b[0mndarray\u001b[0m\u001b[1;33m)\u001b[0m\u001b[1;33m:\u001b[0m\u001b[1;33m\u001b[0m\u001b[0m\n",
      "\u001b[1;32mW:\\MyApps\\pvlib-python\\pvlib\\spa.pyc\u001b[0m in \u001b[0;36msolar_position_numpy\u001b[1;34m(unixtime, lat, lon, elev, pressure, temp, delta_t, atmos_refract, numthreads, sst)\u001b[0m\n\u001b[0;32m   1013\u001b[0m     \"\"\"\n\u001b[0;32m   1014\u001b[0m \u001b[1;33m\u001b[0m\u001b[0m\n\u001b[1;32m-> 1015\u001b[1;33m     \u001b[0mjd\u001b[0m \u001b[1;33m=\u001b[0m \u001b[0mjulian_day\u001b[0m\u001b[1;33m(\u001b[0m\u001b[0munixtime\u001b[0m\u001b[1;33m)\u001b[0m\u001b[1;33m\u001b[0m\u001b[0m\n\u001b[0m\u001b[0;32m   1016\u001b[0m     \u001b[0mjde\u001b[0m \u001b[1;33m=\u001b[0m \u001b[0mjulian_ephemeris_day\u001b[0m\u001b[1;33m(\u001b[0m\u001b[0mjd\u001b[0m\u001b[1;33m,\u001b[0m \u001b[0mdelta_t\u001b[0m\u001b[1;33m)\u001b[0m\u001b[1;33m\u001b[0m\u001b[0m\n\u001b[0;32m   1017\u001b[0m     \u001b[0mjc\u001b[0m \u001b[1;33m=\u001b[0m \u001b[0mjulian_century\u001b[0m\u001b[1;33m(\u001b[0m\u001b[0mjd\u001b[0m\u001b[1;33m)\u001b[0m\u001b[1;33m\u001b[0m\u001b[0m\n",
      "\u001b[1;32mW:\\MyApps\\pvlib-python\\pvlib\\spa.pyc\u001b[0m in \u001b[0;36mjulian_day\u001b[1;34m(unixtime)\u001b[0m\n\u001b[0;32m    448\u001b[0m \u001b[1;33m@\u001b[0m\u001b[0mjcompile\u001b[0m\u001b[1;33m(\u001b[0m\u001b[1;34m'float64(float64)'\u001b[0m\u001b[1;33m,\u001b[0m \u001b[0mnopython\u001b[0m\u001b[1;33m=\u001b[0m\u001b[0mTrue\u001b[0m\u001b[1;33m)\u001b[0m\u001b[1;33m\u001b[0m\u001b[0m\n\u001b[0;32m    449\u001b[0m \u001b[1;32mdef\u001b[0m \u001b[0mjulian_day\u001b[0m\u001b[1;33m(\u001b[0m\u001b[0munixtime\u001b[0m\u001b[1;33m)\u001b[0m\u001b[1;33m:\u001b[0m\u001b[1;33m\u001b[0m\u001b[0m\n\u001b[1;32m--> 450\u001b[1;33m     \u001b[0mjd\u001b[0m \u001b[1;33m=\u001b[0m \u001b[0munixtime\u001b[0m \u001b[1;33m*\u001b[0m \u001b[1;36m1.0\u001b[0m \u001b[1;33m/\u001b[0m \u001b[1;36m86400\u001b[0m \u001b[1;33m+\u001b[0m \u001b[1;36m2440587.5\u001b[0m\u001b[1;33m\u001b[0m\u001b[0m\n\u001b[0m\u001b[0;32m    451\u001b[0m     \u001b[1;32mreturn\u001b[0m \u001b[0mjd\u001b[0m\u001b[1;33m\u001b[0m\u001b[0m\n\u001b[0;32m    452\u001b[0m \u001b[1;33m\u001b[0m\u001b[0m\n",
      "\u001b[1;31mTypeError\u001b[0m: unsupported operand type(s) for *: 'datetime.datetime' and 'float'"
     ]
    }
   ],
   "source": [
    "# import pvlib.solarposition\n",
    "# reload(pvlib.solarposition)\n",
    "# print(meta, type(meta))\n",
    "#Using Ephemeris Calculations\n",
    "# TMY['SunAz'],TMY['SunEl'],TMY['ApparentSunEl'],TMY['SolarTime'], TMY['SunZen'] = \\\n",
    "#      pvlib.solarposition.ephemeris(time=TMY.index,location=location)\n",
    "df_ephemeris= pvlib.solarposition.ephemeris(time=TMY.index,location=location)\n",
    "# print(df_ephemeris)    \n",
    "TMY['SunAz'] = df_ephemeris['azimuth']\n",
    "TMY['SunEl'] = df_ephemeris['elevation']\n",
    "TMY['ApparentSunEl'] =  df_ephemeris['apparent_elevation']\n",
    "TMY['SolarTime'] = df_ephemeris['solar_time']\n",
    "TMY['SunZen'] =  df_ephemeris['zenith']\n",
    "    \n",
    "#Using NRELS SPA Calculations\n",
    "# import pvl_spa\n",
    "# reload (pvl_spa)\n",
    "# TMY['SunAz_spa'],TMY['SunEl_spa'],TMY['SunZen_spa']=\\\n",
    "#     pvl_spa.pvl_spa(Time=TMY.index,Location=meta)\n",
    "print(TMY.index.to_datetime(),type(TMY.index.to_datetime()))\n",
    "\n",
    "dfout = pvlib.spa.solar_position(unixtime=TMY.index.to_pydatetime(), lat=location.latitude, lon=location.longitude, \n",
    "                    elev=location.altitude, \n",
    "                    pressure=101325, temp=12, delta_t=67.0, atmos_refract=0.5667)\n",
    "print(dfout)\n",
    "\n"
   ]
  },
  {
   "cell_type": "code",
   "execution_count": 7,
   "metadata": {
    "collapsed": false
   },
   "outputs": [
    {
     "ename": "NameError",
     "evalue": "name 'clf' is not defined",
     "output_type": "error",
     "traceback": [
      "\u001b[1;31m---------------------------------------------------------------------------\u001b[0m",
      "\u001b[1;31mNameError\u001b[0m                                 Traceback (most recent call last)",
      "\u001b[1;32m<ipython-input-7-a5cf2ae5564f>\u001b[0m in \u001b[0;36m<module>\u001b[1;34m()\u001b[0m\n\u001b[1;32m----> 1\u001b[1;33m \u001b[0mclf\u001b[0m\u001b[1;33m(\u001b[0m\u001b[1;33m)\u001b[0m\u001b[1;33m\u001b[0m\u001b[0m\n\u001b[0m\u001b[0;32m      2\u001b[0m \u001b[0mplot\u001b[0m\u001b[1;33m(\u001b[0m\u001b[0mTMY\u001b[0m\u001b[1;33m.\u001b[0m\u001b[0mindex\u001b[0m\u001b[1;33m,\u001b[0m\u001b[0mTMY\u001b[0m\u001b[1;33m.\u001b[0m\u001b[0mSunAz\u001b[0m\u001b[1;33m)\u001b[0m\u001b[1;33m\u001b[0m\u001b[0m\n\u001b[0;32m      3\u001b[0m \u001b[0mplot\u001b[0m\u001b[1;33m(\u001b[0m\u001b[0mTMY\u001b[0m\u001b[1;33m.\u001b[0m\u001b[0mindex\u001b[0m\u001b[1;33m,\u001b[0m\u001b[0mTMY\u001b[0m\u001b[1;33m.\u001b[0m\u001b[0mSunAz_spa\u001b[0m\u001b[1;33m)\u001b[0m\u001b[1;33m\u001b[0m\u001b[0m\n\u001b[0;32m      4\u001b[0m \u001b[0mplot\u001b[0m\u001b[1;33m(\u001b[0m\u001b[0mTMY\u001b[0m\u001b[1;33m.\u001b[0m\u001b[0mindex\u001b[0m\u001b[1;33m,\u001b[0m\u001b[0mTMY\u001b[0m\u001b[1;33m.\u001b[0m\u001b[0mSunEl\u001b[0m\u001b[1;33m,\u001b[0m\u001b[0mlabel\u001b[0m\u001b[1;33m=\u001b[0m\u001b[1;34m'eph'\u001b[0m\u001b[1;33m)\u001b[0m\u001b[1;33m\u001b[0m\u001b[0m\n\u001b[0;32m      5\u001b[0m \u001b[0mplot\u001b[0m\u001b[1;33m(\u001b[0m\u001b[0mTMY\u001b[0m\u001b[1;33m.\u001b[0m\u001b[0mindex\u001b[0m\u001b[1;33m,\u001b[0m\u001b[0mTMY\u001b[0m\u001b[1;33m.\u001b[0m\u001b[0mSunEl_spa\u001b[0m\u001b[1;33m,\u001b[0m\u001b[0mlabel\u001b[0m\u001b[1;33m=\u001b[0m\u001b[1;34m'spa'\u001b[0m\u001b[1;33m)\u001b[0m\u001b[1;33m\u001b[0m\u001b[0m\n",
      "\u001b[1;31mNameError\u001b[0m: name 'clf' is not defined"
     ]
    }
   ],
   "source": [
    "clf()\n",
    "plot(TMY.index,TMY.SunAz)\n",
    "plot(TMY.index,TMY.SunAz_spa)\n",
    "plot(TMY.index,TMY.SunEl,label='eph')\n",
    "plot(TMY.index,TMY.SunEl_spa,label='spa')\n",
    "legend()"
   ]
  },
  {
   "cell_type": "markdown",
   "metadata": {},
   "source": [
    "# Calculate Extraterrestrial Irradiaion and AirMass"
   ]
  },
  {
   "cell_type": "code",
   "execution_count": 8,
   "metadata": {
    "collapsed": false
   },
   "outputs": [
    {
     "ename": "AttributeError",
     "evalue": "'module' object has no attribute 'pvl_extraradiation'",
     "output_type": "error",
     "traceback": [
      "\u001b[1;31m---------------------------------------------------------------------------\u001b[0m",
      "\u001b[1;31mAttributeError\u001b[0m                            Traceback (most recent call last)",
      "\u001b[1;32m<ipython-input-8-db3229908138>\u001b[0m in \u001b[0;36m<module>\u001b[1;34m()\u001b[0m\n\u001b[0;32m      1\u001b[0m \u001b[1;33m\u001b[0m\u001b[0m\n\u001b[1;32m----> 2\u001b[1;33m \u001b[0mTMY\u001b[0m\u001b[1;33m[\u001b[0m\u001b[1;34m'HExtra'\u001b[0m\u001b[1;33m]\u001b[0m\u001b[1;33m=\u001b[0m\u001b[0mpvlib\u001b[0m\u001b[1;33m.\u001b[0m\u001b[0mpvl_extraradiation\u001b[0m\u001b[1;33m(\u001b[0m\u001b[0mdoy\u001b[0m\u001b[1;33m=\u001b[0m\u001b[0mTMY\u001b[0m\u001b[1;33m.\u001b[0m\u001b[0mindex\u001b[0m\u001b[1;33m.\u001b[0m\u001b[0mdayofyear\u001b[0m\u001b[1;33m)\u001b[0m\u001b[1;33m\u001b[0m\u001b[0m\n\u001b[0m\u001b[0;32m      3\u001b[0m \u001b[1;33m\u001b[0m\u001b[0m\n\u001b[0;32m      4\u001b[0m \u001b[0mTMY\u001b[0m\u001b[1;33m[\u001b[0m\u001b[1;34m'AM'\u001b[0m\u001b[1;33m]\u001b[0m\u001b[1;33m=\u001b[0m\u001b[0mpvlib\u001b[0m\u001b[1;33m.\u001b[0m\u001b[0mpvl_relativeairmass\u001b[0m\u001b[1;33m(\u001b[0m\u001b[0mz\u001b[0m\u001b[1;33m=\u001b[0m\u001b[0mTMY\u001b[0m\u001b[1;33m.\u001b[0m\u001b[0mSunZen\u001b[0m\u001b[1;33m)\u001b[0m\u001b[1;33m\u001b[0m\u001b[0m\n",
      "\u001b[1;31mAttributeError\u001b[0m: 'module' object has no attribute 'pvl_extraradiation'"
     ]
    }
   ],
   "source": [
    "\n",
    "TMY['HExtra']=pvlib.pvl_extraradiation(doy=TMY.index.dayofyear)\n",
    "\n",
    "TMY['AM']=pvlib.pvl_relativeairmass(z=TMY.SunZen)"
   ]
  },
  {
   "cell_type": "markdown",
   "metadata": {},
   "source": [
    "# Generate Clear Sky and DNI"
   ]
  },
  {
   "cell_type": "code",
   "execution_count": 9,
   "metadata": {
    "collapsed": false
   },
   "outputs": [
    {
     "ename": "AttributeError",
     "evalue": "'module' object has no attribute 'pvl_disc'",
     "output_type": "error",
     "traceback": [
      "\u001b[1;31m---------------------------------------------------------------------------\u001b[0m",
      "\u001b[1;31mAttributeError\u001b[0m                            Traceback (most recent call last)",
      "\u001b[1;32m<ipython-input-9-7e13962fb0ef>\u001b[0m in \u001b[0;36m<module>\u001b[1;34m()\u001b[0m\n\u001b[0;32m      1\u001b[0m \u001b[1;33m\u001b[0m\u001b[0m\n\u001b[1;32m----> 2\u001b[1;33m \u001b[0mDFOut\u001b[0m\u001b[1;33m=\u001b[0m\u001b[0mpvlib\u001b[0m\u001b[1;33m.\u001b[0m\u001b[0mpvl_disc\u001b[0m\u001b[1;33m(\u001b[0m\u001b[0mTime\u001b[0m\u001b[1;33m=\u001b[0m\u001b[0mTMY\u001b[0m\u001b[1;33m.\u001b[0m\u001b[0mindex\u001b[0m\u001b[1;33m,\u001b[0m\u001b[0mGHI\u001b[0m\u001b[1;33m=\u001b[0m\u001b[0mTMY\u001b[0m\u001b[1;33m.\u001b[0m\u001b[0mGHI\u001b[0m\u001b[1;33m,\u001b[0m \u001b[0mSunZen\u001b[0m\u001b[1;33m=\u001b[0m\u001b[0mTMY\u001b[0m\u001b[1;33m.\u001b[0m\u001b[0mSunZen\u001b[0m\u001b[1;33m)\u001b[0m\u001b[1;33m\u001b[0m\u001b[0m\n\u001b[0m\u001b[0;32m      3\u001b[0m \u001b[1;33m\u001b[0m\u001b[0m\n\u001b[0;32m      4\u001b[0m \u001b[0mTMY\u001b[0m\u001b[1;33m[\u001b[0m\u001b[1;34m'DNI_gen_DISC'\u001b[0m\u001b[1;33m]\u001b[0m\u001b[1;33m=\u001b[0m\u001b[0mDFOut\u001b[0m\u001b[1;33m[\u001b[0m\u001b[1;34m'DNI_gen_DISC'\u001b[0m\u001b[1;33m]\u001b[0m\u001b[1;33m\u001b[0m\u001b[0m\n\u001b[0;32m      5\u001b[0m \u001b[0mTMY\u001b[0m\u001b[1;33m[\u001b[0m\u001b[1;34m'Kt_gen_DISC'\u001b[0m\u001b[1;33m]\u001b[0m\u001b[1;33m=\u001b[0m\u001b[0mDFOut\u001b[0m\u001b[1;33m[\u001b[0m\u001b[1;34m'Kt_gen_DISC'\u001b[0m\u001b[1;33m]\u001b[0m\u001b[1;33m\u001b[0m\u001b[0m\n",
      "\u001b[1;31mAttributeError\u001b[0m: 'module' object has no attribute 'pvl_disc'"
     ]
    }
   ],
   "source": [
    "\n",
    "DFOut=pvlib.pvl_disc(Time=TMY.index,GHI=TMY.GHI, SunZen=TMY.SunZen)\n",
    "\n",
    "TMY['DNI_gen_DISC']=DFOut['DNI_gen_DISC']\n",
    "TMY['Kt_gen_DISC']=DFOut['Kt_gen_DISC']\n",
    "TMY['AM']=DFOut['AM']\n",
    "TMY['Ztemp']=DFOut['Ztemp']\n"
   ]
  },
  {
   "cell_type": "markdown",
   "metadata": {},
   "source": [
    "# Plane Transformation"
   ]
  },
  {
   "cell_type": "code",
   "execution_count": 11,
   "metadata": {
    "collapsed": false
   },
   "outputs": [
    {
     "ename": "AttributeError",
     "evalue": "'DataFrame' object has no attribute 'HExtra'",
     "output_type": "error",
     "traceback": [
      "\u001b[1;31m---------------------------------------------------------------------------\u001b[0m",
      "\u001b[1;31mAttributeError\u001b[0m                            Traceback (most recent call last)",
      "\u001b[1;32m<ipython-input-11-c752728377bf>\u001b[0m in \u001b[0;36m<module>\u001b[1;34m()\u001b[0m\n\u001b[0;32m      4\u001b[0m                                             \u001b[0mDHI\u001b[0m\u001b[1;33m=\u001b[0m\u001b[0mTMY\u001b[0m\u001b[1;33m.\u001b[0m\u001b[0mDHI\u001b[0m\u001b[1;33m,\u001b[0m\u001b[1;33m\u001b[0m\u001b[0m\n\u001b[0;32m      5\u001b[0m                                             \u001b[0mDNI\u001b[0m\u001b[1;33m=\u001b[0m\u001b[0mTMY\u001b[0m\u001b[1;33m.\u001b[0m\u001b[0mDNI\u001b[0m\u001b[1;33m,\u001b[0m\u001b[1;33m\u001b[0m\u001b[0m\n\u001b[1;32m----> 6\u001b[1;33m                                             \u001b[0mHExtra\u001b[0m\u001b[1;33m=\u001b[0m\u001b[0mTMY\u001b[0m\u001b[1;33m.\u001b[0m\u001b[0mHExtra\u001b[0m\u001b[1;33m,\u001b[0m\u001b[1;33m\u001b[0m\u001b[0m\n\u001b[0m\u001b[0;32m      7\u001b[0m                                             \u001b[0mSunZen\u001b[0m\u001b[1;33m=\u001b[0m\u001b[0mTMY\u001b[0m\u001b[1;33m.\u001b[0m\u001b[0mSunZen\u001b[0m\u001b[1;33m,\u001b[0m\u001b[1;33m\u001b[0m\u001b[0m\n\u001b[0;32m      8\u001b[0m                                             \u001b[0mSunAz\u001b[0m\u001b[1;33m=\u001b[0m\u001b[0mTMY\u001b[0m\u001b[1;33m.\u001b[0m\u001b[0mSunAz\u001b[0m\u001b[1;33m,\u001b[0m\u001b[1;33m\u001b[0m\u001b[0m\n",
      "\u001b[1;32mC:\\Anaconda\\lib\\site-packages\\pandas\\core\\generic.pyc\u001b[0m in \u001b[0;36m__getattr__\u001b[1;34m(self, name)\u001b[0m\n\u001b[0;32m   1945\u001b[0m                 \u001b[1;32mreturn\u001b[0m \u001b[0mself\u001b[0m\u001b[1;33m[\u001b[0m\u001b[0mname\u001b[0m\u001b[1;33m]\u001b[0m\u001b[1;33m\u001b[0m\u001b[0m\n\u001b[0;32m   1946\u001b[0m             raise AttributeError(\"'%s' object has no attribute '%s'\" %\n\u001b[1;32m-> 1947\u001b[1;33m                                  (type(self).__name__, name))\n\u001b[0m\u001b[0;32m   1948\u001b[0m \u001b[1;33m\u001b[0m\u001b[0m\n\u001b[0;32m   1949\u001b[0m     \u001b[1;32mdef\u001b[0m \u001b[0m__setattr__\u001b[0m\u001b[1;33m(\u001b[0m\u001b[0mself\u001b[0m\u001b[1;33m,\u001b[0m \u001b[0mname\u001b[0m\u001b[1;33m,\u001b[0m \u001b[0mvalue\u001b[0m\u001b[1;33m)\u001b[0m\u001b[1;33m:\u001b[0m\u001b[1;33m\u001b[0m\u001b[0m\n",
      "\u001b[1;31mAttributeError\u001b[0m: 'DataFrame' object has no attribute 'HExtra'"
     ]
    }
   ],
   "source": [
    "\n",
    "TMY['In_Plane_SkyDiffuse']=pvlib.irradiance.perez(SurfTilt=meta['SurfTilt'],\n",
    "                                            SurfAz=meta['SurfAz'],\n",
    "                                            DHI=TMY.DHI,\n",
    "                                            DNI=TMY.DNI,\n",
    "                                            HExtra=TMY.HExtra,\n",
    "                                            SunZen=TMY.SunZen,\n",
    "                                            SunAz=TMY.SunAz,\n",
    "                                            AM=TMY.AM)\n"
   ]
  },
  {
   "cell_type": "markdown",
   "metadata": {},
   "source": [
    "# Ground Diffuse reflection"
   ]
  },
  {
   "cell_type": "code",
   "execution_count": null,
   "metadata": {
    "collapsed": false
   },
   "outputs": [],
   "source": [
    "\n",
    "TMY['GR']=pvlib.pvl_grounddiffuse(GHI=TMY.GHI,Albedo=meta['Albedo'],SurfTilt=meta['SurfTilt'])"
   ]
  },
  {
   "cell_type": "markdown",
   "metadata": {},
   "source": [
    "# Get AOI"
   ]
  },
  {
   "cell_type": "code",
   "execution_count": null,
   "metadata": {
    "collapsed": false
   },
   "outputs": [],
   "source": [
    "\n",
    "TMY['AOI']=pvlib.pvl_getaoi(SunAz=TMY.SunAz,SunZen=TMY.SunZen,SurfTilt=meta['SurfTilt'],SurfAz=meta['SurfAz'])"
   ]
  },
  {
   "cell_type": "markdown",
   "metadata": {},
   "source": [
    "# Calculate Global in-plane"
   ]
  },
  {
   "cell_type": "code",
   "execution_count": null,
   "metadata": {
    "collapsed": false
   },
   "outputs": [],
   "source": [
    "\n",
    "TMY['E'],TMY['Eb'],TMY['EDiff']=pvlib.pvl_globalinplane(AOI=TMY.AOI,\n",
    "                                DNI=TMY.DNI,\n",
    "                                In_Plane_SkyDiffuse=TMY.In_Plane_SkyDiffuse,\n",
    "                                GR=TMY.GR,\n",
    "                                SurfTilt=meta['SurfTilt'],\n",
    "                                SurfAz=meta['SurfAz'])\n",
    "\n"
   ]
  },
  {
   "cell_type": "markdown",
   "metadata": {},
   "source": [
    "# Calculate Cell Temperature"
   ]
  },
  {
   "cell_type": "code",
   "execution_count": null,
   "metadata": {
    "collapsed": false
   },
   "outputs": [],
   "source": [
    "\n",
    "TMY['Tcell'],TMY['Tmodule']=pvlib.pvl_sapmcelltemp(E=TMY.E,\n",
    "                            Wspd=TMY.Wspd,\n",
    "                            Tamb=TMY.DryBulb)\n",
    "\n",
    "\n",
    "\n"
   ]
  },
  {
   "cell_type": "markdown",
   "metadata": {},
   "source": [
    "# Import module coefficients"
   ]
  },
  {
   "cell_type": "code",
   "execution_count": null,
   "metadata": {
    "collapsed": false
   },
   "outputs": [],
   "source": [
    "\n",
    "moddb=pvlib.pvl_retreiveSAM(name='SandiaMod')\n",
    "module=moddb.Canadian_Solar_CS5P_220M___2009_\n",
    "module"
   ]
  },
  {
   "cell_type": "markdown",
   "metadata": {},
   "source": [
    "#  import inverter coefficients"
   ]
  },
  {
   "cell_type": "code",
   "execution_count": null,
   "metadata": {
    "collapsed": false
   },
   "outputs": [],
   "source": [
    "Invdb=pvlib.pvl_retreiveSAM(name='SandiaInverter')\n",
    "inverter=Invdb.Advanced_Energy__Solaron_333_3159000_105_480V__CEC_2008_\n",
    "inverter"
   ]
  },
  {
   "cell_type": "markdown",
   "metadata": {},
   "source": [
    "# Sandia Model"
   ]
  },
  {
   "cell_type": "code",
   "execution_count": null,
   "metadata": {
    "collapsed": false
   },
   "outputs": [],
   "source": [
    "\n",
    "DFOut=pvlib.pvl_sapm(Eb=TMY['Eb'],\n",
    "                    Ediff=TMY['EDiff'],\n",
    "                    Tcell=TMY['Tcell'],\n",
    "                    AM=TMY['AM'],\n",
    "                    AOI=TMY['AOI'],\n",
    "                    Module=module)\n",
    "\n",
    "TMY['Imp']=DFOut['Imp']\n",
    "TMY['Voc']=DFOut['Voc']\n",
    "TMY['Vmp']=DFOut['Vmp']\n",
    "TMY['Pmp']=DFOut['Pmp']\n",
    "TMY['Ix']=DFOut['Ix']\n",
    "TMY['Ixx']=DFOut['Ixx']"
   ]
  },
  {
   "cell_type": "markdown",
   "metadata": {},
   "source": [
    "# Single Diode Model"
   ]
  },
  {
   "cell_type": "code",
   "execution_count": null,
   "metadata": {
    "collapsed": false
   },
   "outputs": [],
   "source": [
    "\n",
    "moddb=pvlib.pvl_retreiveSAM(name='CECMod')\n",
    "module=moddb.Canadian_Solar_CS5P_220P\n",
    "\n",
    "IL,I0,Rs,Rsh,nNsVth=pvlib.pvl_calcparams_desoto(S=TMY.GHI,\n",
    "                                               Tcell=TMY.DryBulb,\n",
    "                                               alpha_isc=.003,\n",
    "                                               ModuleParameters=module,\n",
    "                                               EgRef=1.121,\n",
    "                                               dEgdT= -0.0002677)\n",
    "\n",
    "\n",
    "DFout= pvlib.pvl_singlediode(Module=module,\n",
    "                               IL=IL,\n",
    "                               I0=I0,\n",
    "                               Rs=Rs,\n",
    "                               Rsh=Rsh,\n",
    "                               nNsVth=nNsVth)\n",
    "\n",
    "\n",
    "TMY['sd_Imp']=DFOut['Imp']\n",
    "TMY['sd_Voc']=DFOut['Voc']\n",
    "TMY['sd_Vmp']=DFOut['Vmp']\n",
    "TMY['sd_Pmp']=DFOut['Pmp']\n",
    "TMY['sd_Ix']=DFOut['Ix']\n",
    "TMY['sd_Ixx']=DFOut['Ixx']           "
   ]
  },
  {
   "cell_type": "markdown",
   "metadata": {},
   "source": [
    "# Inverter Model"
   ]
  },
  {
   "cell_type": "code",
   "execution_count": null,
   "metadata": {
    "collapsed": false
   },
   "outputs": [],
   "source": [
    "\n",
    "TMY['ACPower']=pvlib.pvl_snlinverter(Vmp=TMY.Vmp,Pmp=TMY.Pmp,Inverter=inverter)\n",
    "\n"
   ]
  },
  {
   "cell_type": "markdown",
   "metadata": {
    "collapsed": false
   },
   "source": [
    "## Python and [module versions, and dates](http://nbviewer.ipython.org/github/jrjohansson/scientific-python-lectures/blob/master/Lecture-0-Scientific-Computing-with-Python.ipynb)"
   ]
  },
  {
   "cell_type": "code",
   "execution_count": null,
   "metadata": {
    "collapsed": false
   },
   "outputs": [],
   "source": [
    "%load_ext version_information\n",
    "%version_information numpy, scipy, matplotlib, pandas, pvlib"
   ]
  },
  {
   "cell_type": "code",
   "execution_count": null,
   "metadata": {
    "collapsed": true
   },
   "outputs": [],
   "source": []
  }
 ],
 "metadata": {
  "kernelspec": {
   "display_name": "Python 2",
   "language": "python",
   "name": "python2"
  },
  "language_info": {
   "codemirror_mode": {
    "name": "ipython",
    "version": 2
   },
   "file_extension": ".py",
   "mimetype": "text/x-python",
   "name": "python",
   "nbconvert_exporter": "python",
   "pygments_lexer": "ipython2",
   "version": "2.7.8"
  }
 },
 "nbformat": 4,
 "nbformat_minor": 0
}
