{
 "cells": [
  {
   "cell_type": "markdown",
   "metadata": {},
   "source": [
    "# import pvlib library"
   ]
  },
  {
   "cell_type": "code",
   "execution_count": 1,
   "metadata": {
    "collapsed": false
   },
   "outputs": [],
   "source": [
    "import sys\n",
    "import os\n",
    "sys.path.append(os.path.abspath('../')) #append the parent directory to the system path\n",
    "sys.path.append(os.path.abspath('../pvlib')) #append the parent directory to the system path\n",
    "import pvlib as pvlib\n",
    "import pandas as pd \n",
    "import numpy as np\n",
    "import datetime"
   ]
  },
  {
   "cell_type": "markdown",
   "metadata": {},
   "source": [
    "# Import TMY data"
   ]
  },
  {
   "cell_type": "markdown",
   "metadata": {},
   "source": [
    "## Use Sandia standard data "
   ]
  },
  {
   "cell_type": "code",
   "execution_count": 2,
   "metadata": {
    "collapsed": false
   },
   "outputs": [
    {
     "name": "stdout",
     "output_type": "stream",
     "text": [
      "Index([u'ETR', u'ETRN', u'GHI', u'GHISource', u'GHIUncertainty', u'DNI',\n",
      "       u'DNISource', u'DNIUncertainty', u'DHI', u'DHISource',\n",
      "       u'DHIUncertainty', u'GHillum', u'GHillumSource', u'GHillumUncertainty',\n",
      "       u'DNillum', u'DNillumSource', u'DNillumUncertainty', u'DHillum',\n",
      "       u'DHillumSource', u'DHillumUncertainty', u'Zenithlum',\n",
      "       u'ZenithlumSource', u'ZenithlumUncertainty', u'TotCld', u'TotCldSource',\n",
      "       u'TotCldUnertainty', u'OpqCld', u'OpqCldSource', u'OpqCldUncertainty',\n",
      "       u'DryBulb', u'DryBulbSource', u'DryBulbUncertainty', u'DewPoint',\n",
      "       u'DewPointSource', u'DewPointUncertainty', u'RHum', u'RHumSource',\n",
      "       u'RHumUncertainty', u'Pressure', u'PressureSource',\n",
      "       u'PressureUncertainty', u'Wdir', u'WdirSource', u'WdirUncertainty',\n",
      "       u'Wspd', u'WspdSource', u'WspdUncertainty', u'Hvis', u'HvisSource',\n",
      "       u'HvisUncertainty', u'CeilHgt', u'CeilHgtSource', u'CeilHgtUncertainty',\n",
      "       u'Pwat', u'PwatSource', u'PwatUncertainty', u'AOD', u'AODSource',\n",
      "       u'AODUncertainty', u'Alb', u'AlbSource', u'AlbUncertainty',\n",
      "       u'Lprecipdepth', u'Lprecipquantity', u'LprecipSource',\n",
      "       u'LprecipUncertainty', u'PresWth', u'PresWth source',\n",
      "       u'PresWth uncert'],\n",
      "      dtype='object')\n",
      "{'TZ': -7.0, 'Name': '\"ALBUQUERQUE INTL ARPT [ISIS]\"', 'altitude': 1619.0, 'USAF': 723650, 'longitude': -106.62, 'State': 'NM', 'latitude': 35.04}\n"
     ]
    }
   ],
   "source": [
    "\n",
    "fname='../../pvlib/data/723650TYA.csv' #Use absolute path if the file is not in the local directory\n",
    "TMY, meta = pvlib.tmy.readtmy3(filename=fname)\n",
    "print(TMY.columns)\n",
    "print(meta)"
   ]
  },
  {
   "cell_type": "code",
   "execution_count": 3,
   "metadata": {
    "collapsed": false
   },
   "outputs": [
    {
     "name": "stdout",
     "output_type": "stream",
     "text": [
      "\"ALBUQUERQUE INTL ARPT [ISIS]\": latitude=43.42, longitude=-79.2, tz=US/Mountain, altitude=100\n"
     ]
    }
   ],
   "source": [
    "# meta['longitude']=-79.2\n",
    "# meta['latitude']=43.42\n",
    "# meta['TZ']=-5\n",
    "meta['SurfTilt']=30\n",
    "meta['SurfAz']=0\n",
    "meta['Albedo']=0.2\n",
    "\n",
    "location = pvlib.location.Location(latitude=43.42, longitude=-79.2, tz='US/Mountain', altitude=100,\n",
    "                 name=meta['Name'])\n",
    "\n",
    "print(location)"
   ]
  },
  {
   "cell_type": "code",
   "execution_count": 4,
   "metadata": {
    "collapsed": false
   },
   "outputs": [
    {
     "name": "stdout",
     "output_type": "stream",
     "text": [
      "NM\n",
      "\"ALBUQUERQUE INTL ARPT [ISIS]\": latitude=43.42, longitude=-79.2, tz=US/Mountain, altitude=100\n"
     ]
    }
   ],
   "source": [
    "print meta['State']\n",
    "# print meta['longitude']\n",
    "print(location)"
   ]
  },
  {
   "cell_type": "markdown",
   "metadata": {},
   "source": [
    "## Define date range of interest for graphing"
   ]
  },
  {
   "cell_type": "code",
   "execution_count": 5,
   "metadata": {
    "collapsed": false
   },
   "outputs": [
    {
     "data": {
      "text/plain": [
       "DatetimeIndex(['1979-03-26 00:00:00', '1979-03-26 01:00:00',\n",
       "               '1979-03-26 02:00:00', '1979-03-26 03:00:00',\n",
       "               '1979-03-26 04:00:00', '1979-03-26 05:00:00',\n",
       "               '1979-03-26 06:00:00', '1979-03-26 07:00:00',\n",
       "               '1979-03-26 08:00:00', '1979-03-26 09:00:00',\n",
       "               '1979-03-26 10:00:00', '1979-03-26 11:00:00',\n",
       "               '1979-03-26 12:00:00', '1979-03-26 13:00:00',\n",
       "               '1979-03-26 14:00:00', '1979-03-26 15:00:00',\n",
       "               '1979-03-26 16:00:00', '1979-03-26 17:00:00',\n",
       "               '1979-03-26 18:00:00', '1979-03-26 19:00:00',\n",
       "               '1979-03-26 20:00:00', '1979-03-26 21:00:00',\n",
       "               '1979-03-26 22:00:00', '1979-03-26 23:00:00'],\n",
       "              dtype='datetime64[ns]', freq='H', tz=None)"
      ]
     },
     "execution_count": 5,
     "metadata": {},
     "output_type": "execute_result"
    }
   ],
   "source": [
    "month=3\n",
    "day=26\n",
    "hour=0\n",
    "periods=24\n",
    "freq='H'\n",
    "rng=pd.date_range(datetime.datetime(year=min(TMY.index.year),month=month,day=day,hour=hour),periods=periods,freq=freq)\n",
    "rng                "
   ]
  },
  {
   "cell_type": "markdown",
   "metadata": {},
   "source": [
    "# Get solar angles"
   ]
  },
  {
   "cell_type": "code",
   "execution_count": 6,
   "metadata": {
    "collapsed": false
   },
   "outputs": [],
   "source": [
    "# import pvlib.solarposition\n",
    "# reload(pvlib.solarposition)\n",
    "# print(meta, type(meta))\n",
    "#Using Ephemeris Calculations\n",
    "# TMY['SunAz'],TMY['SunEl'],TMY['ApparentSunEl'],TMY['SolarTime'], TMY['SunZen'] = \\\n",
    "#      pvlib.solarposition.ephemeris(time=TMY.index,location=location)\n",
    "df_ephemeris= pvlib.solarposition.ephemeris(time=TMY.index,location=location)\n",
    "# print(df_ephemeris)    \n",
    "TMY['SunAz'] = df_ephemeris['azimuth']\n",
    "TMY['SunEl'] = df_ephemeris['elevation']\n",
    "TMY['ApparentSunEl'] =  df_ephemeris['apparent_elevation']\n",
    "TMY['SolarTime'] = df_ephemeris['solar_time']\n",
    "TMY['SunZen'] =  df_ephemeris['zenith']\n",
    "    \n",
    "#Using NRELS SPA Calculations\n",
    "# import pvl_spa\n",
    "# reload (pvl_spa)\n",
    "# TMY['SunAz_spa'],TMY['SunEl_spa'],TMY['SunZen_spa']=\\\n",
    "#     pvl_spa.pvl_spa(Time=TMY.index,Location=meta)\n",
    "\n",
    "dfout = pvlib.spa.solar_position(unixtime=TMY.index.astype(np.int64) // 10**9, lat=location.latitude, lon=location.longitude, \n",
    "                    elev=location.altitude, \n",
    "                    pressure=101325, temp=12, delta_t=67.0, atmos_refract=0.5667)"
   ]
  },
  {
   "cell_type": "code",
   "execution_count": 7,
   "metadata": {
    "collapsed": false
   },
   "outputs": [
    {
     "data": {
      "text/plain": [
       "<matplotlib.axes._subplots.AxesSubplot at 0xa1fe750>"
      ]
     },
     "execution_count": 7,
     "metadata": {},
     "output_type": "execute_result"
    },
    {
     "data": {
      "image/png": "[encoded data removed]",
      "text/plain": [
       "<matplotlib.figure.Figure at 0x9e2e350>"
      ]
     },
     "metadata": {},
     "output_type": "display_data"
    },
    {
     "data": {
      "image/png": "[encoded data removed]",
      "text/plain": [
       "<matplotlib.figure.Figure at 0x9f24f50>"
      ]
     },
     "metadata": {},
     "output_type": "display_data"
    }
   ],
   "source": [
    "%matplotlib inline\n",
    "import matplotlib.pyplot as plt\n",
    "\n",
    "pd.DataFrame(TMY.SunAz, index=TMY.index).plot()\n",
    "# pd.DataFrame(TMY.SunAz_spa, index=TMY.index).plot()\n",
    "pd.DataFrame(TMY.SunEl, index=TMY.index).plot()\n",
    "# pd.DataFrame(TMY.SunEl_spa, index=TMY.index).plot()\n"
   ]
  },
  {
   "cell_type": "markdown",
   "metadata": {},
   "source": [
    "# Calculate Extraterrestrial Irradiation and AirMass"
   ]
  },
  {
   "cell_type": "code",
   "execution_count": 8,
   "metadata": {
    "collapsed": false
   },
   "outputs": [
    {
     "name": "stdout",
     "output_type": "stream",
     "text": [
      "pvlib.atmosphere.relativeairmass: zenith input z  #cjwcjw\n",
      "datetime\n",
      "1981-01-01 01:00:00-07:00    141.389811\n",
      "1981-01-05 05:00:00-07:00     98.866129\n",
      "1981-01-09 09:00:00-07:00     68.259455\n",
      "1981-01-13 13:00:00-07:00     73.853249\n",
      "1981-01-17 17:00:00-07:00    109.817971\n",
      "1981-01-21 21:00:00-07:00    149.923583\n",
      "1981-01-26 01:00:00-07:00    139.912382\n",
      "1981-01-30 05:00:00-07:00     96.773064\n",
      "1979-02-03 09:00:00-07:00     63.479231\n",
      "1979-02-07 13:00:00-07:00     67.895549\n",
      "1979-02-11 17:00:00-07:00    104.743360\n",
      "1979-02-15 21:00:00-07:00    143.440406\n",
      "1979-02-20 01:00:00-07:00    134.340307\n",
      "1979-02-24 05:00:00-07:00     91.219278\n",
      "1979-02-28 09:00:00-07:00     55.301956\n",
      "1979-03-04 13:00:00-07:00     60.464320\n",
      "1979-03-08 17:00:00-07:00     99.180760\n",
      "1979-03-12 21:00:00-07:00    135.417486\n",
      "1979-03-17 01:00:00-07:00    125.836076\n",
      "1979-03-21 05:00:00-07:00     83.430885\n",
      "1979-03-25 09:00:00-07:00     45.571169\n",
      "1979-03-29 13:00:00-07:00     53.175527\n",
      "2003-04-02 17:00:00-07:00     93.660226\n",
      "2003-04-06 21:00:00-07:00    126.813773\n",
      "2003-04-11 01:00:00-07:00    116.649754\n",
      "2003-04-15 05:00:00-07:00     75.535552\n",
      "2003-04-19 09:00:00-07:00     36.188050\n",
      "2003-04-23 13:00:00-07:00     46.911883\n",
      "2003-04-27 17:00:00-07:00     88.484532\n",
      "1999-05-01 21:00:00-07:00    118.960151\n",
      "                                ...    \n",
      "1986-08-30 17:00:00-07:00     91.569518\n",
      "1981-09-03 21:00:00-07:00    126.498791\n",
      "1981-09-08 01:00:00-07:00    118.315934\n",
      "1981-09-12 05:00:00-07:00     78.666751\n",
      "1981-09-16 09:00:00-07:00     43.899757\n",
      "1981-09-20 13:00:00-07:00     56.883402\n",
      "1981-09-24 17:00:00-07:00     99.797448\n",
      "1981-09-28 21:00:00-07:00    136.299856\n",
      "1997-10-03 01:00:00-07:00    124.990752\n",
      "1997-10-07 05:00:00-07:00     83.934447\n",
      "1997-10-11 09:00:00-07:00     52.631135\n",
      "1997-10-15 13:00:00-07:00     65.891047\n",
      "1997-10-19 17:00:00-07:00    107.607893\n",
      "1997-10-23 21:00:00-07:00    145.688055\n",
      "1997-10-28 01:00:00-07:00    131.148602\n",
      "2002-11-01 05:00:00-07:00     89.474140\n",
      "2002-11-05 09:00:00-07:00     60.777994\n",
      "2002-11-09 13:00:00-07:00     73.031612\n",
      "2002-11-13 17:00:00-07:00    112.899044\n",
      "2002-11-17 21:00:00-07:00    152.485381\n",
      "2002-11-22 01:00:00-07:00    136.439213\n",
      "2002-11-26 05:00:00-07:00     94.700501\n",
      "2002-11-30 09:00:00-07:00     66.822535\n",
      "1999-12-04 13:00:00-07:00     76.747488\n",
      "1999-12-08 17:00:00-07:00    114.477489\n",
      "1999-12-12 21:00:00-07:00    155.005857\n",
      "1999-12-17 01:00:00-07:00    140.281025\n",
      "1999-12-21 05:00:00-07:00     98.193379\n",
      "1999-12-25 09:00:00-07:00     69.105808\n",
      "1999-12-29 13:00:00-07:00     76.221960\n",
      "Name: SunZen, dtype: float64\n"
     ]
    }
   ],
   "source": [
    "\n",
    "TMY['HExtra'] = pvlib.irradiance.extraradiation(datetime_or_doy=TMY.index.dayofyear)\n",
    "\n",
    "TMY['airmass'] = pvlib.atmosphere.relativeairmass(zenith=TMY.SunZen)"
   ]
  },
  {
   "cell_type": "markdown",
   "metadata": {},
   "source": [
    "# Generate Clear Sky and DNI"
   ]
  },
  {
   "cell_type": "code",
   "execution_count": 9,
   "metadata": {
    "collapsed": false
   },
   "outputs": [],
   "source": [
    "DFOut = pvlib.irradiance.disc(ghi=TMY.GHI, zenith=TMY.SunZen, times=TMY.index)\n",
    "\n",
    "TMY['DNI_gen_DISC'] = DFOut['dni']\n",
    "TMY['Kt_gen_DISC'] = DFOut['kt']\n",
    "TMY['airmass'] = DFOut['airmass']\n",
    "# TMY['Ztemp'] = DFOut['Ztemp']"
   ]
  },
  {
   "cell_type": "markdown",
   "metadata": {},
   "source": [
    "# Plane Transformation"
   ]
  },
  {
   "cell_type": "code",
   "execution_count": 10,
   "metadata": {
    "collapsed": false
   },
   "outputs": [],
   "source": [
    "TMY['In_Plane_SkyDiffuse'] = pvlib.irradiance.perez(surface_tilt=meta['SurfTilt'],\n",
    "                                            surface_azimuth=meta['SurfAz'],\n",
    "                                            dhi=TMY.DHI,\n",
    "                                            dni=TMY.DNI,\n",
    "                                            dni_extra=TMY.HExtra,\n",
    "                                            solar_zenith=TMY.SunZen,\n",
    "                                            solar_azimuth=TMY.SunAz,\n",
    "                                            airmass=TMY.airmass)"
   ]
  },
  {
   "cell_type": "markdown",
   "metadata": {},
   "source": [
    "# Ground Diffuse reflection"
   ]
  },
  {
   "cell_type": "code",
   "execution_count": 11,
   "metadata": {
    "collapsed": false
   },
   "outputs": [],
   "source": [
    "TMY['poa_ground_diffuse'] = pvlib.irradiance.grounddiffuse(surface_tilt=meta['SurfTilt'], ghi=TMY.GHI, albedo=meta['Albedo'],)"
   ]
  },
  {
   "cell_type": "markdown",
   "metadata": {},
   "source": [
    "# Get AOI"
   ]
  },
  {
   "cell_type": "code",
   "execution_count": 12,
   "metadata": {
    "collapsed": false
   },
   "outputs": [],
   "source": [
    "TMY['AOI']=pvlib.irradiance.aoi(surface_tilt=meta['SurfTilt'], surface_azimuth=meta['SurfAz'], \n",
    "                                solar_zenith=TMY.SunZen, solar_azimuth=TMY.SunAz)"
   ]
  },
  {
   "cell_type": "markdown",
   "metadata": {},
   "source": [
    "# Calculate Global in-plane"
   ]
  },
  {
   "cell_type": "code",
   "execution_count": 13,
   "metadata": {
    "collapsed": false
   },
   "outputs": [],
   "source": [
    "globalinplane = pvlib.irradiance.globalinplane(aoi=TMY.AOI,\n",
    "                                dni=TMY.DNI,\n",
    "                                poa_sky_diffuse=TMY.In_Plane_SkyDiffuse,\n",
    "                                poa_ground_diffuse=TMY.poa_ground_diffuse)\n",
    "#                                 SurfTilt=meta['SurfTilt'],\n",
    "#                                 SurfAz=meta['SurfAz'])\n",
    "\n",
    "TMY['E'] = globalinplane.poa_global\n",
    "TMY['Eb'] = globalinplane.poa_direct\n",
    "TMY['EDiff']= globalinplane.poa_diffuse\n",
    "\n",
    "# print(TMY['E'])\n",
    "# print(TMY['Eb'])\n",
    "# print(TMY['EDiff'])\n"
   ]
  },
  {
   "cell_type": "markdown",
   "metadata": {},
   "source": [
    "# Calculate Cell Temperature"
   ]
  },
  {
   "cell_type": "code",
   "execution_count": 14,
   "metadata": {
    "collapsed": false
   },
   "outputs": [
    {
     "name": "stdout",
     "output_type": "stream",
     "text": [
      "                           temp_cell  temp_module\n",
      "datetime                                         \n",
      "1981-01-01 01:00:00-07:00        NaN          NaN\n",
      "1981-01-01 02:00:00-07:00        NaN          NaN\n",
      "1981-01-01 03:00:00-07:00        NaN          NaN\n",
      "1981-01-01 04:00:00-07:00        NaN          NaN\n",
      "1981-01-01 05:00:00-07:00        NaN          NaN\n",
      "1981-01-01 06:00:00-07:00        NaN          NaN\n",
      "1981-01-01 07:00:00-07:00        NaN          NaN\n",
      "1981-01-01 08:00:00-07:00  -1.372194    -1.403449\n",
      "1981-01-01 09:00:00-07:00   3.093367     3.008188\n",
      "1981-01-01 10:00:00-07:00   6.146052     6.033207\n",
      "1981-01-01 11:00:00-07:00   9.631488     9.504537\n",
      "1981-01-01 12:00:00-07:00  12.231560    12.070910\n",
      "1981-01-01 13:00:00-07:00  14.627882    14.493590\n",
      "1981-01-01 14:00:00-07:00  16.562516    16.462544\n",
      "1981-01-01 15:00:00-07:00        NaN          NaN\n",
      "1981-01-01 16:00:00-07:00        NaN          NaN\n",
      "1981-01-01 17:00:00-07:00        NaN          NaN\n",
      "1981-01-01 18:00:00-07:00        NaN          NaN\n",
      "1981-01-01 19:00:00-07:00        NaN          NaN\n",
      "1981-01-01 20:00:00-07:00        NaN          NaN\n",
      "1981-01-01 21:00:00-07:00        NaN          NaN\n",
      "1981-01-01 22:00:00-07:00        NaN          NaN\n",
      "1981-01-01 23:00:00-07:00        NaN          NaN\n",
      "1981-01-02 00:00:00-07:00        NaN          NaN\n",
      "1981-01-02 01:00:00-07:00        NaN          NaN\n",
      "1981-01-02 02:00:00-07:00        NaN          NaN\n",
      "1981-01-02 03:00:00-07:00        NaN          NaN\n",
      "1981-01-02 04:00:00-07:00        NaN          NaN\n",
      "1981-01-02 05:00:00-07:00        NaN          NaN\n",
      "1981-01-02 06:00:00-07:00        NaN          NaN\n",
      "...                              ...          ...\n",
      "1999-12-30 19:00:00-07:00        NaN          NaN\n",
      "1999-12-30 20:00:00-07:00        NaN          NaN\n",
      "1999-12-30 21:00:00-07:00        NaN          NaN\n",
      "1999-12-30 22:00:00-07:00        NaN          NaN\n",
      "1999-12-30 23:00:00-07:00        NaN          NaN\n",
      "1999-12-31 00:00:00-07:00        NaN          NaN\n",
      "1999-12-31 01:00:00-07:00        NaN          NaN\n",
      "1999-12-31 02:00:00-07:00        NaN          NaN\n",
      "1999-12-31 03:00:00-07:00        NaN          NaN\n",
      "1999-12-31 04:00:00-07:00        NaN          NaN\n",
      "1999-12-31 05:00:00-07:00        NaN          NaN\n",
      "1999-12-31 06:00:00-07:00        NaN          NaN\n",
      "1999-12-31 07:00:00-07:00        NaN          NaN\n",
      "1999-12-31 08:00:00-07:00  -2.750236    -2.755832\n",
      "1999-12-31 09:00:00-07:00   0.513331     0.415433\n",
      "1999-12-31 10:00:00-07:00   2.296540     2.182455\n",
      "1999-12-31 11:00:00-07:00   4.715553     4.580586\n",
      "1999-12-31 12:00:00-07:00   7.542834     7.400766\n",
      "1999-12-31 13:00:00-07:00   9.850144     9.702344\n",
      "1999-12-31 14:00:00-07:00  12.128192    11.941055\n",
      "1999-12-31 15:00:00-07:00        NaN          NaN\n",
      "1999-12-31 16:00:00-07:00        NaN          NaN\n",
      "1999-12-31 17:00:00-07:00        NaN          NaN\n",
      "1999-12-31 18:00:00-07:00        NaN          NaN\n",
      "1999-12-31 19:00:00-07:00        NaN          NaN\n",
      "1999-12-31 20:00:00-07:00        NaN          NaN\n",
      "1999-12-31 21:00:00-07:00        NaN          NaN\n",
      "1999-12-31 22:00:00-07:00        NaN          NaN\n",
      "1999-12-31 23:00:00-07:00        NaN          NaN\n",
      "2000-01-01 00:00:00-07:00        NaN          NaN\n",
      "\n",
      "[8760 rows x 2 columns]\n"
     ]
    }
   ],
   "source": [
    "# print(TMY.E)\n",
    "sapm_celltemp = pvlib.pvsystem.sapm_celltemp(irrad=TMY.E,\n",
    "                            wind=TMY.Wspd,\n",
    "                            temp=TMY.DryBulb)\n",
    "print(sapm_celltemp)\n",
    "\n",
    "TMY['Tcell'] = sapm_celltemp.temp_cell\n",
    "TMY['Tmodule'] = sapm_celltemp.temp_module"
   ]
  },
  {
   "cell_type": "markdown",
   "metadata": {},
   "source": [
    "# Import module coefficients"
   ]
  },
  {
   "cell_type": "code",
   "execution_count": 15,
   "metadata": {
    "collapsed": false
   },
   "outputs": [
    {
     "data": {
      "text/plain": [
       "Vintage                                                   2009\n",
       "Area                                                     1.701\n",
       "Material                                                  c-Si\n",
       "#Series                                                     96\n",
       "#Parallel                                                    1\n",
       "Isco                                                   5.09115\n",
       "Voco                                                   59.2608\n",
       "Impo                                                   4.54629\n",
       "Vmpo                                                   48.3156\n",
       "Aisc                                                  0.000397\n",
       "Aimp                                                  0.000181\n",
       "C0                                                     1.01284\n",
       "C1                                                  -0.0128398\n",
       "Bvoco                                                 -0.21696\n",
       "Mbvoc                                                        0\n",
       "Bvmpo                                                -0.235488\n",
       "Mbvmp                                                        0\n",
       "N                                                       1.4032\n",
       "C2                                                    0.279317\n",
       "C3                                                    -7.24463\n",
       "A0                                                    0.928385\n",
       "A1                                                    0.068093\n",
       "A2                                                  -0.0157738\n",
       "A3                                                   0.0016606\n",
       "A4                                                -6.93035e-05\n",
       "B0                                                           1\n",
       "B1                                                   -0.002438\n",
       "B2                                                   0.0003103\n",
       "B3                                                  -1.246e-05\n",
       "B4                                                   2.112e-07\n",
       "B5                                                  -1.359e-09\n",
       "DTC                                                          3\n",
       "FD                                                           1\n",
       "A                                                     -3.40641\n",
       "B                                                   -0.0842075\n",
       "C4                                                    0.996446\n",
       "C5                                                    0.003554\n",
       "IXO                                                    4.97599\n",
       "IXXO                                                   3.18803\n",
       "C6                                                     1.15535\n",
       "C7                                                   -0.155353\n",
       "Notes        Source: Sandia National Laboratories Updated 9...\n",
       "Name: Canadian_Solar_CS5P_220M___2009_, dtype: object"
      ]
     },
     "execution_count": 15,
     "metadata": {},
     "output_type": "execute_result"
    }
   ],
   "source": [
    "moddb = pvlib.pvsystem.retrieve_sam(name='SandiaMod', samfile='c:/SandiaMod.csv', updatelocalFile=False)\n",
    "module = moddb.Canadian_Solar_CS5P_220M___2009_\n",
    "module"
   ]
  },
  {
   "cell_type": "markdown",
   "metadata": {},
   "source": [
    "#  import inverter coefficients"
   ]
  },
  {
   "cell_type": "code",
   "execution_count": 16,
   "metadata": {
    "collapsed": false
   },
   "outputs": [
    {
     "data": {
      "text/plain": [
       "Vac          4.800000e+02\n",
       "Paco         3.330000e+05\n",
       "Pdco         3.432510e+05\n",
       "Vdco         3.700880e+02\n",
       "Pso          1.427750e+03\n",
       "C0          -5.768090e-08\n",
       "C1           7.192230e-05\n",
       "C2           2.075400e-03\n",
       "C3           5.956110e-05\n",
       "Pnt          1.033000e+02\n",
       "Vdcmax       6.000000e+02\n",
       "Idcmax       5.000000e+02\n",
       "Mppt_low     3.300000e+02\n",
       "Mppt_high    6.000000e+02\n",
       "Name: Advanced_Energy__Solaron_333_3159000_105_480V__CEC_2008_, dtype: float64"
      ]
     },
     "execution_count": 16,
     "metadata": {},
     "output_type": "execute_result"
    }
   ],
   "source": [
    "Invdb=pvlib.pvsystem.retrieve_sam(name='SandiaInverter', samfile='c:/SandiaInverter.csv', updatelocalFile=False)\n",
    "inverter=Invdb.Advanced_Energy__Solaron_333_3159000_105_480V__CEC_2008_\n",
    "inverter"
   ]
  },
  {
   "cell_type": "markdown",
   "metadata": {},
   "source": [
    "# Sandia Model"
   ]
  },
  {
   "cell_type": "code",
   "execution_count": 17,
   "metadata": {
    "collapsed": false
   },
   "outputs": [],
   "source": [
    "\n",
    "DFOut=pvlib.pvsystem.sapm(module=module,        \n",
    "                    poa_direct=TMY['Eb'],\n",
    "                    poa_diffuse=TMY['EDiff'],\n",
    "                    temp_cell=TMY['Tcell'],\n",
    "                    airmass_absolute=TMY['airmass'],\n",
    "                    aoi=TMY['AOI'],\n",
    "                   )\n",
    "\n",
    "TMY['Imp']=DFOut['i_mp']\n",
    "TMY['Voc']=DFOut['v_oc']\n",
    "TMY['Vmp']=DFOut['v_mp']\n",
    "TMY['Pmp']=DFOut['p_mp']\n",
    "TMY['Ix']=DFOut['i_x']\n",
    "TMY['Ixx']=DFOut['i_xx']"
   ]
  },
  {
   "cell_type": "markdown",
   "metadata": {},
   "source": [
    "# Single Diode Model"
   ]
  },
  {
   "cell_type": "code",
   "execution_count": 18,
   "metadata": {
    "collapsed": false
   },
   "outputs": [],
   "source": [
    "moddb = pvlib.pvsystem.retrieve_sam(name='CECMod', samfile='c:/CECMod.csv', updatelocalFile=False)\n",
    "module = moddb.Canadian_Solar_CS5P_220P\n",
    "\n",
    "IL,I0,Rs,Rsh,nNsVth=pvlib.pvsystem.calcparams_desoto(poa_global=TMY.GHI,\n",
    "                                               temp_cell=TMY.DryBulb,\n",
    "                                               alpha_isc=.003,\n",
    "                                               module_parameters=module,\n",
    "                                               EgRef=1.121,\n",
    "                                               dEgdT= -0.0002677)\n",
    "\n",
    "\n",
    "DFout= pvlib.pvsystem.singlediode(module=module,\n",
    "                               photocurrent=IL,\n",
    "                               saturation_current=I0,\n",
    "                               resistance_series=Rs,\n",
    "                               resistance_shunt=Rsh,\n",
    "                               nNsVth=nNsVth)\n",
    "\n",
    "\n",
    "TMY['sd_Imp'] = DFOut['i_mp']\n",
    "TMY['sd_Voc'] = DFOut['v_oc']\n",
    "TMY['sd_Vmp'] = DFOut['v_mp']\n",
    "TMY['sd_Pmp'] = DFOut['p_mp']\n",
    "TMY['sd_Ix'] = DFOut['i_x']\n",
    "TMY['sd_Ixx'] = DFOut['i_xx']           "
   ]
  },
  {
   "cell_type": "markdown",
   "metadata": {},
   "source": [
    "# Inverter Model"
   ]
  },
  {
   "cell_type": "code",
   "execution_count": 19,
   "metadata": {
    "collapsed": false
   },
   "outputs": [],
   "source": [
    "TMY['ACPower']=pvlib.pvsystem.snlinverter(inverter=inverter, v_dc=TMY.Vmp,p_dc=TMY.Pmp,)"
   ]
  },
  {
   "cell_type": "markdown",
   "metadata": {
    "collapsed": false
   },
   "source": [
    "## Python and [module versions, and dates](http://nbviewer.ipython.org/github/jrjohansson/scientific-python-lectures/blob/master/Lecture-0-Scientific-Computing-with-Python.ipynb)"
   ]
  },
  {
   "cell_type": "code",
   "execution_count": 20,
   "metadata": {
    "collapsed": false
   },
   "outputs": [
    {
     "data": {
      "application/json": {
       "Software versions": [
        {
         "module": "Python",
         "version": "2.7.8 32bit [MSC v.1500 32 bit (Intel)]"
        },
        {
         "module": "IPython",
         "version": "3.2.0"
        },
        {
         "module": "OS",
         "version": "Windows 7 6.1.7601 SP1"
        },
        {
         "module": "numpy",
         "version": "1.9.2"
        },
        {
         "module": "scipy",
         "version": "0.15.1"
        },
        {
         "module": "matplotlib",
         "version": "1.4.3"
        },
        {
         "module": "pandas",
         "version": "0.16.2"
        },
        {
         "module": "pvlib",
         "version": "0.2.1dev"
        }
       ]
      },
      "text/html": [
       "<table><tr><th>Software</th><th>Version</th></tr><tr><td>Python</td><td>2.7.8 32bit [MSC v.1500 32 bit (Intel)]</td></tr><tr><td>IPython</td><td>3.2.0</td></tr><tr><td>OS</td><td>Windows 7 6.1.7601 SP1</td></tr><tr><td>numpy</td><td>1.9.2</td></tr><tr><td>scipy</td><td>0.15.1</td></tr><tr><td>matplotlib</td><td>1.4.3</td></tr><tr><td>pandas</td><td>0.16.2</td></tr><tr><td>pvlib</td><td>0.2.1dev</td></tr><tr><td colspan='2'>Sun Jul 12 14:29:10 2015 South Africa Standard Time</td></tr></table>"
      ],
      "text/latex": [
       "\\begin{tabular}{|l|l|}\\hline\n",
       "{\\bf Software} & {\\bf Version} \\\\ \\hline\\hline\n",
       "Python & 2.7.8 32bit [MSC v.1500 32 bit (Intel)] \\\\ \\hline\n",
       "IPython & 3.2.0 \\\\ \\hline\n",
       "OS & Windows 7 6.1.7601 SP1 \\\\ \\hline\n",
       "numpy & 1.9.2 \\\\ \\hline\n",
       "scipy & 0.15.1 \\\\ \\hline\n",
       "matplotlib & 1.4.3 \\\\ \\hline\n",
       "pandas & 0.16.2 \\\\ \\hline\n",
       "pvlib & 0.2.1dev \\\\ \\hline\n",
       "\\hline \\multicolumn{2}{|l|}{Sun Jul 12 14:29:10 2015 South Africa Standard Time} \\\\ \\hline\n",
       "\\end{tabular}\n"
      ],
      "text/plain": [
       "Software versions\n",
       "Python 2.7.8 32bit [MSC v.1500 32 bit (Intel)]\n",
       "IPython 3.2.0\n",
       "OS Windows 7 6.1.7601 SP1\n",
       "numpy 1.9.2\n",
       "scipy 0.15.1\n",
       "matplotlib 1.4.3\n",
       "pandas 0.16.2\n",
       "pvlib 0.2.1dev\n",
       "Sun Jul 12 14:29:10 2015 South Africa Standard Time"
      ]
     },
     "execution_count": 20,
     "metadata": {},
     "output_type": "execute_result"
    }
   ],
   "source": [
    "%load_ext version_information\n",
    "%version_information numpy, scipy, matplotlib, pandas, pvlib"
   ]
  },
  {
   "cell_type": "code",
   "execution_count": null,
   "metadata": {
    "collapsed": true
   },
   "outputs": [],
   "source": []
  }
 ],
 "metadata": {
  "kernelspec": {
   "display_name": "Python 2",
   "language": "python",
   "name": "python2"
  },
  "language_info": {
   "codemirror_mode": {
    "name": "ipython",
    "version": 2
   },
   "file_extension": ".py",
   "mimetype": "text/x-python",
   "name": "python",
   "nbconvert_exporter": "python",
   "pygments_lexer": "ipython2",
   "version": "2.7.8"
  }
 },
 "nbformat": 4,
 "nbformat_minor": 0
}
