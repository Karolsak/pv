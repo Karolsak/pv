{
 "cells": [
  {
   "cell_type": "markdown",
   "metadata": {},
   "source": [
    "# MLFM PVLIB 211213\n",
    "### Steve Ransome (SRCL) and Juergen Sutterlueti (Gantner Instruments)  \n",
    "#### Tutorial overview.\n",
    "\n",
    "I) The Loss Factors Model (LFM) |2011 ref 1| quantifies  \n",
    "normalised losses from module parameters  \n",
    "(e.g. i_sc, r_sc, i_mp, v_mp, r_oc and v_oc) by analysing the shape  \n",
    "of the IV curve and comparing it with STC reference values from the datasheet.  \n",
    "\n",
    "II) The Mechanistic performance model (MPM) |2017 ref 2|  \n",
    "has \"meaningful,independent, robust and normalised\" coefficients  \n",
    "which fit how the LFM values depend on irradiance, module temperature  \n",
    "(and windspeed) and time.  \n",
    "  \n",
    "These parameters relate to  \n",
    "    - c_1 = \"overall performance quality\"  \n",
    "    - c_2 = \"normalised temperature coefficient\" (units /K)  \n",
    "    - c_3 = \"low light level drop\" due to v_oc and r_sc (r_shunt)  \n",
    "    - c_4 = \"high light level fall\" due to r_oc (~Rseries).  \n",
    "    (optional)  \n",
    "    - c_5 = \"wind speed coefficient\"  \n",
    "    - c_6 = \"low light level drop\" sometimes needed for r_shunt behaviour.  \n",
    "\n",
    "III) This tutorial shows how to take module measured and weather data,  \n",
    "(either outdoor or IEC 61853-like   \n",
    "matrix data), normalise it, generate MLFM coefficients, fit them with the MPM then  \n",
    "analyse module performance looking for loss values, degradation and  \n",
    "allowing performance predictions.   \n",
    "\n",
    "Fig 1: MLFM overview flow chart of this tutorial.   \n",
    "![mlfm_flow.png](mlfm_data/figs/mlfm_flow.png)  "
   ]
  },
  {
   "cell_type": "code",
   "execution_count": null,
   "metadata": {},
   "outputs": [],
   "source": [
    "#import pvlib\n",
    "from pvlib import *\n",
    "\n",
    "# Import essential library file with lfm and mpm definitions\n",
    "from mlfm import *\n",
    "# Import graphics code from separate file\n",
    "from mlfm_graphs import *\n",
    "\n",
    "# STANDARD DEFINITIONS\n",
    "\n",
    "# https://matplotlib.org/stable/tutorials/introductory/customizing.html\n",
    "plt.rcParams['figure.figsize'] = [7,5]  # setup figure size inches\n",
    "plt.rcParams.update({'font.size': 12})  # setup fontsize\n",
    "plt.linewidth = 1.5                     # line width in points\n",
    "plt.linestyle = '--' #-                 # solid line\n",
    "plt.marker = 's' #o                     # the default marker\n",
    "plt.markersize = 9 #6                   # marker size, in points\n",
    "plt.bbox = 1.4                          # offset right to not overwrite"
   ]
  },
  {
   "cell_type": "code",
   "execution_count": null,
   "metadata": {},
   "outputs": [],
   "source": [
    "# FIND AND SHOW INSTALLATION CURRENT WORKING DIRECTORY\n",
    "import os\n",
    "root_dir = os.getcwd()\n",
    "\n",
    "root_dir"
   ]
  },
  {
   "cell_type": "markdown",
   "metadata": {},
   "source": [
    "## Select MLFM measurement files\n",
    "\n",
    "File naming conventions can be used to help identify files, for example  \n",
    "`x81_T1906_D3_Fh.csv`  \n",
    "\n",
    "where   \n",
    "   - x = source e.g. (G)antner, (N)rel, (S)andia, matri(X), ...  \n",
    "   - 81 = module id/channel number                               \n",
    "   - T1906 = (T)ime started = yymm(dd)                      \n",
    "   - D3 = (D)uration in days                             \n",
    "   - Fh = (F)requency e.g. (h)ours  or (10m)10 minutes      \n",
    "   - etc.  \n",
    "   \n",
    "   \n",
    "   Three default files are included (* = version number )  \n",
    "(-1) t1_041.csv   \n",
    "(0) g78_T16_Xall_F10m_R900*.csv  \n",
    "(1) n05667_Y13_R1k6_fClear*.csv  \n",
    "(2) x19074001_iec61853*.csv      \n",
    "\n",
    "\n",
    "Essential default column names in meas() are :-  \n",
    "\n",
    "meas {  \n",
    "'date_time', 'module_id', 'poa_global', 'wind_speed', 'temp_air',  \n",
    "'temp_module', 'v_oc', 'i_sc', 'i_mp', 'v_mp', 'r_sc', 'r_oc'  \n",
    "}\n"
   ]
  },
  {
   "cell_type": "code",
   "execution_count": null,
   "metadata": {},
   "outputs": [],
   "source": [
    "# select one of the following meas files\n",
    "meas_file = 0\n",
    "\n",
    "if meas_file == 0:\n",
    "    mlfm_meas_file = 'g78_T16_Xall_F10m_R900_041.csv'\n",
    "elif meas_file == 1:\n",
    "    mlfm_meas_file = 'n05667_Y13_R1k6_fClear_041.csv'\n",
    "elif meas_file == 2:\n",
    "    mlfm_meas_file = 'x19074001_iec61853_041.csv'\n",
    "\n",
    "# optional\n",
    "# elif meas_file == -1:\n",
    "#    mlfm_meas_file = 't1_041.csv'\n",
    "    \n",
    "# extract module id from filename e.g. 'g78'\n",
    "mlfm_mod = mlfm_meas_file.split('_')\n",
    "\n",
    "mlfm_mod_sel = mlfm_mod[0]"
   ]
  },
  {
   "cell_type": "markdown",
   "metadata": {},
   "source": [
    "## Get ref module data at STC  \n",
    "\n",
    "Get STC Reference module data for the selected module  \n",
    "(searching for a row with same module id).  \n",
    "  \n",
    "Ref values include electrical data and temperature coeffs and must include the following :-  \n",
    "\n",
    "ref {  \n",
    "'i_sc', 'i_mp', 'v_mp', 'v_oc',   \n",
    "'alpha_i_sc', 'alpha_i_mp', 'beta_v_mp', 'beta_v_oc', 'gamma_p_mp', \n",
    "}  \n",
    "\n",
    "NOTE : Users must add their own data to the reference file  \n",
    "when they add new meas data. "
   ]
  },
  {
   "cell_type": "markdown",
   "metadata": {},
   "source": [
    "### Read all ref data "
   ]
  },
  {
   "cell_type": "code",
   "execution_count": null,
   "metadata": {},
   "outputs": [],
   "source": [
    "# user must keep updated with their modules from their measurements\n",
    "ref_file_name = (root_dir + '\\\\mlfm_data\\\\ref\\\\mlfm_reference_modules.csv')\n",
    "\n",
    "ref_data = pd.read_csv(ref_file_name, index_col='module_id')"
   ]
  },
  {
   "cell_type": "markdown",
   "metadata": {},
   "source": [
    "### Select stc data from reference database"
   ]
  },
  {
   "cell_type": "code",
   "execution_count": null,
   "metadata": {},
   "outputs": [],
   "source": [
    "while True:\n",
    "    try:\n",
    "        ref_data = ref_data[ref_data.index == mlfm_mod_sel]\n",
    "        break\n",
    "\n",
    "    except IndexError:\n",
    "        print(\"You must define module ref data to use this module ...\")\n",
    "        break"
   ]
  },
  {
   "cell_type": "code",
   "execution_count": null,
   "metadata": {},
   "outputs": [],
   "source": [
    "# Put relevant data into a dict for easy use\n",
    "# ignore any other columns that may be database specific\n",
    "# as they aren't needed\n",
    "\n",
    "ref = dict(\n",
    "  # module_id  =  ref_data['index'].values[0],\n",
    "    i_sc = ref_data['i_sc'].values[0],\n",
    "    i_mp = ref_data['i_mp'].values[0],\n",
    "    v_mp = ref_data['v_mp'].values[0],\n",
    "    v_oc = ref_data['v_oc'].values[0],\n",
    "\n",
    "    alpha_i_sc = ref_data['alpha_i_sc'].values[0],\n",
    "    beta_v_oc = ref_data['beta_v_oc'].values[0],\n",
    "    alpha_i_mp = ref_data['alpha_i_mp'].values[0],\n",
    "    beta_v_mp = ref_data['beta_v_mp'].values[0],\n",
    "    gamma_p_mp = ref_data['gamma_p_mp'].values[0],\n",
    ")\n",
    "\n",
    "# create p_mp and ff in case they don't exist\n",
    "ref['p_mp'] = ref['i_mp'] * ref['v_mp']\n",
    "\n",
    "ref['ff'] = ref['p_mp'] / (ref['i_sc'] * ref['v_oc'])"
   ]
  },
  {
   "cell_type": "markdown",
   "metadata": {},
   "source": [
    "## Import measured data (outdoor or matrix)\n",
    "\n",
    "DateTime, Met and Raw module measurements.  "
   ]
  },
  {
   "cell_type": "markdown",
   "metadata": {},
   "source": [
    "### Read in selected measured file data "
   ]
  },
  {
   "cell_type": "code",
   "execution_count": null,
   "metadata": {},
   "outputs": [],
   "source": [
    "meas = pd.read_csv(\n",
    "    root_dir + '\\\\mlfm_data\\\\meas_gtw\\\\' + mlfm_meas_file,\n",
    "    index_col='date_time'\n",
    ")"
   ]
  },
  {
   "cell_type": "markdown",
   "metadata": {},
   "source": [
    "### Calculate useful data columns for meas"
   ]
  },
  {
   "cell_type": "code",
   "execution_count": null,
   "metadata": {},
   "outputs": [],
   "source": [
    "# normalise poa_global to kW/m^2\n",
    "meas['poa_global_kwm2'] = meas['poa_global'] / 1000\n",
    "\n",
    "# calculate p_mp as it might be missing\n",
    "meas['p_mp'] = meas['i_mp'] * meas['v_mp']\n",
    "\n",
    "#show some meas data\n",
    "meas.head(3)"
   ]
  },
  {
   "cell_type": "markdown",
   "metadata": {},
   "source": [
    "### Count how many mlfm variables are in the data  \n",
    "usually matrix=4 (i_sc,i_mp,v_mp, v_oc)  \n",
    "and iv=6 (i_sc,i_mp,v_mp, v_oc + r_sc, r_oc) "
   ]
  },
  {
   "cell_type": "code",
   "execution_count": null,
   "metadata": {},
   "outputs": [],
   "source": [
    "def get_qty_mlfm_vars(dmeas):\n",
    "    '''\n",
    "    Find the quantity of MLFM variables in the measured data\n",
    "    (e.g. I_MP+V_MP=2, MATRIX=4, IV_CURVE=6).\n",
    "    \n",
    "    Parameters\n",
    "    ----------\n",
    "    dmeas : dataframe\n",
    "        measured weather data\n",
    "        'poa_global', 'temp_module', 'wind_speed'\n",
    "        and measured electrical/thermal values\n",
    "        'i_sc' .. 'v_oc', temp_module.\n",
    "    \n",
    "    Returns\n",
    "    -------\n",
    "    qty_mlfm_vars : int\n",
    "        number of mlfm_values present in data usually\n",
    "        2 = (imp, vmp) from mpp tracker\n",
    "        4 = (i_sc, i_mp, v_mp, v_oc) from matrix\n",
    "        6 = (i_sc, i_mp, v_mp, v_oc, r_sc, r_oc) from iv curve.\n",
    "    '''\n",
    "    # find how many mlfm variables were measured\n",
    "    qty_mlfm_vars = 0\n",
    "    for mlfm_sel in ('i_sc', 'r_sc', 'i_mp','v_mp', 'r_oc', 'v_oc'):\n",
    "        if mlfm_sel in dmeas.columns:\n",
    "            qty_mlfm_vars += 1\n",
    "            #print(qty_mlfm_vars, mlfm_sel)\n",
    "    \n",
    "    return qty_mlfm_vars"
   ]
  },
  {
   "cell_type": "code",
   "execution_count": null,
   "metadata": {},
   "outputs": [],
   "source": [
    "qty_mlfm_vars = get_qty_mlfm_vars(meas)"
   ]
  },
  {
   "cell_type": "markdown",
   "metadata": {},
   "source": [
    "## Normalise MLFM values norm from meas and ref dataframes  \n",
    "\n",
    "Fig 2 illustrates the loss factors model (LFM).  \n",
    "It uses the shape and values from dc measurements to quantify the values of each  \n",
    "of the loss factors going from (1) ref_p_mp to (5) meas_p_mp.  \n",
    "\n",
    "Fig 2: Loss Factors Model :  \n",
    "![lfm_0_4.png](mlfm_data/figs/mlfm_iv.png)  \n",
    "\n",
    "1) ref_p_mp = Initial datasheet value at STC.\n",
    "\n",
    "2) Multiply by 1/FF to get to (ref_i_sc * ref_v_oc) to start to analyse current and voltage losses  \n",
    "\n",
    "3) Three 'current' losses get from ref_i_sc to norm_i_mp\n",
    "   - norm_i_sc = measured / expected isc (purple)\n",
    "   - norm_r_sc = loss caused by 'shunt resistance' slope at i_sc (orange)\n",
    "   - norm_i_ff = loss caused by 'current part' of fill factor (green).  \n",
    "    \n",
    "    \n",
    "4) Three 'voltage' losses (plus a temperature coefficient) get from from ref_v_oc to norm_v_mp     \n",
    "   - norm_v_ff = loss caused by 'voltage part' of fill factor (blue)\n",
    "   - norm_r_oc = loss caused by 'series resistance' slope at v_oc (pink)\n",
    "   - norm_v_oc_t = measured / expected v_oc temp_corrected (brown)\n",
    "   - norm_temp_corr = optional temp correction subtracted from v_oc (red).    \n",
    "    \n",
    "    \n",
    "5) These losses cause the performance to fall to pr_dc = meas_p_mp / ref_p_mp  \n",
    "\n",
    "pr_dc = 1/ff *                                    \n",
    "    (norm_i_sc * norm_r_sc * norm_i_ff ) *             \n",
    "    (norm_v_ffv * norm_r_oc * norm_v_oc_t * norm_temp_corr )   \n",
    "\n",
    "Note:  \n",
    "The gamma temperature correction is subtracted from voc for simplicity.  \n",
    "In reality there will be temperature dependencies for i_sc and ff but they are smaller."
   ]
  },
  {
   "cell_type": "code",
   "execution_count": null,
   "metadata": {},
   "outputs": [],
   "source": [
    "norm = mlfm_meas_to_norm(meas, ref, qty_mlfm_vars)\n",
    "\n",
    "# show some normalised data\n",
    "norm.head(3)"
   ]
  },
  {
   "cell_type": "markdown",
   "metadata": {},
   "source": [
    "### Make irradiance and temperature bins for pivot tables \n",
    "(Gbin=100W/m^2, Tbin=5C)"
   ]
  },
  {
   "cell_type": "code",
   "execution_count": null,
   "metadata": {},
   "outputs": [],
   "source": [
    "# poa_global bin = 100W/m2\n",
    "norm['poa_global_bin'] = meas['poa_global'].round(-2)\n",
    "\n",
    "# temp_module bin = 5C\n",
    "norm['temp_module_bin'] = (5 * round(meas['temp_module'] / 5,0))"
   ]
  },
  {
   "cell_type": "markdown",
   "metadata": {},
   "source": [
    "## Perform sanity checks on meas and norm data  \n",
    "\n",
    "It's easier to sanity check and study normalised data than raw values.  \n",
    "1) Remove bad, missing, unwanted  or outlier data  \n",
    "2) User defined limits may depend on data scatter and degradation   \n",
    "3) Can either select on values e.g. '0.5 <pr_dc < 1.5' or on '>x stdev from mean'\n",
    "4) Possible to select on dates if desired.  "
   ]
  },
  {
   "cell_type": "code",
   "execution_count": null,
   "metadata": {},
   "outputs": [],
   "source": [
    "# select by irradiance poa_global range e.g. 100-1100W/m2\n",
    "meas = meas[(meas['poa_global'] >= 100) &\n",
    "            (meas['poa_global'] <= 1100)]\n",
    "\n",
    "# if there's date_time can select by it, i.e. not matrix data\n",
    "### better if index is formatted as a date\n",
    "\n",
    "# if qty_mlfm_vars == 6:\n",
    "\n",
    "    # not for matrix as they don't contain dates\n",
    "    # example\n",
    "    # meas = meas[(meas.index > '2016-01-01') &\n",
    "    #        (meas.index < '2017-01-01')]\n"
   ]
  },
  {
   "cell_type": "code",
   "execution_count": null,
   "metadata": {},
   "outputs": [],
   "source": [
    "# remove specific mlfm values outside limits e.g. <0.5 or >1.5\n",
    "norm = norm[((norm['pr_dc'] > 0.5) & \n",
    "             (norm['pr_dc'] < 1.5))]\n",
    "\n",
    "# remove all mlfm values outside x~3 stdevs\n",
    "if qty_mlfm_vars == 6:\n",
    "    # only needed for outdoor data as indoor ought to be less scattered\n",
    "    # remove all mlfm data > x stdev usually 3\n",
    "    stdevs = 3\n",
    "\n",
    "    for lfm in ('i_sc', 'r_sc', 'i_ff', 'v_ff', 'r_oc','v_oc'):\n",
    "        norm = norm[\n",
    "            ((norm[lfm] - norm[lfm].mean()) /\n",
    "                 norm[lfm].std()).abs() < stdevs\n",
    "        ]"
   ]
  },
  {
   "cell_type": "markdown",
   "metadata": {},
   "source": [
    "### Filter only matching rows from meas and norm data\n",
    "like an inner join but leave data in separate norm and meas frames"
   ]
  },
  {
   "cell_type": "code",
   "execution_count": null,
   "metadata": {},
   "outputs": [],
   "source": [
    "#drop meas rows that aren't in norm\n",
    "meas_not_in_norm = ~meas.index.isin(norm.index)\n",
    "meas = meas.drop(meas[meas_not_in_norm].index)\n",
    "\n",
    "#drop norm rows that aren't in meas\n",
    "norm_not_in_meas = ~norm.index.isin(meas.index)\n",
    "norm = norm.drop(norm[norm_not_in_meas].index)"
   ]
  },
  {
   "cell_type": "markdown",
   "metadata": {},
   "source": [
    "## Plot normalised MLFM data vs irradiance  \n",
    "\n",
    "For outdoor data -  \n",
    "LFM values norm() should be narrow, smooth lines (around 70-120% on the yaxis).\n",
    "\n",
    "For matrix data -  \n",
    "LFM values norm() should be close, almost parallel lines (around 70-120% on the yaxis).\n",
    "\n",
    "1. Higher values are always better (unlike measured values such as  \n",
    "    Rseries or Io where lower is better)\n",
    "1. Accurate measurements and a stable module result in narrowest lines  \n",
    "1. v_oc and r_sc tend to fall at low light levels ( / left)  \n",
    "1. r_oc tends to fall at high light levels ( \\ right)  \n",
    "1. i_ff and v_ff are usually fairly flat ( - ) \n",
    "1. i_sc may vary the most due to spectral sensitivity, soiling, shading  \n",
    "    and/or snow (if not properly corrected).    "
   ]
  },
  {
   "cell_type": "markdown",
   "metadata": {},
   "source": [
    "## Fig 3 : Normalised mlfm values vs. irradiance.\n",
    "\n",
    "All traces should be thin, usually around 0.9 ± 0.1  \n",
    "i_sc may be more scattered if there is uncorrected soiling, spectral and angle of incidence ###"
   ]
  },
  {
   "cell_type": "code",
   "execution_count": null,
   "metadata": {},
   "outputs": [],
   "source": [
    "# scatter plot normalised values vs. irradiance\n",
    "plot_mlfm_scatter(meas, norm, mlfm_meas_file, qty_mlfm_vars)"
   ]
  },
  {
   "cell_type": "markdown",
   "metadata": {},
   "source": [
    "## Convert multiplicative to subtractive losses to show on a stack plot  \n",
    "\n",
    "LFM losses can be analysed as either    \n",
    "\n",
    "- multiplicative    \n",
    "pr_dc = 1/ff * ( norm(i_sc) * norm(r_sc) * norm(i_ff) * \n",
    "        norm(v_ff) * norm(r_oc) * norm(v_oc_t) * norm(temp_corr) ).  \n",
    " \n",
    "   \n",
    "  \n",
    "-  subtractive  \n",
    "pr_dc = 1/ff -   (stack(i_sc) + stack(r_sc) + stack(i_ff) -  \n",
    "        stack(v_ff) + stack(r_oc) + stack(v_oc_t) + stack(temp_corr) ). \n",
    "  \n",
    "Multiplicative losses are easier to understand but to represent them on a graph  \n",
    "it's easier to show them as a stacked plot where the values are 'translated'  \n",
    "so the sum of the stacked losses is shown to equate to the product of the  \n",
    "multiplicative losses."
   ]
  },
  {
   "cell_type": "code",
   "execution_count": null,
   "metadata": {},
   "outputs": [],
   "source": [
    "# translate multiplicative to stack losses and add to dataframe df\n",
    "stack = mlfm_norm_to_stack(norm, ref, qty_mlfm_vars)\n",
    "\n",
    "# show some stack losses\n",
    "stack.head(3)"
   ]
  },
  {
   "cell_type": "markdown",
   "metadata": {},
   "source": [
    "## Plot stack losses vs. measurement  \n",
    "\n",
    "Fig 4 Shows how to quantify losses by loss parameters stack(i_sc, .. v_oc).  \n",
    "\n",
    "Fig 4 Stacked losses by measurement  \n",
    "![stack5D_0_4.png](mlfm_data/figs/mlfm_stack.png)  \n",
    "\n",
    "- It plots them in a stacked format from the lossless limit 1/ff (top)  \n",
    "  subtracting each loss value in turn until it reaches pr_dc (bottom).  \n",
    "  \n",
    "- This figure shows a typical c-Si module for four clear days for  \n",
    "  different months July to Oct in AZ.   \n",
    "  \n",
    "- In the middle of the days the high irradiance results in the biggest  \n",
    "  losses being due to r_oc (red, ~rseries, pink) and temp_module  \n",
    "  (as the module heats to 60C).   \n",
    "  \n",
    "- Early mornings/late afternoons there is a slight Isc gain (purple,  \n",
    "  top, due to spectral mismatch) but an Isc loss mid day due to soiling.  \n",
    "\n",
    "Stack losses are indicated by their colours  \n",
    "(from top to bottom for mlfm4=matrix and mlfm6=ivcurve)   \n",
    "\n",
    "`+-----+----+-------+--------+------------+--------------+`  \n",
    "`|  1  | 2  |   4   |   6    | <qty_mlfm  |              |`  \n",
    "`|     |mpp | matrix|iv_curve| colours    |    comments  |`  \n",
    "`| 1/FF+----+-------+--------+------------+--------------+`  \n",
    "`| v   |    | (i_sc)| (i_sc) | (purple)   | (optional)   |`  \n",
    "`| v   |    |- - - -|- - - - |- - - - - - |- - - - - - - |`  \n",
    "`| v   |    |       |  r_sc  | orange     |  current     |`  \n",
    "`| v   |    +       +--------+------------+              |`  \n",
    "`| v   |i_mp|  i_mp |  i_ff  | green      |  losses      |`  \n",
    "`|-v---|----+-------+--------+-black------+--------------+`   \n",
    "`| v   |v_mp|  v_mp |  v_ff  | blue       |  voltage     |`  \n",
    "`| v   |    +       +--------+------------+              |`  \n",
    "`| v   |    |       |  r_oc  | pink       |  losses      |`  \n",
    "`| v   |    +-------+--------+------------+              |`  \n",
    "`| v   |    |  v_oc |  v_oc  | brown      |              |`  \n",
    "`| v   |    |- - - -|- - - - |- - - - - - |- - - - - - - |`   \n",
    "`| v   |    |(temp  |(temp   | (red)      | (optional)   |`  \n",
    "`| v   |    | corr) | corr)  |            |              |`  \n",
    "`|pr_dc+----+-------+--------+------------+--------------+`  \n",
    "\n",
    "Graph options :  \n",
    "\n",
    "is_i_sc_self_ref : boolean   \n",
    "    = self corrects i_sc to remove angle of incidence, spectrum, \n",
    "    snow or soiling.  \n",
    "    \n",
    "is_v_oc_temp_module_corr : boolean  \n",
    "    = calc temperature loss due to gamma, subtract from voc loss   "
   ]
  },
  {
   "cell_type": "markdown",
   "metadata": {},
   "source": [
    "### Fig 5 : stacked loss values vs. date and time or matrix measurement"
   ]
  },
  {
   "cell_type": "code",
   "execution_count": null,
   "metadata": {},
   "outputs": [],
   "source": [
    "# plot stack loss vs. time (or measurement) chart\n",
    "plot_mlfm_stack(\n",
    "    dmeas=meas,\n",
    "    dnorm=norm,\n",
    "    dstack=stack,                   # dataframe measurements\n",
    "    ref=ref,                        # dataframe reference STC\n",
    "    mlfm_file_name=mlfm_meas_file,  # name of data file\n",
    "    qty_mlfm_vars=qty_mlfm_vars,    # number of mlfm measurements usually 4 or 6\n",
    "    xaxis_labels=12,                # show this many x_labels or 0 to show all\n",
    "    is_i_sc_self_ref=False,         # is isc self referenced?\n",
    "    is_v_oc_temp_module_corr=True,  # is voc temperature corrected?\n",
    ")"
   ]
  },
  {
   "cell_type": "markdown",
   "metadata": {},
   "source": [
    "## Fit mechanistic model to measured weather and normalised losses  \n",
    "\n",
    "Perform a Mechanistic Performance Model (MPM) fit to the mlfm parameters  \n",
    "poa_global (kW/m$^2$), temp_module (C), wind_speed (ms$^-$$^1$).  \n",
    "\n",
    "MPM_6 = c_1 + c_2 * (temp_module-25) + c_3 * log10(poa_global_kwm2) +   \n",
    "        c_4 * poa_global_kwm2 + c_5 * wind_speed + c_6 / poa_global_kwm2  \n",
    "\n",
    "\n",
    "Report the fit (coeffs) and error (errs) coefficients.   "
   ]
  },
  {
   "cell_type": "code",
   "execution_count": null,
   "metadata": {},
   "outputs": [],
   "source": [
    "# choose which no0rmalised mlfm parameter to model e.g. pr_dc or i_sc..v_oc  \n",
    "mlfm_sel = 'pr_dc' \n",
    "\n",
    "# FIX THIS WARNING,\n",
    "# SettingWithCopyWarning:\n",
    "# A value is trying to be set on a copy of a slice from a DataFrame.\n",
    "# Try using .loc[row_indexer,col_indexer] = value instead\n",
    "# TRY TO DO A BETTER METHOD THAN JUST HIDING IT\n",
    "\n",
    "norm, cc, ee,  coeffs, errs = mlfm_fit(meas, norm, mlfm_sel) # qty_mlfm_vars)\n",
    "\n",
    "# Fix a bug with fit routine which gives a\n",
    "# finite cc[4] even if all the ws data is 0\n",
    "# this won't matter until cc is applied to other\n",
    "# data with some ws <>0 when it will give bad results\n",
    "if np.mean(meas.wind_speed) == 0:\n",
    "    cc[4] = 0\n",
    "    c_5 = 0\n"
   ]
  },
  {
   "cell_type": "markdown",
   "metadata": {},
   "source": [
    "## Show residual fit vs. measured for MLFM parameter  "
   ]
  },
  {
   "cell_type": "code",
   "execution_count": null,
   "metadata": {},
   "outputs": [],
   "source": [
    "def plot_residuals(dmeas, dnorm, fit, title):\n",
    "    ''' \n",
    "    Scatter plot residuals to normalised measured\n",
    "\n",
    "    Parameters\n",
    "    ----------\n",
    "    dmeas : dataframe\n",
    "        measured weather data\n",
    "        'poa_global', 'temp_module', 'wind_speed'\n",
    "        and measured electrical/thermal values\n",
    "        'i_sc' .. 'v_oc', temp_module.\n",
    "    \n",
    "    \n",
    "    dnorm : dataframe\n",
    "        normalised multiplicative lfm loss values 'i_sc' .. 'v_oc'\n",
    "        where pr_dc = 1/ff * product('i_sc', ... 'v_oc').\n",
    "        \n",
    "    fit : string\n",
    "        name of fitted variable e.g. 'pr_dc'.\n",
    "        \n",
    "    title : string\n",
    "        title for graph e.g. mlfm_meas_file.\n",
    "    '''\n",
    "    \n",
    "    fig, ax1 = plt.subplots()\n",
    "\n",
    "    plt.title(title)\n",
    "\n",
    "    plt.ylabel('fit ' + fit + ' * poa_global_kwm2')\n",
    "    ax1.set_ylim(0, 1.2)\n",
    "\n",
    "    plt.xlabel('meas ' + fit + '* poa_global_kwm2')\n",
    "    ax1.set_xlim(0, 1.2)\n",
    "\n",
    "    plt.plot(\n",
    "        dnorm[fit] * dmeas['poa_global_kwm2'],\n",
    "        dnorm['calc_' + fit] * dmeas['poa_global_kwm2'],\n",
    "        'c^',\n",
    "        label = fit\n",
    "    )\n",
    "\n",
    "    # plot 1:1 line to show optimum fit\n",
    "    plt.plot((0,1.2),(0,1.2), 'ko-')\n",
    "\n",
    "    plt.legend(loc='upper left')\n",
    "    plt.show()"
   ]
  },
  {
   "cell_type": "markdown",
   "metadata": {},
   "source": [
    "### Fig 6 : fit_mlfm_sel * poa_global vs. measured_mlfm_sel * poa_global"
   ]
  },
  {
   "cell_type": "code",
   "execution_count": null,
   "metadata": {},
   "outputs": [],
   "source": [
    "# plot fit vs. measured, include a 1:1 line for comparison\n",
    "fit_plot = plot_residuals(meas, norm, mlfm_sel, 'residual ' + mlfm_meas_file)"
   ]
  },
  {
   "cell_type": "markdown",
   "metadata": {},
   "source": [
    "## Plot heatmap of mean residual vs. tenp_module and poa_global\n",
    "\n",
    "Show a heatmap of the average residual (meas - fit) error  \n",
    "for each irradiance (100W/m^2)  and tmod bin (5C)."
   ]
  },
  {
   "cell_type": "code",
   "execution_count": null,
   "metadata": {},
   "outputs": [],
   "source": [
    "def plot_heatmap(dmeas, dnorm, fit, y_axis, x_axis, z_axis, title):\n",
    "    '''\n",
    "    Plot a heatmap of Z vs. binned X and Y axes.\n",
    "\n",
    "    Parameters\n",
    "    ----------\n",
    "    dmeas : dataframe\n",
    "        measured weather data\n",
    "        'poa_global', 'temp_module', 'wind_speed'\n",
    "        and measured electrical/thermal values\n",
    "        'i_sc' .. 'v_oc', temp_module.\n",
    "\n",
    "    dnorm : dataframe\n",
    "        normalised multiplicative lfm loss values 'i_sc' .. 'v_oc'\n",
    "        where pr_dc = 1/ff * product('i_sc', ... 'v_oc').\n",
    "\n",
    "    fit : string\n",
    "        fitted parameter e.g. 'pr_dc'.\n",
    "\n",
    "    x_axis : string\n",
    "        binned x axis e.g. 'poa_global_bin'.\n",
    "\n",
    "    y_axis : string\n",
    "        binned y axis e.g. 'temp_module_bin'.\n",
    "\n",
    "    z_axis : string\n",
    "        value as a colour surface plot e.f. 'diff_pr_dc'.\n",
    "\n",
    "    title : string\n",
    "        title for graph e.g. mlfm_meas_file.\n",
    "\n",
    "    '''\n",
    "\n",
    "    df_piv = pd.pivot_table(\n",
    "        dnorm,\n",
    "        index=y_axis,       # e.g. 'temp_module_bin'\n",
    "        columns=x_axis,     # e.g. 'poa_global_bin'\n",
    "        values=z_axis,      # value to aggregate\n",
    "        fill_value=0,       # fill empty cells with this ?\n",
    "        aggfunc=[np.mean],  # e.g. min, np.sum, len->count\n",
    "        margins=False,      # grand totals hide\n",
    "        dropna=True         # hide missing rows or columns\n",
    "    )\n",
    "\n",
    "    fig, ax1 = plt.subplots()\n",
    "\n",
    "    # force z limits to be -2% to +2% if desired\n",
    "    df_piv = df_piv.clip(lower = -0.02, upper = +0.02)\n",
    "\n",
    "    im = ax1.imshow(\n",
    "        df_piv,\n",
    "        cmap='RdYlBu',\n",
    "        origin='lower'\n",
    "    )\n",
    "\n",
    "    cbar = ax1.figure.colorbar(im, ax=ax1, shrink=0.75, label=z_axis)\n",
    "\n",
    "    #Y AXIS : show only 1 of each y_skip labels\n",
    "    y_ticks = df_piv.shape[0]\n",
    "    plt.yticks(np.arange(0, y_ticks), rotation=0)\n",
    "    yax2 = [''] * y_ticks\n",
    "    y_skip = 2\n",
    "    y_count = 0\n",
    "    while y_count < y_ticks:\n",
    "        if y_count % y_skip == 0:\n",
    "            yax2[y_count] = df_piv.index[y_count]\n",
    "        y_count += 1\n",
    "\n",
    "    ax1.set_yticklabels(yax2)\n",
    "    ax1.set_ylabel(y_axis)\n",
    "\n",
    "    # X AXIS : show only 1 of each x_skip labels\n",
    "    x_ticks = df_piv.shape[1]\n",
    "    plt.xticks(np.arange(0, x_ticks), rotation=90)\n",
    "\n",
    "    xax2 = [''] * x_ticks\n",
    "    x_skip = 2\n",
    "    x_count = 0\n",
    "    while x_count < x_ticks:\n",
    "        if x_count % x_skip == 0:\n",
    "            xax2[x_count] = df_piv.columns.levels[1][x_count]\n",
    "        x_count += 1\n",
    "        \n",
    "    ax1.set_title(title)\n",
    "\n",
    "    ax1.set_xticklabels(xax2)\n",
    "    ax1.set_xlabel(x_axis)\n",
    "\n",
    "    ax1.grid( color='k', linestyle=':', linewidth=1)"
   ]
  },
  {
   "cell_type": "markdown",
   "metadata": {},
   "source": [
    "### Fig 7 : Residual MLFM fit heatmap vs. poa_global and temp_module."
   ]
  },
  {
   "cell_type": "code",
   "execution_count": null,
   "metadata": {},
   "outputs": [],
   "source": [
    "# plot heatmap\n",
    "heatmap_plot = plot_heatmap(\n",
    "    dnorm=norm,\n",
    "    dmeas=meas,\n",
    "    fit=mlfm_sel,\n",
    "    y_axis='temp_module_bin',\n",
    "    x_axis='poa_global_bin',\n",
    "    z_axis='diff_' + mlfm_sel,\n",
    "    title='residual ' + mlfm_meas_file\n",
    ")"
   ]
  },
  {
   "cell_type": "markdown",
   "metadata": {},
   "source": [
    "## Read in complete (G,T) Matrix to fill with MLFM predicted values  \n",
    "\n",
    "Read in a matrix with complete values of   \n",
    "Irradiance (G=100,200 .. 1100,1200) and module temperature (T=0,5 .. 65,70)  \n",
    "to predict all MPM values "
   ]
  },
  {
   "cell_type": "code",
   "execution_count": null,
   "metadata": {},
   "outputs": [],
   "source": [
    "# read in the complete matrix data\n",
    "matr = pd.read_csv(root_dir + '\\\\mlfm_data\\\\ref\\\\mlfm_matrix.csv', index_col = 'id')\n",
    "\n",
    "matr['poa_global_kwm2'] = matr['poa_global'] / 1000\n",
    "\n",
    "matr.columns"
   ]
  },
  {
   "cell_type": "markdown",
   "metadata": {},
   "source": [
    "## Predict performance from MPM fit coefficients   \n",
    "\n",
    "1. generate predicted mpm data  \n",
    "2. create a pivot table mpm(g,t)  \n",
    "3. show as a heat map"
   ]
  },
  {
   "cell_type": "code",
   "execution_count": null,
   "metadata": {},
   "outputs": [],
   "source": [
    "# populate pivot table from predicted mpm data\n",
    "matr[mlfm_sel] = mlfm_6(matr, cc[0], cc[1], cc[2], cc[3], cc[4], cc[5])"
   ]
  },
  {
   "cell_type": "markdown",
   "metadata": {},
   "source": [
    "## Plot heatmap of predicted MLFM values vs. temp_mod and poa_global bins"
   ]
  },
  {
   "cell_type": "code",
   "execution_count": null,
   "metadata": {},
   "outputs": [],
   "source": [
    "def plot_contourf(df, x_axis, y_axis, z_axis, title,\n",
    "                  vmin=0, vmax=1.2, levels=5):\n",
    "    ''' \n",
    "    Plot filled contour plot Z vs. X and Y bins.\n",
    "\n",
    "    Parameters\n",
    "    ----------\n",
    "    df : dataframe\n",
    "        measured or noralised data containing weather columns\n",
    "        (poa_global, temp_module and wind_speed).\n",
    "\n",
    "    x_axis : string\n",
    "        binned x axis e.g. 'poa_global'.\n",
    "\n",
    "    y_axis : string\n",
    "        binned y axis e.g. 'temp_module'.\n",
    "\n",
    "    z_axis : string\n",
    "        measured value as a colour surface plot.\n",
    "\n",
    "    title : string\n",
    "        title for graph e.g. mlfm_meas_file.\n",
    "\n",
    "    vmin, vmax : float\n",
    "        minimum and maximum values for contour chart ###\n",
    "\n",
    "    '''  \n",
    "   \n",
    "    piv = pd.pivot_table(\n",
    "        df,\n",
    "        index=y_axis,\n",
    "        columns=x_axis,\n",
    "        values=z_axis,\n",
    "        fill_value=0,      # fill empty cells?\n",
    "        aggfunc=[np.mean], # min, np.sum, len->count\n",
    "        margins=False,     # grand totals\n",
    "        dropna=True        # hide missing rows or columns\n",
    "    )\n",
    "\n",
    "    piv = piv.clip(vmin, vmax)\n",
    "\n",
    "    fig, ax1 = plt.subplots()\n",
    "\n",
    "    cs = plt.contourf(\n",
    "        piv,\n",
    "        cmap='RdYlBu',  # or 'nipy_spectral',\n",
    "      # origin='lower'\n",
    "      # nchunkint=1,\n",
    "        levels=levels,\n",
    "        vmin=vmin,\n",
    "        vmax=vmax\n",
    "    )\n",
    "\n",
    "    cbar = fig.colorbar(cs, ax=ax1)\n",
    "    cbar.ax.set_ylabel(z_axis,\n",
    "                       rotation=90,\n",
    "                       va='bottom',\n",
    "                       labelpad=+30)\n",
    "\n",
    "    plt.title(title)\n",
    "\n",
    "    y_ticks = piv.shape[0]\n",
    "    plt.yticks(np.arange(0, y_ticks), rotation=0)\n",
    "\n",
    "    # show only 1 of each y_skip labels\n",
    "    yax2 = [''] * y_ticks\n",
    "    y_skip = 2\n",
    "    y_count = 0\n",
    "    while y_count < y_ticks:\n",
    "        if y_count % y_skip == 0:\n",
    "            yax2[y_count] = piv.index[y_count]\n",
    "        y_count += 1\n",
    "\n",
    "    ax1.set_yticklabels(yax2)\n",
    "    ax1.set_ylabel(y_axis)\n",
    "\n",
    "    x_ticks = piv.shape[1]\n",
    "    plt.xticks(np.arange(0, x_ticks), rotation=90)\n",
    "\n",
    "    # show only 1 of each x_skip labels\n",
    "    xax2 = [''] * x_ticks\n",
    "    x_skip = 2\n",
    "    x_count = 0\n",
    "    while x_count < x_ticks:\n",
    "        if x_count % x_skip == 0:\n",
    "            xax2[x_count] = piv.columns.levels[1][x_count]\n",
    "        x_count += 1\n",
    "\n",
    "    ax1.set_xticklabels(xax2)\n",
    "    ax1.set_xlabel(x_axis)\n",
    "\n",
    "    ax1.grid( color='k', linestyle=':', linewidth=1)"
   ]
  },
  {
   "cell_type": "markdown",
   "metadata": {},
   "source": [
    "### Fig 8 : Contour plot of predicted mlfm_sel + vs. poa_global and temp_mod."
   ]
  },
  {
   "cell_type": "code",
   "execution_count": null,
   "metadata": {},
   "outputs": [],
   "source": [
    "contour_plot = plot_contourf(\n",
    "    df=matr,\n",
    "    y_axis='temp_module',\n",
    "    x_axis='poa_global',\n",
    "    z_axis=mlfm_sel,\n",
    "    title='matrix predicted ' + mlfm_meas_file,\n",
    "    vmin=0.6,\n",
    "    vmax=1.05,\n",
    "    levels=9\n",
    ")"
   ]
  },
  {
   "cell_type": "markdown",
   "metadata": {},
   "source": [
    "### Fig 9 : Contour plot of measured mlfm_sel  vs. poa_global and temp_mod."
   ]
  },
  {
   "cell_type": "code",
   "execution_count": null,
   "metadata": {},
   "outputs": [],
   "source": [
    "contour_plot = plot_contourf(\n",
    "    df=norm,\n",
    "    y_axis='temp_module_bin',\n",
    "    x_axis='poa_global_bin',\n",
    "    z_axis=mlfm_sel,\n",
    "    title='avg normalised ' + mlfm_meas_file,\n",
    "    vmin=0.6,\n",
    "    vmax=1.05,\n",
    "    levels=9\n",
    ")"
   ]
  },
  {
   "cell_type": "markdown",
   "metadata": {},
   "source": [
    "## References  \n",
    "     \n",
    "The Loss Factors Model (LFM) and Mechanistic Performance Model (MPM)  \n",
    "together known as \"MLFM\" have been developed by SRCL and Gantner Instruments  \n",
    "(previously Oerlikon Solar and Tel Solar) since 2011 MLFM and 2017 MPM  \n",
    "  \n",
    ".. [1] J. Sutterlueti(now Gantner Instruments) and  S. Ransome  \n",
    " '4AV.2.41 Characterising PV Modules under Outdoor Conditions:  \n",
    "What's Most Important for Energy Yield'  \n",
    "26th EU PVSEC 8 September 2011; Hamburg, Germany  \n",
    "http://www.steveransome.com/pubs/2011Hamburg_4AV2_41.pdf  \n",
    "\n",
    ".. [2] Steve Ransome and Juergen Sutterlueti(Gantner Instruments)  \n",
    "  'Choosing the best Empirical Model for predicting energy yield'   \n",
    "  7th PV Energy Rating and Module Performance Modeling Workshop,  \n",
    "  Canobbio, Switzerland 30-31 March, 2017  \n",
    "\n",
    ".. [3] S. Ransome and J. Sutterlueti (Gantner Instruments)  \n",
    "'Checking the new IEC 61853.1-4 with high quality 3rd party data to  \n",
    "benchmark its practical relevance in energy yield prediction'  \n",
    "PVSC June 2019 Chicago, USA  \n",
    "http://www.steveransome.com/PUBS/1906_PVSC46_Chicago_Ransome.pdf\n",
    "\n",
    ".. [4] Steve Ransome (SRCL) and Juergen Sutterlueti (Gantner Instruments)  \n",
    "'5CV.4.35 Quantifying Long Term PV Performance and Degradation  \n",
    "under Real Outdoor and IEC 61853 Test Conditions  \n",
    "Using High Quality Module IV Measurements'   \n",
    "36th EU PVSEC Sep 2019  \n",
    "http://www.steveransome.com/PUBS/1909_5CV4_35_PVSEC36_Marseille_Ransome_PPT.pdf\n",
    "\n",
    ".. [5] Steve Ransome (SRCL)  \n",
    "'How to use the Loss Factors and Mechanistic Performance Models  \n",
    "effectively with PVPMC/PVLIB'   \n",
    "PVPMC Webinar on PV Performance Modeling Methods, Aug 2020  \n",
    "https://pvpmc.sandia.gov/download/7879/  \n",
    "\n",
    ".. [6] W.Marion et al (NREL)  \n",
    "'New Data Set for Validating PV Module Performance Models'  \n",
    "https://www.researchgate.net/publication/286746041_New_data_set_for_validating_PV_module_performance_models  \n",
    "https://www.nrel.gov/docs/fy14osti/61610.pdf\n",
    "\n",
    "Many more papers are available at www.steveransome.com  \n"
   ]
  },
  {
   "cell_type": "code",
   "execution_count": null,
   "metadata": {},
   "outputs": [],
   "source": []
  },
  {
   "cell_type": "code",
   "execution_count": null,
   "metadata": {},
   "outputs": [],
   "source": []
  }
 ],
 "metadata": {
  "kernelspec": {
   "display_name": "Python 3 (Spyder)",
   "language": "python3",
   "name": "python3"
  },
  "language_info": {
   "codemirror_mode": {
    "name": "ipython",
    "version": 3
   },
   "file_extension": ".py",
   "mimetype": "text/x-python",
   "name": "python",
   "nbconvert_exporter": "python",
   "pygments_lexer": "ipython3",
   "version": "3.8.5"
  },
  "toc-autonumbering": true,
  "toc-showmarkdowntxt": false
 },
 "nbformat": 4,
 "nbformat_minor": 4
}
