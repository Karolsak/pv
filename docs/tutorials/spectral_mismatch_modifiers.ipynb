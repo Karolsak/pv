{
 "cells": [
  {
   "attachments": {},
   "cell_type": "markdown",
   "metadata": {},
   "source": [
    "# Spectral Mismatch Modifiers\n",
    "Learn to use spectral mismatch modifiers with this notebook!\n",
    "Feel free to add other models, be sure to update the index and give you credit ;)\n",
    "\n",
    "Table of contents:\n",
    "1. [Setup](#setup)\n",
    "1. [N. Martin & J. M. Ruiz Experimental Mismatch Modifier](#n-martin--j-m-ruiz-experimental-mismatch-modifier)\n",
    "\n",
    "Authors:\n",
    "* Echedey Luis (@echedey-ls), 2023 Feb"
   ]
  },
  {
   "attachments": {},
   "cell_type": "markdown",
   "metadata": {},
   "source": [
    "## Setup\n",
    "Let's prepare the environment:"
   ]
  },
  {
   "cell_type": "code",
   "execution_count": null,
   "metadata": {},
   "outputs": [],
   "source": [
    "# Show matplotlib's figures in the notebook\n",
    "%matplotlib inline\n",
    "import matplotlib.pyplot as plt\n",
    "\n",
    "import pandas as pd\n",
    "import numpy as np\n",
    "\n",
    "# And pvlib\n",
    "import pvlib"
   ]
  },
  {
   "attachments": {},
   "cell_type": "markdown",
   "metadata": {},
   "source": [
    "### N. Martin & J. M. Ruiz Mismatch Modifier\n",
    "This modifier takes into account the spectral responses of several solar cell\n",
    "material, characterized by the airmass and the clearness index, as two\n",
    "independent variables. In fact, there are three different modifiers, each one\n",
    "for each component (``poa_direct``, ``poa_sky_diffuse``,\n",
    "``poa_ground_diffuse``)\n",
    "\n",
    "The formula for each component has three coefficients; we are lucky the authors\n",
    "of this model computed fitting values for m-Si, p-Si and a-Si!"
   ]
  },
  {
   "attachments": {},
   "cell_type": "markdown",
   "metadata": {},
   "source": [
    "First step is get to the effective irradiance. For simplicity, we will copy the\n",
    "procedure explained in the tutorial ``tmy_to_power.ipynb`` to obtain it.\n",
    "Please refer to it to get a more in depth explanation."
   ]
  },
  {
   "cell_type": "code",
   "execution_count": null,
   "metadata": {},
   "outputs": [],
   "source": [
    "site = pvlib.location.Location(40.4534, -3.7270, altitude=664,\n",
    "                               name='IES-UPM, Madrid')\n",
    "\n",
    "surface_tilt = 40\n",
    "surface_azimuth = 180  # Pointing South\n",
    "\n",
    "pvgis_data, _, _, _ = \\\n",
    "    pvlib.iotools.get_pvgis_tmy(site.latitude, site.longitude,\n",
    "                                map_variables=True,\n",
    "                                startyear=2005, endyear=2015)\n",
    "pvgis_data.index = [ts.replace(year=2022) for ts in pvgis_data.index]"
   ]
  },
  {
   "cell_type": "code",
   "execution_count": null,
   "metadata": {},
   "outputs": [],
   "source": [
    "weather_data = pvgis_data['2022-09-03':'2022-09-06']\n",
    "\n",
    "solar_pos = site.get_solarposition(weather_data.index)\n",
    "\n",
    "extra_rad = pvlib.irradiance.get_extra_radiation(weather_data.index)\n",
    "\n",
    "poa_sky_diffuse = \\\n",
    "    pvlib.irradiance.haydavies(surface_tilt, surface_azimuth,\n",
    "                               weather_data['dhi'],  weather_data['dni'],\n",
    "                               extra_rad, solar_pos['apparent_zenith'],\n",
    "                               solar_pos['azimuth'])\n",
    "\n",
    "poa_ground_diffuse = pvlib.irradiance.get_ground_diffuse(surface_tilt,\n",
    "                                                         weather_data['ghi'])\n",
    "\n",
    "aoi = pvlib.irradiance.aoi(surface_tilt, surface_azimuth,\n",
    "                           solar_pos['apparent_zenith'], solar_pos['azimuth'])\n",
    "\n",
    "# Let's consider this the irradiances without spectral modifiers\n",
    "# We can calculate the mismatch before and then create a \"poa_irrad\" var for\n",
    "# modified irradiances, but we are also doing this to compare later.\n",
    "# 'spectrum.martin_ruiz_spectral_modifier' result is designed to make it\n",
    "# easy to multiply each modifier and the irradiance component with a single\n",
    "# line of code, if you get this dataframe before.\n",
    "poa_irrad = pvlib.irradiance.poa_components(aoi,\n",
    "                                            weather_data['dni'],\n",
    "                                            poa_sky_diffuse,\n",
    "                                            poa_ground_diffuse)"
   ]
  },
  {
   "attachments": {},
   "cell_type": "markdown",
   "metadata": {},
   "source": [
    "Here comes the modifier. Let's calculate it with the airmass and clearness\n",
    "index."
   ]
  },
  {
   "cell_type": "code",
   "execution_count": null,
   "metadata": {},
   "outputs": [],
   "source": [
    "# First, let's find the airmass and the clearness index\n",
    "# Little caution: default values for this model were fitted obtaining the\n",
    "# airmass through the kasten1966 method, not used by default\n",
    "airmass = site.get_airmass(solar_position=solar_pos, model='kasten1966')\n",
    "clearness_index = \\\n",
    "    pvlib.irradiance.clearness_index(ghi=weather_data['ghi'],\n",
    "                                     solar_zenith=solar_pos['zenith'],\n",
    "                                     extra_radiation=extra_rad)\n",
    "\n",
    "# Get the spectral mismatch modifiers\n",
    "spectral_modifiers = \\\n",
    "    pvlib.spectrum.martin_ruiz_spectral_modifier(clearness_index,\n",
    "                                                 airmass['airmass_absolute'],\n",
    "                                                 cell_type='monosi')"
   ]
  },
  {
   "attachments": {},
   "cell_type": "markdown",
   "metadata": {},
   "source": [
    "And then we can find the 3 components modified irradiances by means of a simple\n",
    "multiplication.\n",
    "\n",
    "Note, however, that neither this does modify ``poa_global`` nor\n",
    "``poa_diffuse``, so we should update the dataframe afterwards, again with\n",
    "``irradiance.poa_components``."
   ]
  },
  {
   "cell_type": "code",
   "execution_count": null,
   "metadata": {},
   "outputs": [],
   "source": [
    "poa_irrad_modified = poa_irrad * spectral_modifiers\n",
    "# We need global modified irradiance for the output power calculation\n",
    "poa_irrad_modified = \\\n",
    "    pvlib.irradiance.poa_components(aoi,\n",
    "                                    poa_irrad_modified['poa_direct'],\n",
    "                                    poa_irrad_modified['poa_sky_diffuse'],\n",
    "                                    poa_irrad_modified['poa_ground_diffuse'])"
   ]
  },
  {
   "attachments": {},
   "cell_type": "markdown",
   "metadata": {},
   "source": [
    "Finally, let's plot the incident vs modified global irradiances, and their\n",
    "difference."
   ]
  },
  {
   "cell_type": "code",
   "execution_count": null,
   "metadata": {},
   "outputs": [],
   "source": [
    "poa_irrad_global_diff = (poa_irrad['poa_global']\n",
    "                         - poa_irrad_modified['poa_global'])\n",
    "poa_irrad['poa_global'].plot()\n",
    "poa_irrad_modified['poa_global'].plot()\n",
    "poa_irrad_global_diff.plot()\n",
    "plt.legend(['Incident', 'Modified', 'Difference'])\n",
    "plt.ylabel('POA Global irradiance [W/m²]')\n",
    "plt.show()"
   ]
  }
 ],
 "metadata": {
  "kernelspec": {
   "display_name": "venv",
   "language": "python",
   "name": "python3"
  },
  "language_info": {
   "codemirror_mode": {
    "name": "ipython",
    "version": 3
   },
   "file_extension": ".py",
   "mimetype": "text/x-python",
   "name": "python",
   "nbconvert_exporter": "python",
   "pygments_lexer": "ipython3",
   "version": "3.10.4"
  },
  "orig_nbformat": 4,
  "vscode": {
   "interpreter": {
    "hash": "e7b76f25baca03aa641c501db0912de76daa352e2d97ceb6fcf3025f206f2928"
   }
  }
 },
 "nbformat": 4,
 "nbformat_minor": 2
}
