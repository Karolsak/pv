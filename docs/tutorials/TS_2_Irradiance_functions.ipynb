{
 "cells": [
  {
   "cell_type": "markdown",
   "metadata": {},
   "source": [
    "# Time series to irradiance tutorial"
   ]
  },
  {
   "cell_type": "code",
   "execution_count": 1,
   "metadata": {
    "collapsed": false
   },
   "outputs": [],
   "source": [
    "%matplotlib inline\n",
    "import sys\n",
    "import os\n",
    "#sys.path.append('..') #append the parent directory to the system path\n",
    "import pvlib\n",
    "import pandas as pd \n",
    "import matplotlib.pyplot as plt\n",
    "try:\n",
    "    import seaborn\n",
    "    seaborn.set_context('paper')\n",
    "except ImportError:\n",
    "    pass"
   ]
  },
  {
   "cell_type": "code",
   "execution_count": 2,
   "metadata": {
    "collapsed": false
   },
   "outputs": [
    {
     "name": "stdout",
     "output_type": "stream",
     "text": [
      "SAND POINT: latitude=55.317, longitude=-160.517, tz=US/Alaska, altitude=7.0\n"
     ]
    }
   ],
   "source": [
    "#20150621 cjw  datapath = os.path.join(pvlib.__path__[0], 'test', 'data')\n",
    "datapath = os.path.join(pvlib.__path__[0], 'data')\n",
    "fname = '703165TY.csv' #Use absolute path if the file is not in the local directory\n",
    "TMY, meta = pvlib.tmy.readtmy3(filename=os.path.join(datapath, fname))\n",
    "TMY.index.name = 'Time'\n",
    "meta['surface_tilt'] = 30\n",
    "meta['surface_azimuth'] = 0\n",
    "# meta['albedo'] = 0.2\n",
    "\n",
    "# create pvlib Location object\n",
    "sand_point = pvlib.location.Location(meta['latitude'], meta['longitude'], tz='US/Alaska', \n",
    "                                     altitude=meta['altitude'], name=meta['Name'].replace('\"',''))\n",
    "print(sand_point)\n",
    "\n",
    "# TMY data seems to be given as hourly data with time stamp at the end\n",
    "# shift the index 30 Minutes back for calculation of sun postions\n",
    "TMY = TMY.shift(freq='-30Min')"
   ]
  },
  {
   "cell_type": "markdown",
   "metadata": {},
   "source": [
    "# Retrieve required parameters"
   ]
  },
  {
   "cell_type": "markdown",
   "metadata": {},
   "source": [
    "Calculate the solar position for all times in the TMY file. Requires either PyEphem or a compiled spa_c library."
   ]
  },
  {
   "cell_type": "code",
   "execution_count": 3,
   "metadata": {
    "collapsed": false
   },
   "outputs": [
    {
     "name": "stdout",
     "output_type": "stream",
     "text": [
      "pvlib.solarosition.pyephem: sun_coords['apparent_zenith']  #cjwcjw\n",
      "Time\n",
      "1997-01-01 09:30:00+00:00    144.750103\n",
      "1995-02-12 01:30:00+00:00     76.326134\n",
      "2005-03-25 17:30:00+00:00     82.235607\n",
      "1999-05-06 09:30:00+00:00    106.764817\n",
      "1996-06-17 01:30:00+00:00     44.271436\n",
      "1991-07-28 17:30:00+00:00     68.596417\n",
      "1996-09-08 09:30:00+00:00    117.476162\n",
      "1999-10-20 01:30:00+00:00     75.673436\n",
      "2005-11-30 17:30:00+00:00     99.774990\n",
      "Name: apparent_zenith, dtype: float64\n"
     ]
    },
    {
     "data": {
      "text/html": [
       "<div>\n",
       "<table border=\"1\" class=\"dataframe\">\n",
       "  <thead>\n",
       "    <tr style=\"text-align: right;\">\n",
       "      <th></th>\n",
       "      <th>apparent_elevation</th>\n",
       "      <th>apparent_azimuth</th>\n",
       "      <th>elevation</th>\n",
       "      <th>azimuth</th>\n",
       "      <th>apparent_zenith</th>\n",
       "      <th>zenith</th>\n",
       "    </tr>\n",
       "    <tr>\n",
       "      <th>Time</th>\n",
       "      <th></th>\n",
       "      <th></th>\n",
       "      <th></th>\n",
       "      <th></th>\n",
       "      <th></th>\n",
       "      <th></th>\n",
       "    </tr>\n",
       "  </thead>\n",
       "  <tbody>\n",
       "    <tr>\n",
       "      <th>1997-01-01 00:30:00-09:00</th>\n",
       "      <td>-54.750103</td>\n",
       "      <td>328.861096</td>\n",
       "      <td>-54.750103</td>\n",
       "      <td>328.861096</td>\n",
       "      <td>144.750103</td>\n",
       "      <td>144.750103</td>\n",
       "    </tr>\n",
       "    <tr>\n",
       "      <th>1997-01-01 01:30:00-09:00</th>\n",
       "      <td>-57.530205</td>\n",
       "      <td>353.265280</td>\n",
       "      <td>-57.530205</td>\n",
       "      <td>353.265280</td>\n",
       "      <td>147.530205</td>\n",
       "      <td>147.530205</td>\n",
       "    </tr>\n",
       "    <tr>\n",
       "      <th>1997-01-01 02:30:00-09:00</th>\n",
       "      <td>-56.627712</td>\n",
       "      <td>18.751764</td>\n",
       "      <td>-56.627712</td>\n",
       "      <td>18.751764</td>\n",
       "      <td>146.627712</td>\n",
       "      <td>146.627712</td>\n",
       "    </tr>\n",
       "    <tr>\n",
       "      <th>1997-01-01 03:30:00-09:00</th>\n",
       "      <td>-52.329549</td>\n",
       "      <td>41.456666</td>\n",
       "      <td>-52.329549</td>\n",
       "      <td>41.456666</td>\n",
       "      <td>142.329549</td>\n",
       "      <td>142.329549</td>\n",
       "    </tr>\n",
       "    <tr>\n",
       "      <th>1997-01-01 04:30:00-09:00</th>\n",
       "      <td>-45.717933</td>\n",
       "      <td>60.026503</td>\n",
       "      <td>-45.717933</td>\n",
       "      <td>60.026503</td>\n",
       "      <td>135.717933</td>\n",
       "      <td>135.717933</td>\n",
       "    </tr>\n",
       "  </tbody>\n",
       "</table>\n",
       "</div>"
      ],
      "text/plain": [
       "                           apparent_elevation  apparent_azimuth  elevation  \\\n",
       "Time                                                                         \n",
       "1997-01-01 00:30:00-09:00          -54.750103        328.861096 -54.750103   \n",
       "1997-01-01 01:30:00-09:00          -57.530205        353.265280 -57.530205   \n",
       "1997-01-01 02:30:00-09:00          -56.627712         18.751764 -56.627712   \n",
       "1997-01-01 03:30:00-09:00          -52.329549         41.456666 -52.329549   \n",
       "1997-01-01 04:30:00-09:00          -45.717933         60.026503 -45.717933   \n",
       "\n",
       "                              azimuth  apparent_zenith      zenith  \n",
       "Time                                                                \n",
       "1997-01-01 00:30:00-09:00  328.861096       144.750103  144.750103  \n",
       "1997-01-01 01:30:00-09:00  353.265280       147.530205  147.530205  \n",
       "1997-01-01 02:30:00-09:00   18.751764       146.627712  146.627712  \n",
       "1997-01-01 03:30:00-09:00   41.456666       142.329549  142.329549  \n",
       "1997-01-01 04:30:00-09:00   60.026503       135.717933  135.717933  "
      ]
     },
     "execution_count": 3,
     "metadata": {},
     "output_type": "execute_result"
    }
   ],
   "source": [
    "solpos = pvlib.solarposition.get_solarposition(TMY.index, sand_point, method='pyephem')\n",
    "solpos.head()"
   ]
  },
  {
   "cell_type": "code",
   "execution_count": 4,
   "metadata": {
    "collapsed": false
   },
   "outputs": [
    {
     "name": "stdout",
     "output_type": "stream",
     "text": [
      "pvlib.atmosphere.relativeairmass: zenith input z  #cjwcjw\n",
      "Time\n",
      "1997-01-01 00:30:00-09:00    144.750103\n",
      "1997-01-05 04:30:00-09:00    135.602400\n",
      "1997-01-09 08:30:00-09:00    102.432447\n",
      "1997-01-13 12:30:00-09:00     78.512732\n",
      "1997-01-17 16:30:00-09:00     82.820808\n",
      "1997-01-21 20:30:00-09:00    111.182018\n",
      "1997-01-26 00:30:00-09:00    139.979530\n",
      "1997-01-30 04:30:00-09:00    132.198220\n",
      "1995-02-03 08:30:00-09:00     98.789525\n",
      "1995-02-07 12:30:00-09:00     72.822607\n",
      "1995-02-11 16:30:00-09:00     76.326134\n",
      "1995-02-15 20:30:00-09:00    105.037372\n",
      "1995-02-20 00:30:00-09:00    132.610466\n",
      "1995-02-24 04:30:00-09:00    125.033625\n",
      "1995-02-28 08:30:00-09:00     90.779356\n",
      "2005-03-04 12:30:00-09:00     63.830813\n",
      "2005-03-08 16:30:00-09:00     68.000330\n",
      "2005-03-12 20:30:00-09:00     97.815052\n",
      "2005-03-17 00:30:00-09:00    123.504595\n",
      "2005-03-21 04:30:00-09:00    115.388394\n",
      "2005-03-25 08:30:00-09:00     82.235607\n",
      "2005-03-29 12:30:00-09:00     53.883251\n",
      "2005-04-02 16:30:00-09:00     59.809867\n",
      "2005-04-06 20:30:00-09:00     90.179979\n",
      "2005-04-11 00:30:00-09:00    114.466229\n",
      "2005-04-15 04:30:00-09:00    105.957933\n",
      "2005-04-19 08:30:00-09:00     73.661496\n",
      "2005-04-23 12:30:00-09:00     44.663537\n",
      "2005-04-27 16:30:00-09:00     52.611319\n",
      "1999-05-01 20:30:00-09:00     84.384435\n",
      "                                ...    \n",
      "1994-08-30 16:30:00-09:00     56.996806\n",
      "1996-09-03 20:30:00-09:00     90.395404\n",
      "1996-09-08 00:30:00-09:00    117.476162\n",
      "1996-09-12 04:30:00-09:00    111.041904\n",
      "1996-09-16 08:30:00-09:00     80.440161\n",
      "1996-09-20 12:30:00-09:00     56.167191\n",
      "1996-09-24 16:30:00-09:00     66.639392\n",
      "1996-09-28 20:30:00-09:00    100.236644\n",
      "1999-10-03 00:30:00-09:00    127.077614\n",
      "1999-10-07 04:30:00-09:00    118.605119\n",
      "1999-10-11 08:30:00-09:00     87.008947\n",
      "1999-10-15 12:30:00-09:00     65.015325\n",
      "1999-10-19 16:30:00-09:00     75.673436\n",
      "1999-10-23 20:30:00-09:00    108.551081\n",
      "1999-10-28 00:30:00-09:00    136.329180\n",
      "2005-11-01 04:30:00-09:00    126.077390\n",
      "2005-11-05 08:30:00-09:00     92.698148\n",
      "2005-11-09 12:30:00-09:00     73.312417\n",
      "2005-11-13 16:30:00-09:00     83.028813\n",
      "2005-11-17 20:30:00-09:00    114.612493\n",
      "2005-11-22 00:30:00-09:00    143.202372\n",
      "2005-11-26 04:30:00-09:00    132.041365\n",
      "2005-11-30 08:30:00-09:00     99.774990\n",
      "1998-12-04 12:30:00-09:00     78.671579\n",
      "1998-12-08 16:30:00-09:00     86.396956\n",
      "1998-12-12 20:30:00-09:00    116.432880\n",
      "1998-12-17 00:30:00-09:00    145.641474\n",
      "1998-12-21 04:30:00-09:00    135.410854\n",
      "1998-12-25 08:30:00-09:00    102.604825\n",
      "1998-12-29 12:30:00-09:00     80.015076\n",
      "Name: SunZen, dtype: float64\n"
     ]
    }
   ],
   "source": [
    "# append solar position data to TMY DataFrame\n",
    "TMY['SunAz'] = solpos['apparent_azimuth']\n",
    "TMY['SunZen'] =  solpos['apparent_zenith']\n",
    "\n",
    "TMY['HExtra'] = pvlib.irradiance.extraradiation(datetime_or_doy=TMY.index.dayofyear)\n",
    "\n",
    "TMY['AM'] = pvlib.atmosphere.relativeairmass(zenith=TMY.SunZen)\n",
    "\n",
    "DFOut = pvlib.irradiance.disc(times=TMY.index, ghi=TMY.GHI, zenith=TMY.SunZen)\n",
    "\n",
    "TMY['DNI_gen_DISC'] = DFOut['dni']\n",
    "TMY['Kt_gen_DISC'] = DFOut['kt']\n",
    "TMY['AM'] = DFOut['airmass']\n",
    "# TMY['Ztemp'] = DFOut['Ztemp']"
   ]
  },
  {
   "cell_type": "markdown",
   "metadata": {},
   "source": [
    "# Perez"
   ]
  },
  {
   "cell_type": "code",
   "execution_count": 5,
   "metadata": {
    "collapsed": false
   },
   "outputs": [],
   "source": [
    "models = ['Perez', 'Hay-Davies', 'Isotropic', 'King', 'Klucher', 'Reindl']\n",
    "TMY['Perez'] = pvlib.irradiance.perez(surface_tilt=meta['surface_tilt'],\n",
    "                               surface_azimuth=meta['surface_azimuth'],\n",
    "                               dhi=TMY.DHI,\n",
    "                               dni=TMY.DNI,\n",
    "                               dni_extra=TMY.HExtra,\n",
    "                               solar_zenith=TMY.SunZen,\n",
    "                               solar_azimuth=TMY.SunAz,\n",
    "                               airmass=TMY.AM)"
   ]
  },
  {
   "cell_type": "markdown",
   "metadata": {},
   "source": [
    "## HayDavies"
   ]
  },
  {
   "cell_type": "code",
   "execution_count": 6,
   "metadata": {
    "collapsed": false
   },
   "outputs": [],
   "source": [
    "TMY['Hay-Davies'] = pvlib.irradiance.haydavies(surface_tilt=meta['surface_tilt'],\n",
    "                                            surface_azimuth=meta['surface_azimuth'],\n",
    "                                            dhi=TMY.DHI,\n",
    "                                            dni=TMY.DNI,\n",
    "                                            dni_extra=TMY.HExtra,\n",
    "                                            solar_zenith=TMY.SunZen,\n",
    "                                            solar_azimuth=TMY.SunAz)                                "
   ]
  },
  {
   "cell_type": "markdown",
   "metadata": {},
   "source": [
    "## Isotropic"
   ]
  },
  {
   "cell_type": "code",
   "execution_count": 7,
   "metadata": {
    "collapsed": false
   },
   "outputs": [],
   "source": [
    "TMY['Isotropic'] = pvlib.irradiance.isotropic(surface_tilt=meta['surface_tilt'],\n",
    "                                          dhi=TMY.DHI)"
   ]
  },
  {
   "cell_type": "markdown",
   "metadata": {},
   "source": [
    "## King Diffuse model"
   ]
  },
  {
   "cell_type": "code",
   "execution_count": 8,
   "metadata": {
    "collapsed": false
   },
   "outputs": [],
   "source": [
    "TMY['King'] = pvlib.irradiance.king(surface_tilt=meta['surface_tilt'],\n",
    "                                    dhi=TMY.DHI,\n",
    "                                    ghi=TMY.GHI,\n",
    "                                    solar_zenith=TMY.SunZen)"
   ]
  },
  {
   "cell_type": "markdown",
   "metadata": {},
   "source": [
    "## Klucher Model"
   ]
  },
  {
   "cell_type": "code",
   "execution_count": 9,
   "metadata": {
    "collapsed": false
   },
   "outputs": [],
   "source": [
    "TMY['Klucher'] = pvlib.irradiance.klucher(surface_tilt=meta['surface_tilt'],\n",
    "                                       surface_azimuth=meta['surface_azimuth'],\n",
    "                                       dhi=TMY.DHI,\n",
    "                                       ghi=TMY.GHI,\n",
    "                                       solar_zenith=TMY.SunZen,\n",
    "                                       solar_azimuth=TMY.SunAz)                                "
   ]
  },
  {
   "cell_type": "markdown",
   "metadata": {},
   "source": [
    "## Reindl"
   ]
  },
  {
   "cell_type": "code",
   "execution_count": 10,
   "metadata": {
    "collapsed": false
   },
   "outputs": [],
   "source": [
    "TMY['Reindl'] = pvlib.irradiance.reindl(surface_tilt=meta['surface_tilt'],\n",
    "                                     surface_azimuth=meta['surface_azimuth'],\n",
    "                                     dhi=TMY.DHI,\n",
    "                                     dni=TMY.DNI,\n",
    "                                     ghi=TMY.GHI,\n",
    "                                     dni_extra=TMY.HExtra,\n",
    "                                     solar_zenith=TMY.SunZen,\n",
    "                                     solar_azimuth=TMY.SunAz)"
   ]
  },
  {
   "cell_type": "code",
   "execution_count": 11,
   "metadata": {
    "collapsed": false
   },
   "outputs": [],
   "source": [
    "yearly = TMY[models].resample('A', how='sum').squeeze() / 1000.0  # kWh\n",
    "monthly = TMY[models].resample('M', how='sum', kind='period') / 1000.0\n",
    "daily = TMY[models].resample('D', how='sum') / 1000.0"
   ]
  },
  {
   "cell_type": "markdown",
   "metadata": {},
   "source": [
    "## Plot Results"
   ]
  },
  {
   "cell_type": "code",
   "execution_count": 12,
   "metadata": {
    "collapsed": false
   },
   "outputs": [
    {
     "data": {
      "image/png": "[encoded data removed]",
      "text/plain": [
       "<matplotlib.figure.Figure at 0x107f5ab0>"
      ]
     },
     "metadata": {},
     "output_type": "display_data"
    }
   ],
   "source": [
    "ax = TMY[models].plot(title='Modelled in-plane diffuse irradiance');\n",
    "# ax.legend(ncol=3, loc='upper center', title='In-plane diffuse irradiance')\n",
    "ax.set_ylim(0, 800);\n",
    "ylabel = ax.set_ylabel('Diffuse Irradiance [W]');"
   ]
  },
  {
   "cell_type": "code",
   "execution_count": 13,
   "metadata": {
    "collapsed": false
   },
   "outputs": [
    {
     "data": {
      "text/html": [
       "<div>\n",
       "<table border=\"1\" class=\"dataframe\">\n",
       "  <thead>\n",
       "    <tr style=\"text-align: right;\">\n",
       "      <th></th>\n",
       "      <th>Perez</th>\n",
       "      <th>Hay-Davies</th>\n",
       "      <th>Isotropic</th>\n",
       "      <th>King</th>\n",
       "      <th>Klucher</th>\n",
       "      <th>Reindl</th>\n",
       "    </tr>\n",
       "  </thead>\n",
       "  <tbody>\n",
       "    <tr>\n",
       "      <th>count</th>\n",
       "      <td>4131.000000</td>\n",
       "      <td>8760.000000</td>\n",
       "      <td>8760.000000</td>\n",
       "      <td>8760.000000</td>\n",
       "      <td>8760.000000</td>\n",
       "      <td>4578.000000</td>\n",
       "    </tr>\n",
       "    <tr>\n",
       "      <th>mean</th>\n",
       "      <td>95.150988</td>\n",
       "      <td>44.992450</td>\n",
       "      <td>49.094681</td>\n",
       "      <td>53.066640</td>\n",
       "      <td>49.094681</td>\n",
       "      <td>86.484329</td>\n",
       "    </tr>\n",
       "    <tr>\n",
       "      <th>std</th>\n",
       "      <td>65.065273</td>\n",
       "      <td>68.888926</td>\n",
       "      <td>72.134083</td>\n",
       "      <td>76.339057</td>\n",
       "      <td>72.134083</td>\n",
       "      <td>74.768205</td>\n",
       "    </tr>\n",
       "    <tr>\n",
       "      <th>min</th>\n",
       "      <td>6.531089</td>\n",
       "      <td>0.000000</td>\n",
       "      <td>0.000000</td>\n",
       "      <td>0.000000</td>\n",
       "      <td>0.000000</td>\n",
       "      <td>0.000000</td>\n",
       "    </tr>\n",
       "    <tr>\n",
       "      <th>25%</th>\n",
       "      <td>43.834501</td>\n",
       "      <td>0.000000</td>\n",
       "      <td>0.000000</td>\n",
       "      <td>0.000000</td>\n",
       "      <td>0.000000</td>\n",
       "      <td>27.719322</td>\n",
       "    </tr>\n",
       "    <tr>\n",
       "      <th>50%</th>\n",
       "      <td>80.276267</td>\n",
       "      <td>0.937001</td>\n",
       "      <td>3.732051</td>\n",
       "      <td>4.009799</td>\n",
       "      <td>3.732051</td>\n",
       "      <td>66.243902</td>\n",
       "    </tr>\n",
       "    <tr>\n",
       "      <th>75%</th>\n",
       "      <td>134.657759</td>\n",
       "      <td>69.975953</td>\n",
       "      <td>81.172105</td>\n",
       "      <td>91.753825</td>\n",
       "      <td>81.172105</td>\n",
       "      <td>129.688766</td>\n",
       "    </tr>\n",
       "    <tr>\n",
       "      <th>max</th>\n",
       "      <td>436.976154</td>\n",
       "      <td>508.802248</td>\n",
       "      <td>523.420126</td>\n",
       "      <td>538.818466</td>\n",
       "      <td>523.420126</td>\n",
       "      <td>511.670117</td>\n",
       "    </tr>\n",
       "  </tbody>\n",
       "</table>\n",
       "</div>"
      ],
      "text/plain": [
       "             Perez   Hay-Davies    Isotropic         King      Klucher  \\\n",
       "count  4131.000000  8760.000000  8760.000000  8760.000000  8760.000000   \n",
       "mean     95.150988    44.992450    49.094681    53.066640    49.094681   \n",
       "std      65.065273    68.888926    72.134083    76.339057    72.134083   \n",
       "min       6.531089     0.000000     0.000000     0.000000     0.000000   \n",
       "25%      43.834501     0.000000     0.000000     0.000000     0.000000   \n",
       "50%      80.276267     0.937001     3.732051     4.009799     3.732051   \n",
       "75%     134.657759    69.975953    81.172105    91.753825    81.172105   \n",
       "max     436.976154   508.802248   523.420126   538.818466   523.420126   \n",
       "\n",
       "            Reindl  \n",
       "count  4578.000000  \n",
       "mean     86.484329  \n",
       "std      74.768205  \n",
       "min       0.000000  \n",
       "25%      27.719322  \n",
       "50%      66.243902  \n",
       "75%     129.688766  \n",
       "max     511.670117  "
      ]
     },
     "execution_count": 13,
     "metadata": {},
     "output_type": "execute_result"
    }
   ],
   "source": [
    "TMY[models].describe()"
   ]
  },
  {
   "cell_type": "code",
   "execution_count": 14,
   "metadata": {
    "collapsed": false
   },
   "outputs": [
    {
     "data": {
      "image/png": "[encoded data removed]",
      "text/plain": [
       "<matplotlib.figure.Figure at 0x10afa370>"
      ]
     },
     "metadata": {},
     "output_type": "display_data"
    }
   ],
   "source": [
    "TMY[models].dropna().plot(kind='density');"
   ]
  },
  {
   "cell_type": "code",
   "execution_count": 15,
   "metadata": {
    "collapsed": false
   },
   "outputs": [],
   "source": [
    "# print(daily[models]).head()"
   ]
  },
  {
   "cell_type": "code",
   "execution_count": 16,
   "metadata": {
    "collapsed": false
   },
   "outputs": [
    {
     "data": {
      "image/png": "[encoded data removed]",
      "text/plain": [
       "<matplotlib.figure.Figure at 0x1039cff0>"
      ]
     },
     "metadata": {},
     "output_type": "display_data"
    }
   ],
   "source": [
    "#had to remove the timezone to make this plot works\n",
    "daily[models].index.tz = None\n",
    "ax_daily = daily[models].plot(title='Daily diffuse irradiation');\n",
    "ylabel = ax_daily.set_ylabel('Irradiation [kWh]');"
   ]
  },
  {
   "cell_type": "code",
   "execution_count": 17,
   "metadata": {
    "collapsed": false
   },
   "outputs": [
    {
     "data": {
      "image/png": "[encoded data removed]",
      "text/plain": [
       "<matplotlib.figure.Figure at 0x103a96b0>"
      ]
     },
     "metadata": {},
     "output_type": "display_data"
    }
   ],
   "source": [
    "ax_monthly = monthly[models].plot(title='Monthly diffuse irradiation', kind='bar');\n",
    "ylabel = ax_monthly.set_ylabel('Irradiation [kWh]');"
   ]
  },
  {
   "cell_type": "code",
   "execution_count": 18,
   "metadata": {
    "collapsed": false
   },
   "outputs": [
    {
     "data": {
      "image/png": "[encoded data removed]",
      "text/plain": [
       "<matplotlib.figure.Figure at 0x10dfef70>"
      ]
     },
     "metadata": {},
     "output_type": "display_data"
    }
   ],
   "source": [
    "yearly.plot(kind='barh');"
   ]
  },
  {
   "cell_type": "markdown",
   "metadata": {},
   "source": [
    "### Compute the mean deviation from average for each model and display as a function of the model"
   ]
  },
  {
   "cell_type": "code",
   "execution_count": 19,
   "metadata": {
    "collapsed": false
   },
   "outputs": [
    {
     "data": {
      "image/png": "[encoded data removed]",
      "text/plain": [
       "<matplotlib.figure.Figure at 0x12750270>"
      ]
     },
     "metadata": {},
     "output_type": "display_data"
    }
   ],
   "source": [
    "mean_yearly = yearly.mean()\n",
    "yearly_mean_deviation = (yearly - mean_yearly) / yearly * 100.0\n",
    "yearly_mean_deviation.plot(kind='bar');"
   ]
  },
  {
   "cell_type": "markdown",
   "metadata": {
    "collapsed": false
   },
   "source": [
    "## Python and [module versions, and dates](http://nbviewer.ipython.org/github/jrjohansson/scientific-python-lectures/blob/master/Lecture-0-Scientific-Computing-with-Python.ipynb)"
   ]
  },
  {
   "cell_type": "code",
   "execution_count": 20,
   "metadata": {
    "collapsed": false
   },
   "outputs": [
    {
     "data": {
      "application/json": {
       "Software versions": [
        {
         "module": "Python",
         "version": "2.7.8 32bit [MSC v.1500 32 bit (Intel)]"
        },
        {
         "module": "IPython",
         "version": "3.2.0"
        },
        {
         "module": "OS",
         "version": "Windows 7 6.1.7601 SP1"
        },
        {
         "module": "numpy",
         "version": "1.9.2"
        },
        {
         "module": "scipy",
         "version": "0.15.1"
        },
        {
         "module": "matplotlib",
         "version": "1.4.3"
        },
        {
         "module": "pandas",
         "version": "0.16.2"
        },
        {
         "module": "pvlib",
         "version": "0.2.1dev"
        }
       ]
      },
      "text/html": [
       "<table><tr><th>Software</th><th>Version</th></tr><tr><td>Python</td><td>2.7.8 32bit [MSC v.1500 32 bit (Intel)]</td></tr><tr><td>IPython</td><td>3.2.0</td></tr><tr><td>OS</td><td>Windows 7 6.1.7601 SP1</td></tr><tr><td>numpy</td><td>1.9.2</td></tr><tr><td>scipy</td><td>0.15.1</td></tr><tr><td>matplotlib</td><td>1.4.3</td></tr><tr><td>pandas</td><td>0.16.2</td></tr><tr><td>pvlib</td><td>0.2.1dev</td></tr><tr><td colspan='2'>Sun Jul 12 19:48:04 2015 South Africa Standard Time</td></tr></table>"
      ],
      "text/latex": [
       "\\begin{tabular}{|l|l|}\\hline\n",
       "{\\bf Software} & {\\bf Version} \\\\ \\hline\\hline\n",
       "Python & 2.7.8 32bit [MSC v.1500 32 bit (Intel)] \\\\ \\hline\n",
       "IPython & 3.2.0 \\\\ \\hline\n",
       "OS & Windows 7 6.1.7601 SP1 \\\\ \\hline\n",
       "numpy & 1.9.2 \\\\ \\hline\n",
       "scipy & 0.15.1 \\\\ \\hline\n",
       "matplotlib & 1.4.3 \\\\ \\hline\n",
       "pandas & 0.16.2 \\\\ \\hline\n",
       "pvlib & 0.2.1dev \\\\ \\hline\n",
       "\\hline \\multicolumn{2}{|l|}{Sun Jul 12 19:48:04 2015 South Africa Standard Time} \\\\ \\hline\n",
       "\\end{tabular}\n"
      ],
      "text/plain": [
       "Software versions\n",
       "Python 2.7.8 32bit [MSC v.1500 32 bit (Intel)]\n",
       "IPython 3.2.0\n",
       "OS Windows 7 6.1.7601 SP1\n",
       "numpy 1.9.2\n",
       "scipy 0.15.1\n",
       "matplotlib 1.4.3\n",
       "pandas 0.16.2\n",
       "pvlib 0.2.1dev\n",
       "Sun Jul 12 19:48:04 2015 South Africa Standard Time"
      ]
     },
     "execution_count": 20,
     "metadata": {},
     "output_type": "execute_result"
    }
   ],
   "source": [
    "%load_ext version_information\n",
    "%version_information numpy, scipy, matplotlib, pandas, pvlib"
   ]
  },
  {
   "cell_type": "code",
   "execution_count": null,
   "metadata": {
    "collapsed": true
   },
   "outputs": [],
   "source": []
  }
 ],
 "metadata": {
  "kernelspec": {
   "display_name": "Python 2",
   "language": "python",
   "name": "python2"
  },
  "language_info": {
   "codemirror_mode": {
    "name": "ipython",
    "version": 2
   },
   "file_extension": ".py",
   "mimetype": "text/x-python",
   "name": "python",
   "nbconvert_exporter": "python",
   "pygments_lexer": "ipython2",
   "version": "2.7.8"
  }
 },
 "nbformat": 4,
 "nbformat_minor": 0
}
