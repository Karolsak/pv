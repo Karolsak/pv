{
 "cells": [
  {
   "cell_type": "markdown",
   "metadata": {},
   "source": [
    "#Status"
   ]
  },
  {
   "cell_type": "markdown",
   "metadata": {},
   "source": [
    "20150711\n",
    "\n",
    "SHA baaf1f14\n",
    "\n",
    "|?|Notebook | Status|\n",
    "|-|--|--|\n",
    "|+|ET_irradiance.ipynb            |completes to the end, results not yet validated|\n",
    "|+|TS_2_Irradiance_functions.ipynb|solar zenith not correct, completes to the end, results not yet validated|\n",
    "|-|Test_Scripts_1.ipynb           |solar zenith not correct, completes to the end, results not yet validated|\n",
    "|+|atmosphere.ipynb               |completes to the end, results not yet validated|\n",
    "|-|irradiance.ipynb               |solar zenith not correct, completes to the end, results not yet validated|\n",
    "|-|pvsystem.ipynb                 |single diode model dataframe has NaN |\n",
    "|+|solarposition.ipynb            |completes to the end, results not yet validated|\n",
    "|+|tmy.ipynb                      |completes to the end, results not yet validated|\n",
    "|+|tracking.ipynb                 |completes to the end, results not yet validated|\n"
   ]
  },
  {
   "cell_type": "code",
   "execution_count": null,
   "metadata": {
    "collapsed": true
   },
   "outputs": [],
   "source": []
  }
 ],
 "metadata": {
  "kernelspec": {
   "display_name": "Python 2",
   "language": "python",
   "name": "python2"
  },
  "language_info": {
   "codemirror_mode": {
    "name": "ipython",
    "version": 2
   },
   "file_extension": ".py",
   "mimetype": "text/x-python",
   "name": "python",
   "nbconvert_exporter": "python",
   "pygments_lexer": "ipython2",
   "version": "2.7.8"
  }
 },
 "nbformat": 4,
 "nbformat_minor": 0
}
